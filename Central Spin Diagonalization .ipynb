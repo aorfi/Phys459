{
 "cells": [
  {
   "cell_type": "code",
   "execution_count": 407,
   "metadata": {},
   "outputs": [],
   "source": [
    "import numpy as np\n",
    "import matplotlib.pyplot as plt\n",
    "import scipy.linalg as la\n",
    "import cmath\n",
    "import math\n",
    "j = cmath.sqrt(-1)"
   ]
  },
  {
   "cell_type": "code",
   "execution_count": 363,
   "metadata": {},
   "outputs": [],
   "source": [
    "#definition of useful matrices\n",
    "pauliZ = 0.5*np.array([[1,0],[0,-1]], dtype=complex)\n",
    "I = 1.0*np.array([[1,0],[0,1]], dtype=complex)\n",
    "N=2"
   ]
  },
  {
   "cell_type": "code",
   "execution_count": 364,
   "metadata": {
    "scrolled": true
   },
   "outputs": [],
   "source": [
    "#generating array for Sz for particle k, all identity exect the kth position which is pauliZ\n",
    "SkZgen = np.full((N,N,2,2),I, dtype=complex)\n",
    "for i in range(N):\n",
    "    SkZgen[i,i] = pauliZ"
   ]
  },
  {
   "cell_type": "code",
   "execution_count": 365,
   "metadata": {},
   "outputs": [
    {
     "name": "stdout",
     "output_type": "stream",
     "text": [
      "[[[ 0.5+0.j  0. +0.j  0. +0.j  0. +0.j]\n",
      "  [ 0. +0.j  0.5+0.j  0. +0.j  0. +0.j]\n",
      "  [ 0. +0.j  0. +0.j -0.5+0.j -0. +0.j]\n",
      "  [ 0. +0.j  0. +0.j -0. +0.j -0.5+0.j]]\n",
      "\n",
      " [[ 0.5+0.j  0. +0.j  0. +0.j  0. +0.j]\n",
      "  [ 0. +0.j -0.5+0.j  0. +0.j -0. +0.j]\n",
      "  [ 0. +0.j  0. +0.j  0.5+0.j  0. +0.j]\n",
      "  [ 0. +0.j -0. +0.j  0. +0.j -0.5+0.j]]]\n"
     ]
    }
   ],
   "source": [
    "#creates array of SZ operators in Hilbert space of N particles\n",
    "#The element of the array is which particle SZ acts on\n",
    "SZ = np.zeros((N,2**N,2**N), dtype=complex)\n",
    "for i in range(N):\n",
    "    SiZgen = SkZgen[i]\n",
    "    SjZ = SiZgen[0]\n",
    "    for k in range(N-1):\n",
    "        SjZ = np.kron(SjZ,SiZgen[k+1])\n",
    "    SZ[i] = SjZ\n",
    "print(SZ)"
   ]
  },
  {
   "cell_type": "code",
   "execution_count": 366,
   "metadata": {},
   "outputs": [
    {
     "name": "stdout",
     "output_type": "stream",
     "text": [
      "[[ 1.75+0.j  0.  +0.j  0.  +0.j  0.  +0.j]\n",
      " [ 0.  +0.j -0.75+0.j  0.  +0.j  0.  +0.j]\n",
      " [ 0.  +0.j  0.  +0.j -1.75+0.j  0.  +0.j]\n",
      " [ 0.  +0.j  0.  +0.j  0.  +0.j  0.75+0.j]]\n"
     ]
    }
   ],
   "source": [
    "#Define Hamiltonian \n",
    "B = 1\n",
    "A = 5\n",
    "sum = np.zeros((2**N,2**N))\n",
    "for i in range(N-1):\n",
    "    sum = sum + np.matmul(SZ[0],SZ[i+1])\n",
    "H = B*SZ[0]+A*sum\n",
    "print(H)"
   ]
  },
  {
   "cell_type": "code",
   "execution_count": 367,
   "metadata": {},
   "outputs": [
    {
     "name": "stdout",
     "output_type": "stream",
     "text": [
      "[ 1.75 -0.75 -1.75  0.75]\n",
      "[[1.+0.j 0.+0.j 0.+0.j 0.+0.j]\n",
      " [0.+0.j 1.+0.j 0.+0.j 0.+0.j]\n",
      " [0.+0.j 0.+0.j 1.+0.j 0.+0.j]\n",
      " [0.+0.j 0.+0.j 0.+0.j 1.+0.j]]\n"
     ]
    }
   ],
   "source": [
    "#Diagonalize \n",
    "eng = np.real(la.eig(H)[0])\n",
    "basis = la.eig(H)[1]\n",
    "print(eng)\n",
    "print(basis)"
   ]
  },
  {
   "cell_type": "code",
   "execution_count": 441,
   "metadata": {},
   "outputs": [
    {
     "name": "stdout",
     "output_type": "stream",
     "text": [
      "[1.+0.j 0.+0.j 0.+0.j 0.+0.j]\n"
     ]
    }
   ],
   "source": [
    "#Initial State (in Z basis)\n",
    "psi = np.zeros([1,2**N], dtype=complex)\n",
    "psi[0][0]=1\n",
    "print(psi[0])"
   ]
  },
  {
   "cell_type": "code",
   "execution_count": 442,
   "metadata": {},
   "outputs": [],
   "source": [
    "#Change to eigenbasis\n",
    "#DO THIS ALEV"
   ]
  },
  {
   "cell_type": "code",
   "execution_count": 443,
   "metadata": {
    "scrolled": false
   },
   "outputs": [
    {
     "name": "stdout",
     "output_type": "stream",
     "text": [
      "[[[ 1.        +0.j          0.        +0.j\n",
      "    0.        +0.j          0.        +0.j        ]]\n",
      "\n",
      " [[-0.17824606-0.98398595j  0.        +0.j\n",
      "   -0.        +0.j          0.        +0.j        ]]\n",
      "\n",
      " [[-0.93645669+0.35078323j  0.        +0.j\n",
      "    0.        -0.j          0.        +0.j        ]]\n",
      "\n",
      " [[ 0.51208548+0.85893449j -0.        +0.j\n",
      "    0.        +0.j          0.        -0.j        ]]\n",
      "\n",
      " [[ 0.75390225-0.6569866j  -0.        +0.j\n",
      "    0.        +0.j          0.        -0.j        ]]]\n"
     ]
    }
   ],
   "source": [
    "#Evolve\n",
    "steps = 5\n",
    "t = np.arange(steps)\n",
    "psit = np.zeros([steps,1,2**N], dtype=complex)\n",
    "for i in range(steps):\n",
    "    for k in range(2**N):\n",
    "        psit[i][0][k] = psi[0][k]*e**(-j*eng[k]*t[i])\n",
    "print(psit)"
   ]
  },
  {
   "cell_type": "code",
   "execution_count": 444,
   "metadata": {},
   "outputs": [
    {
     "name": "stdout",
     "output_type": "stream",
     "text": [
      "[0.5 0.5 0.5 0.5 0.5]\n"
     ]
    }
   ],
   "source": [
    "#expectation value of SZ0\n",
    "ESZ0 = np.zeros(steps)\n",
    "for i in range(steps):\n",
    "    psitTran = np.transpose(psit[i])\n",
    "    psitCon = np.conjugate(psit[i])\n",
    "    a =np.matmul(SZ[0],psitTran, dtype=complex)\n",
    "    ESZ0[i] = np.real(np.matmul(psitCon,a, dtype=complex))\n",
    "print(ESZ0)\n"
   ]
  },
  {
   "cell_type": "code",
   "execution_count": 445,
   "metadata": {},
   "outputs": [
    {
     "data": {
      "image/png": "[encoded data removed]",
      "text/plain": [
       "<Figure size 432x288 with 1 Axes>"
      ]
     },
     "metadata": {
      "needs_background": "light"
     },
     "output_type": "display_data"
    }
   ],
   "source": [
    "plt.plot(t,ESZ0)\n",
    "plt.title('Time Evolution of <SZ0>')\n",
    "plt.ylabel(\"<EZ0>\")\n",
    "plt.xlabel(\"t\")\n",
    "plt.show()"
   ]
  },
  {
   "cell_type": "code",
   "execution_count": null,
   "metadata": {},
   "outputs": [],
   "source": []
  }
 ],
 "metadata": {
  "kernelspec": {
   "display_name": "Python 3",
   "language": "python",
   "name": "python3"
  },
  "language_info": {
   "codemirror_mode": {
    "name": "ipython",
    "version": 3
   },
   "file_extension": ".py",
   "mimetype": "text/x-python",
   "name": "python",
   "nbconvert_exporter": "python",
   "pygments_lexer": "ipython3",
   "version": "3.7.3"
  }
 },
 "nbformat": 4,
 "nbformat_minor": 2
}
