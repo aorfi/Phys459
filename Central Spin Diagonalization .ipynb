{
 "cells": [
  {
   "cell_type": "code",
   "execution_count": 146,
   "metadata": {},
   "outputs": [],
   "source": [
    "import numpy as np\n",
    "import scipy.linalg as la\n",
    "import cmath"
   ]
  },
  {
   "cell_type": "code",
   "execution_count": 131,
   "metadata": {},
   "outputs": [],
   "source": [
    "#definition of useful matrices\n",
    "pauliZ = 0.5*np.array([[1,0],[0,-1]])\n",
    "I = 1.0*np.array([[1,0],[0,1]])\n",
    "N=3"
   ]
  },
  {
   "cell_type": "code",
   "execution_count": 133,
   "metadata": {
    "scrolled": true
   },
   "outputs": [],
   "source": [
    "#generating array for Sz for particle k, all identity exect the kth position which is pauliZ\n",
    "SkZgen = np.full((N,N,2,2),I)\n",
    "for i in range(N):\n",
    "    SkZgen[i,i] = pauliZ"
   ]
  },
  {
   "cell_type": "code",
   "execution_count": 134,
   "metadata": {},
   "outputs": [],
   "source": [
    "#creates array of SZ operators in Hilbert space of N particles\n",
    "#The element of the array is which particle SZ acts on\n",
    "SZ = np.zeros((N,2**N,2**N))\n",
    "for i in range(N):\n",
    "    SiZgen = SkZgen[i]\n",
    "    SjZ = SiZgen[0]\n",
    "    for j in range(N-1):\n",
    "        SjZ = np.kron(SjZ,SiZgen[j+1])\n",
    "    SZ[i] = SjZ"
   ]
  },
  {
   "cell_type": "code",
   "execution_count": 135,
   "metadata": {},
   "outputs": [
    {
     "name": "stdout",
     "output_type": "stream",
     "text": [
      "[[ 3.   0.   0.   0.   0.   0.   0.   0. ]\n",
      " [ 0.   0.5  0.   0.   0.   0.   0.   0. ]\n",
      " [ 0.   0.   0.5  0.   0.   0.   0.   0. ]\n",
      " [ 0.   0.   0.  -2.   0.   0.   0.   0. ]\n",
      " [ 0.   0.   0.   0.  -3.   0.   0.   0. ]\n",
      " [ 0.   0.   0.   0.   0.  -0.5  0.   0. ]\n",
      " [ 0.   0.   0.   0.   0.   0.  -0.5  0. ]\n",
      " [ 0.   0.   0.   0.   0.   0.   0.   2. ]]\n"
     ]
    }
   ],
   "source": [
    "#Define Hamiltonian \n",
    "B = 1\n",
    "A = 5\n",
    "sum = np.zeros((2**N,2**N))\n",
    "for i in range(N-1):\n",
    "    sum = sum + np.matmul(SZ[0],SZ[i+1])\n",
    "H = B*SZ[0]+A*sum\n",
    "print(H)"
   ]
  },
  {
   "cell_type": "code",
   "execution_count": 136,
   "metadata": {},
   "outputs": [
    {
     "name": "stdout",
     "output_type": "stream",
     "text": [
      "[ 3. +0.j  0.5+0.j  0.5+0.j -2. +0.j -3. +0.j -0.5+0.j -0.5+0.j  2. +0.j]\n",
      "[[1. 0. 0. 0. 0. 0. 0. 0.]\n",
      " [0. 1. 0. 0. 0. 0. 0. 0.]\n",
      " [0. 0. 1. 0. 0. 0. 0. 0.]\n",
      " [0. 0. 0. 1. 0. 0. 0. 0.]\n",
      " [0. 0. 0. 0. 1. 0. 0. 0.]\n",
      " [0. 0. 0. 0. 0. 1. 0. 0.]\n",
      " [0. 0. 0. 0. 0. 0. 1. 0.]\n",
      " [0. 0. 0. 0. 0. 0. 0. 1.]]\n"
     ]
    }
   ],
   "source": [
    "#Diagonalize \n",
    "eng = la.eig(H)[0]\n",
    "basis = la.eig(H)[1]\n",
    "print(eng)\n",
    "print(basis)"
   ]
  },
  {
   "cell_type": "code",
   "execution_count": 160,
   "metadata": {},
   "outputs": [
    {
     "name": "stdout",
     "output_type": "stream",
     "text": [
      "[[1.+0.j 0.+0.j 0.+0.j 0.+0.j 0.+0.j 0.+0.j 0.+0.j 0.+0.j]]\n"
     ]
    }
   ],
   "source": [
    "#Initial State \n",
    "psi = np.zeros([1,2**N], dtype=complex)\n",
    "psi[0][0]=1+0j\n",
    "print(psi)"
   ]
  },
  {
   "cell_type": "code",
   "execution_count": 161,
   "metadata": {},
   "outputs": [],
   "source": [
    "#Change to eigenbasis\n",
    "test = np.array([[-14,-28,-44],[-7,-14,-23],[9,18,29]])\n",
    "\n",
    "\n"
   ]
  },
  {
   "cell_type": "code",
   "execution_count": 164,
   "metadata": {},
   "outputs": [
    {
     "name": "stdout",
     "output_type": "stream",
     "text": [
      "[[0.04978707+0.j 0.60653066+0.j 0.60653066+0.j 0.        +0.j\n",
      "  0.        +0.j 0.        +0.j 0.        +0.j 0.        +0.j]]\n"
     ]
    }
   ],
   "source": [
    "#Evolve\n",
    "t = np.arange(100)\n",
    "psit = np.zeros([1,2**N], dtype=complex)\n",
    "for i in range(N):\n",
    "    psit[0][i] = cmath.exp(-j*eng[i])\n",
    "print(psit)"
   ]
  },
  {
   "cell_type": "code",
   "execution_count": null,
   "metadata": {},
   "outputs": [],
   "source": []
  }
 ],
 "metadata": {
  "kernelspec": {
   "display_name": "Python 3",
   "language": "python",
   "name": "python3"
  },
  "language_info": {
   "codemirror_mode": {
    "name": "ipython",
    "version": 3
   },
   "file_extension": ".py",
   "mimetype": "text/x-python",
   "name": "python",
   "nbconvert_exporter": "python",
   "pygments_lexer": "ipython3",
   "version": "3.7.3"
  }
 },
 "nbformat": 4,
 "nbformat_minor": 2
}
