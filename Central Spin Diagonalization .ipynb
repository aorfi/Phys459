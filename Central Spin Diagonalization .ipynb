{
 "cells": [
  {
   "cell_type": "code",
   "execution_count": 262,
   "metadata": {},
   "outputs": [],
   "source": [
    "import numpy as np\n",
    "import scipy.linalg as la\n",
    "import cmath\n",
    "import math\n",
    "j = cmath.sqrt(-1)"
   ]
  },
  {
   "cell_type": "code",
   "execution_count": 216,
   "metadata": {},
   "outputs": [],
   "source": [
    "#definition of useful matrices\n",
    "pauliZ = 0.5*np.array([[1,0],[0,-1]])\n",
    "I = 1.0*np.array([[1,0],[0,1]])\n",
    "N=2"
   ]
  },
  {
   "cell_type": "code",
   "execution_count": 217,
   "metadata": {
    "scrolled": true
   },
   "outputs": [],
   "source": [
    "#generating array for Sz for particle k, all identity exect the kth position which is pauliZ\n",
    "SkZgen = np.full((N,N,2,2),I)\n",
    "for i in range(N):\n",
    "    SkZgen[i,i] = pauliZ"
   ]
  },
  {
   "cell_type": "code",
   "execution_count": 218,
   "metadata": {},
   "outputs": [],
   "source": [
    "#creates array of SZ operators in Hilbert space of N particles\n",
    "#The element of the array is which particle SZ acts on\n",
    "SZ = np.zeros((N,2**N,2**N))\n",
    "for i in range(N):\n",
    "    SiZgen = SkZgen[i]\n",
    "    SjZ = SiZgen[0]\n",
    "    for k in range(N-1):\n",
    "        SjZ = np.kron(SjZ,SiZgen[k+1])\n",
    "    SZ[i] = SjZ"
   ]
  },
  {
   "cell_type": "code",
   "execution_count": 219,
   "metadata": {},
   "outputs": [
    {
     "name": "stdout",
     "output_type": "stream",
     "text": [
      "[[ 1.75  0.    0.    0.  ]\n",
      " [ 0.   -0.75  0.    0.  ]\n",
      " [ 0.    0.   -1.75  0.  ]\n",
      " [ 0.    0.    0.    0.75]]\n"
     ]
    }
   ],
   "source": [
    "#Define Hamiltonian \n",
    "B = 1\n",
    "A = 5\n",
    "sum = np.zeros((2**N,2**N))\n",
    "for i in range(N-1):\n",
    "    sum = sum + np.matmul(SZ[0],SZ[i+1])\n",
    "H = B*SZ[0]+A*sum\n",
    "print(H)"
   ]
  },
  {
   "cell_type": "code",
   "execution_count": 245,
   "metadata": {},
   "outputs": [
    {
     "name": "stdout",
     "output_type": "stream",
     "text": [
      "[ 1.75 -0.75 -1.75  0.75]\n",
      "[[1. 0. 0. 0.]\n",
      " [0. 1. 0. 0.]\n",
      " [0. 0. 1. 0.]\n",
      " [0. 0. 0. 1.]]\n"
     ]
    }
   ],
   "source": [
    "#Diagonalize \n",
    "eng = np.real(la.eig(H)[0])\n",
    "basis = la.eig(H)[1]\n",
    "print(eng)\n",
    "print(basis)"
   ]
  },
  {
   "cell_type": "code",
   "execution_count": 246,
   "metadata": {},
   "outputs": [
    {
     "name": "stdout",
     "output_type": "stream",
     "text": [
      "[[1.+0.j 0.+0.j 0.+0.j 0.+0.j]]\n"
     ]
    }
   ],
   "source": [
    "#Initial State \n",
    "psi = np.zeros([1,2**N], dtype=complex)\n",
    "psi[0][0]=1+0j\n",
    "print(psi)"
   ]
  },
  {
   "cell_type": "code",
   "execution_count": 247,
   "metadata": {},
   "outputs": [],
   "source": [
    "#Change to eigenbasis\n",
    "test = np.array([[-14,-28,-44],[-7,-14,-23],[9,18,29]])\n",
    "\n",
    "\n"
   ]
  },
  {
   "cell_type": "code",
   "execution_count": 272,
   "metadata": {},
   "outputs": [
    {
     "name": "stdout",
     "output_type": "stream",
     "text": [
      "[0 1 2 3 4]\n",
      "[[[ 1.        +0.j          1.        +0.j\n",
      "    1.        +0.j          1.        +0.j        ]]\n",
      "\n",
      " [[-0.17824606-0.98398595j  0.73168887+0.68163876j\n",
      "   -0.17824606+0.98398595j  0.73168887-0.68163876j]]\n",
      "\n",
      " [[-0.93645669+0.35078323j  0.0707372 +0.99749499j\n",
      "   -0.93645669-0.35078323j  0.0707372 -0.99749499j]]\n",
      "\n",
      " [[ 0.51208548+0.85893449j -0.62817362+0.7780732j\n",
      "    0.51208548-0.85893449j -0.62817362-0.7780732j ]]\n",
      "\n",
      " [[ 0.75390225-0.6569866j  -0.9899925 +0.14112001j\n",
      "    0.75390225+0.6569866j  -0.9899925 -0.14112001j]]]\n"
     ]
    }
   ],
   "source": [
    "#Evolve\n",
    "steps = 5\n",
    "t = np.arange(steps)\n",
    "print(t)\n",
    "psit = np.zeros([steps,1,2**N], dtype=complex)\n",
    "for i in range(steps):\n",
    "    for k in range(2**N):\n",
    "        psit[i][0][k] = e**(-j*eng[k]*t[i])\n",
    "print(psit)"
   ]
  },
  {
   "cell_type": "code",
   "execution_count": 303,
   "metadata": {},
   "outputs": [
    {
     "name": "stdout",
     "output_type": "stream",
     "text": [
      "[[ 0.5+0.j]\n",
      " [ 0.5+0.j]\n",
      " [-0.5+0.j]\n",
      " [-0.5+0.j]]\n",
      "[[ 0.75390225-0.6569866j  -0.9899925 +0.14112001j  0.75390225+0.6569866j\n",
      "  -0.9899925 -0.14112001j]]\n",
      "[[4.+0.j]]\n"
     ]
    }
   ],
   "source": [
    "#expectation value of SZ0\n",
    "\n",
    "for i in range(steps):\n",
    "    psitTran = np.conjugate(np.transpose(psit[0]))\n",
    "    a =np.matmul(SZ[0],psitTran, dtype=complex)\n",
    "    ESZ0 = np.matmul(psit[0],psitTran, dtype=complex)\n",
    "print(a)\n",
    "print(psit[i])\n",
    "print(ESZ0)\n"
   ]
  },
  {
   "cell_type": "code",
   "execution_count": 290,
   "metadata": {},
   "outputs": [
    {
     "name": "stdout",
     "output_type": "stream",
     "text": [
      "[2.19381501+0.j]\n",
      "[2.19381501-0.j]\n"
     ]
    }
   ],
   "source": [
    "test = ESZ0[0]\n",
    "tra = np.conjugate(test)\n",
    "print(test)\n",
    "print(tra)"
   ]
  },
  {
   "cell_type": "code",
   "execution_count": null,
   "metadata": {},
   "outputs": [],
   "source": []
  }
 ],
 "metadata": {
  "kernelspec": {
   "display_name": "Python 3",
   "language": "python",
   "name": "python3"
  },
  "language_info": {
   "codemirror_mode": {
    "name": "ipython",
    "version": 3
   },
   "file_extension": ".py",
   "mimetype": "text/x-python",
   "name": "python",
   "nbconvert_exporter": "python",
   "pygments_lexer": "ipython3",
   "version": "3.7.3"
  }
 },
 "nbformat": 4,
 "nbformat_minor": 2
}
