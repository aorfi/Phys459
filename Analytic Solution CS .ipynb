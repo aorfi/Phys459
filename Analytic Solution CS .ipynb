{
 "cells": [
  {
   "cell_type": "code",
   "execution_count": 113,
   "metadata": {},
   "outputs": [],
   "source": [
    "from qutip import *\n",
    "import numpy as np\n",
    "import matplotlib.pyplot as plt\n",
    "import math\n",
    "import cmath\n",
    "from math import e\n",
    "j = cmath.sqrt(-1)"
   ]
  },
  {
   "cell_type": "code",
   "execution_count": 3,
   "metadata": {},
   "outputs": [],
   "source": [
    "#operator definitionis\n",
    "N=2\n",
    "si = qeye(2)\n",
    "sx = 0.5*sigmax()\n",
    "sy = 0.5*sigmay()\n",
    "sz = 0.5*sigmaz()"
   ]
  },
  {
   "cell_type": "code",
   "execution_count": 399,
   "metadata": {},
   "outputs": [],
   "source": [
    "#make list of tensor products\n",
    "sx_list = []\n",
    "sy_list = []\n",
    "sz_list = []\n",
    "\n",
    "for n in range(N):\n",
    "    op_list = []\n",
    "    for m in range(N):\n",
    "        op_list.append(si)\n",
    "\n",
    "    op_list[n] = sx\n",
    "    sx_list.append(tensor(op_list))\n",
    "\n",
    "    op_list[n] = sy\n",
    "    sy_list.append(tensor(op_list))\n",
    "\n",
    "    op_list[n] = sz\n",
    "    sz_list.append(tensor(op_list))"
   ]
  },
  {
   "cell_type": "code",
   "execution_count": 400,
   "metadata": {},
   "outputs": [
    {
     "name": "stdout",
     "output_type": "stream",
     "text": [
      "Quantum object: dims = [[2, 2], [2, 2]], shape = (4, 4), type = oper, isherm = True\n",
      "Qobj data =\n",
      "[[ 0.25  0.    0.    0.  ]\n",
      " [ 0.   -0.25  0.5   0.  ]\n",
      " [ 0.    0.5  -0.25  0.  ]\n",
      " [ 0.    0.    0.    0.25]]\n"
     ]
    }
   ],
   "source": [
    "#construct Hamiltonian\n",
    "B = 0\n",
    "A0 = 1\n",
    "H = B*sz_list[0] \n",
    "for n in range(N-1):\n",
    "    H += A0*sz_list[0]*sz_list[n+1] + A0*sx_list[0]*sx_list[n+1] + A0*sy_list[0]*sy_list[n+1]\n",
    "print(H)"
   ]
  },
  {
   "cell_type": "code",
   "execution_count": 401,
   "metadata": {},
   "outputs": [],
   "source": [
    "#Find eigenvalues and eigenvectors\n",
    "ebasis = H.eigenstates()[1]\n",
    "eng = H.eigenstates()[0]"
   ]
  },
  {
   "cell_type": "code",
   "execution_count": 404,
   "metadata": {},
   "outputs": [
    {
     "data": {
      "text/latex": [
       "Quantum object: dims = [[4], [1]], shape = (4, 1), type = ket\\begin{equation*}\\left(\\begin{array}{*{11}c}0.0\\\\1.0\\\\0.0\\\\0.0\\\\\\end{array}\\right)\\end{equation*}"
      ],
      "text/plain": [
       "Quantum object: dims = [[4], [1]], shape = (4, 1), type = ket\n",
       "Qobj data =\n",
       "[[0.]\n",
       " [1.]\n",
       " [0.]\n",
       " [0.]]"
      ]
     },
     "execution_count": 404,
     "metadata": {},
     "output_type": "execute_result"
    }
   ],
   "source": [
    "#Create initial state\n",
    "#Define spin up as 0 and spin down as 1, with the index the position of the particle\n",
    "spin = np.full(N,0)\n",
    "spin[1] = 1\n",
    "index = 0\n",
    "for i in range(N):\n",
    "    index += 2**(i)*spin[N-1-i]\n",
    "allup = basis(2**N,0)\n",
    "#Create state in tensor product basis\n",
    "psi0 = basis(2**N,index)\n",
    "psi0"
   ]
  },
  {
   "cell_type": "code",
   "execution_count": 405,
   "metadata": {},
   "outputs": [],
   "source": [
    "#Evolution\n",
    "steps = 50\n",
    "times = np.linspace(0,7)\n",
    "result = sesolve(H, psi0, times, [sz_list[0]])"
   ]
  },
  {
   "cell_type": "code",
   "execution_count": 406,
   "metadata": {},
   "outputs": [
    {
     "data": {
      "image/png": "[encoded data removed]",
      "text/plain": [
       "<Figure size 432x288 with 1 Axes>"
      ]
     },
     "metadata": {
      "needs_background": "light"
     },
     "output_type": "display_data"
    }
   ],
   "source": [
    "plt.plot(times, result.expect[0])\n",
    "plt.title('Time Evolution of <SZ0>')\n",
    "plt.ylabel(\"<EZ0>\")\n",
    "plt.xlabel(\"t\")\n",
    "plt.show()"
   ]
  },
  {
   "cell_type": "code",
   "execution_count": null,
   "metadata": {},
   "outputs": [],
   "source": []
  },
  {
   "cell_type": "code",
   "execution_count": 407,
   "metadata": {},
   "outputs": [
    {
     "name": "stdout",
     "output_type": "stream",
     "text": [
      "s: 0.5\n",
      "ms: [-0.5, 0.5]\n"
     ]
    }
   ],
   "source": [
    "#given N finds values of s (highest weight) and ms\n",
    "s = (N-1)/2\n",
    "m = -s\n",
    "ms = [m]\n",
    "for i in range(N):\n",
    "    if m < s:\n",
    "        m = m + 1\n",
    "        ms.append(m)\n",
    "print(\"s:\",s)\n",
    "print(\"ms:\",ms)"
   ]
  },
  {
   "cell_type": "code",
   "execution_count": 408,
   "metadata": {},
   "outputs": [],
   "source": [
    "#function to give eigenvectors of the 2by2 block for a given s and m (take lowest value of m)\n",
    "def generalBlock(s,m):\n",
    "    g = math.sqrt(s*(s+1)-m*(m+1))\n",
    "    BlockGen = np.array([[0.5*B + 0.5*A0*m, 0.5*A0*g],[0.5*A0*g,-0.5*B - 0.5*A0*(m+1)]])\n",
    "    Block = Qobj(BlockGen)\n",
    "    return Block.eigenstates()"
   ]
  },
  {
   "cell_type": "code",
   "execution_count": 409,
   "metadata": {
    "scrolled": true
   },
   "outputs": [
    {
     "name": "stdout",
     "output_type": "stream",
     "text": [
      "Energy Eigenvalues: \n",
      " [0.25, 0.25, -0.75, 0.25]\n",
      "|j,mj> Coefficients: \n",
      " [Quantum object: dims = [[2], [1]], shape = (2, 1), type = ket\n",
      "Qobj data =\n",
      "[[0.]\n",
      " [1.]], Quantum object: dims = [[2], [1]], shape = (2, 1), type = ket\n",
      "Qobj data =\n",
      "[[0.70710678]\n",
      " [0.70710678]], Quantum object: dims = [[2], [1]], shape = (2, 1), type = ket\n",
      "Qobj data =\n",
      "[[ 0.70710678]\n",
      " [-0.70710678]], Quantum object: dims = [[2], [1]], shape = (2, 1), type = ket\n",
      "Qobj data =\n",
      "[[1.]\n",
      " [0.]]]\n"
     ]
    }
   ],
   "source": [
    "#Make list of eigenvalues in order of |j,mj> basis\n",
    "E = []\n",
    "numStates = int(2*(2*s+1))\n",
    "for i in range(numStates):\n",
    "        if i%2:\n",
    "            E.append(generalBlock(s,s)[0][1])\n",
    "        else:\n",
    "            E.append(generalBlock(s,s)[0][0])\n",
    "E[0] = generalBlock(s,s)[0][1]\n",
    "E[numStates-1] = generalBlock(s,s)[0][1]\n",
    "\n",
    "#list of Coefficients of |s,ms,s0> for each |j,mj>\n",
    "coefAllUp = Qobj([[0],[1]])\n",
    "coefAllDown = Qobj([[1],[0]])\n",
    "Coef = [coefAllUp] \n",
    "for i in range(len(ms)-1): \n",
    "    x = len(ms)-2-i\n",
    "    Coef.append(generalBlock(s,ms[x])[1][1]) \n",
    "    Coef.append(generalBlock(s,ms[x])[1][0]) \n",
    "Coef.append(coefAllDown)\n",
    "print(\"Energy Eigenvalues: \\n\", E)\n",
    "print(\"|j,mj> Coefficients: \\n\", (Coef))"
   ]
  },
  {
   "cell_type": "code",
   "execution_count": 411,
   "metadata": {},
   "outputs": [
    {
     "data": {
      "text/latex": [
       "Quantum object: dims = [[4], [1]], shape = (4, 1), type = ket\\begin{equation*}\\left(\\begin{array}{*{11}c}0.0\\\\1.0\\\\0.0\\\\0.0\\\\\\end{array}\\right)\\end{equation*}"
      ],
      "text/plain": [
       "Quantum object: dims = [[4], [1]], shape = (4, 1), type = ket\n",
       "Qobj data =\n",
       "[[0.]\n",
       " [1.]\n",
       " [0.]\n",
       " [0.]]"
      ]
     },
     "execution_count": 411,
     "metadata": {},
     "output_type": "execute_result"
    }
   ],
   "source": [
    "#Initial State (in |s,ms,s0> basis)\n",
    "#basis labeled by |s,s,up>, |s,s-1,up>, |s,s,down>, |s,s-2,up, .. |s,-s,down>\n",
    "psi0 = basis(numStates,1)\n",
    "psi0 #is state |s,s-1,up>"
   ]
  },
  {
   "cell_type": "code",
   "execution_count": 412,
   "metadata": {},
   "outputs": [
    {
     "data": {
      "text/latex": [
       "Quantum object: dims = [[4], [4]], shape = (4, 4), type = oper, isherm = True\\begin{equation*}\\left(\\begin{array}{*{11}c}1.0 & 0.0 & 0.0 & 0.0\\\\0.0 & 0.707 & 0.707 & 0.0\\\\0.0 & 0.707 & -0.707 & 0.0\\\\0.0 & 0.0 & 0.0 & 1.0\\\\\\end{array}\\right)\\end{equation*}"
      ],
      "text/plain": [
       "Quantum object: dims = [[4], [4]], shape = (4, 4), type = oper, isherm = True\n",
       "Qobj data =\n",
       "[[ 1.          0.          0.          0.        ]\n",
       " [ 0.          0.70710678  0.70710678  0.        ]\n",
       " [ 0.          0.70710678 -0.70710678  0.        ]\n",
       " [ 0.          0.          0.          1.        ]]"
      ]
     },
     "execution_count": 412,
     "metadata": {},
     "output_type": "execute_result"
    }
   ],
   "source": [
    "#Change of basis matrix\n",
    "ChangeEl = np.zeros((numStates,numStates), dtype=complex)\n",
    "ChangeEl[0][0] = 1\n",
    "ChangeEl[numStates-1][numStates-1] = 1\n",
    "#assign coeff \n",
    "for i in range(numStates-2):\n",
    "    if i%2 == 0:\n",
    "        ChangeEl[i+1][i+1] = Coef[i+1][0]\n",
    "        ChangeEl[i+2][i+1] = Coef[i+2][0]\n",
    "    if i%2 == 1:\n",
    "        ChangeEl[i][i+1] = Coef[i][1]\n",
    "        ChangeEl[i+1][i+1] = Coef[i+1][1]\n",
    "ChangeOfB = Qobj(ChangeEl)\n",
    "ChangeOfB"
   ]
  },
  {
   "cell_type": "code",
   "execution_count": 413,
   "metadata": {},
   "outputs": [
    {
     "data": {
      "text/latex": [
       "Quantum object: dims = [[4], [1]], shape = (4, 1), type = ket\\begin{equation*}\\left(\\begin{array}{*{11}c}0.0\\\\0.707\\\\0.707\\\\0.0\\\\\\end{array}\\right)\\end{equation*}"
      ],
      "text/plain": [
       "Quantum object: dims = [[4], [1]], shape = (4, 1), type = ket\n",
       "Qobj data =\n",
       "[[0.        ]\n",
       " [0.70710678]\n",
       " [0.70710678]\n",
       " [0.        ]]"
      ]
     },
     "execution_count": 413,
     "metadata": {},
     "output_type": "execute_result"
    }
   ],
   "source": [
    "#Change initial state to |j,mj> basis\n",
    "psi0J = ChangeOfB*psi0\n",
    "psi0J"
   ]
  },
  {
   "cell_type": "code",
   "execution_count": 414,
   "metadata": {},
   "outputs": [],
   "source": [
    "#Time Evolution of initial state\n",
    "steps = 50\n",
    "tCoeffStep = np.zeros(numStates, dtype=Qobj)\n",
    "psiT = []\n",
    "exp = 0\n",
    "for k in range(steps):\n",
    "    for i in range(numStates):\n",
    "        exp = e**(-j*E[i]*times[k])\n",
    "        tCoeffStep[i] = psi0J[i]*exp\n",
    "    psiTi = Qobj(tCoeffStep)\n",
    "    psiT.append(psiTi)"
   ]
  },
  {
   "cell_type": "code",
   "execution_count": 415,
   "metadata": {},
   "outputs": [],
   "source": [
    "#bra of |psiT>\n",
    "CpsiT = []\n",
    "for i in range(steps):\n",
    "    CpsiTi = psiT[i].dag()\n",
    "    CpsiT.append(CpsiTi)"
   ]
  },
  {
   "cell_type": "code",
   "execution_count": 416,
   "metadata": {},
   "outputs": [
    {
     "name": "stdout",
     "output_type": "stream",
     "text": [
      "Quantum object: dims = [[1], [1]], shape = (1, 1), type = bra\n",
      "Qobj data =\n",
      "[[1.]]\n"
     ]
    }
   ],
   "source": [
    "#Check normalization\n",
    "print(CpsiT[2]*psiT[2])"
   ]
  },
  {
   "cell_type": "code",
   "execution_count": 417,
   "metadata": {},
   "outputs": [
    {
     "data": {
      "text/latex": [
       "Quantum object: dims = [[4], [4]], shape = (4, 4), type = oper, isherm = True\\begin{equation*}\\left(\\begin{array}{*{11}c}1.0 & 0.0 & 0.0 & 0.0\\\\0.0 & 1.0 & 0.0 & 0.0\\\\0.0 & 0.0 & -1.0 & 0.0\\\\0.0 & 0.0 & 0.0 & 1.0\\\\\\end{array}\\right)\\end{equation*}"
      ],
      "text/plain": [
       "Quantum object: dims = [[4], [4]], shape = (4, 4), type = oper, isherm = True\n",
       "Qobj data =\n",
       "[[ 1.  0.  0.  0.]\n",
       " [ 0.  1.  0.  0.]\n",
       " [ 0.  0. -1.  0.]\n",
       " [ 0.  0.  0.  1.]]"
      ]
     },
     "execution_count": 417,
     "metadata": {},
     "output_type": "execute_result"
    }
   ],
   "source": [
    "#Define S0z in |s,ms,s0> basis\n",
    "S0z = np.zeros((numStates,numStates))\n",
    "S0z[0][0] = 1\n",
    "S0z[numStates-1][numStates-1] = 1\n",
    "for i in range(numStates-2):\n",
    "    if i%2 == 0:\n",
    "        S0z[i+1][i+1] = 1\n",
    "    if i%2 == 1:\n",
    "        S0z[i+1][i+1] = -1\n",
    "S0zs = Qobj(S0z)\n",
    "S0zs"
   ]
  },
  {
   "cell_type": "code",
   "execution_count": 418,
   "metadata": {},
   "outputs": [
    {
     "data": {
      "text/latex": [
       "Quantum object: dims = [[4], [4]], shape = (4, 4), type = oper, isherm = True\\begin{equation*}\\left(\\begin{array}{*{11}c}1.0 & 0.0 & 0.0 & 0.0\\\\0.0 & 0.0 & 1.0 & 0.0\\\\0.0 & 1.0 & 0.0 & 0.0\\\\0.0 & 0.0 & 0.0 & 1.0\\\\\\end{array}\\right)\\end{equation*}"
      ],
      "text/plain": [
       "Quantum object: dims = [[4], [4]], shape = (4, 4), type = oper, isherm = True\n",
       "Qobj data =\n",
       "[[1. 0. 0. 0.]\n",
       " [0. 0. 1. 0.]\n",
       " [0. 1. 0. 0.]\n",
       " [0. 0. 0. 1.]]"
      ]
     },
     "execution_count": 418,
     "metadata": {},
     "output_type": "execute_result"
    }
   ],
   "source": [
    "#Change S0z to |j,mj> basis\n",
    "S0zj = ChangeOfB*S0zs*(ChangeOfB.dag())\n",
    "S0zj"
   ]
  },
  {
   "cell_type": "code",
   "execution_count": 419,
   "metadata": {},
   "outputs": [],
   "source": [
    "#expectation value of SZ0\n",
    "S0zT = np.zeros(steps, dtype = complex)\n",
    "for i in range(steps):\n",
    "    S0zTi = CpsiT[i]*S0zj*psiT[i]\n",
    "    S0zT[i] = (S0zTi[0][0])\n",
    "  "
   ]
  },
  {
   "cell_type": "code",
   "execution_count": 420,
   "metadata": {},
   "outputs": [
    {
     "name": "stderr",
     "output_type": "stream",
     "text": [
      "C:\\Users\\aorfi\\Anaconda3\\envs\\qutip-env\\lib\\site-packages\\numpy\\core\\numeric.py:538: ComplexWarning: Casting complex values to real discards the imaginary part\n",
      "  return array(a, dtype, copy=False, order=order)\n"
     ]
    },
    {
     "data": {
      "image/png": "[encoded data removed]",
      "text/plain": [
       "<Figure size 432x288 with 1 Axes>"
      ]
     },
     "metadata": {
      "needs_background": "light"
     },
     "output_type": "display_data"
    }
   ],
   "source": [
    "plt.plot(times,S0zT)\n",
    "plt.title('Time Evolution of <SZ0>')\n",
    "plt.ylabel(\"<SZ0>\")\n",
    "plt.xlabel(\"t\")\n",
    "plt.show()"
   ]
  },
  {
   "cell_type": "code",
   "execution_count": null,
   "metadata": {},
   "outputs": [],
   "source": []
  },
  {
   "cell_type": "code",
   "execution_count": null,
   "metadata": {},
   "outputs": [],
   "source": []
  }
 ],
 "metadata": {
  "kernelspec": {
   "display_name": "Python 3",
   "language": "python",
   "name": "python3"
  },
  "language_info": {
   "codemirror_mode": {
    "name": "ipython",
    "version": 3
   },
   "file_extension": ".py",
   "mimetype": "text/x-python",
   "name": "python",
   "nbconvert_exporter": "python",
   "pygments_lexer": "ipython3",
   "version": "3.7.4"
  }
 },
 "nbformat": 4,
 "nbformat_minor": 2
}
