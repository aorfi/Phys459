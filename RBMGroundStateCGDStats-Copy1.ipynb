{
 "cells": [
  {
   "cell_type": "code",
   "execution_count": 3,
   "metadata": {},
   "outputs": [],
   "source": [
    "import json\n",
    "from qutip import *\n",
    "import numpy as np\n",
    "import scipy\n",
    "import cmath\n",
    "import matplotlib.pyplot as plt\n",
    "plt.style.use('seaborn')\n",
    "import itertools\n",
    "from numpy.random import seed\n",
    "from numpy.random import rand\n",
    "from itertools import product\n",
    "from scipy.misc import derivative\n",
    "from scipy import optimize\n",
    "from functools import wraps\n",
    "from time import time\n",
    "from scipy.optimize import minimize\n",
    "from matplotlib import gridspec\n"
   ]
  },
  {
   "cell_type": "code",
   "execution_count": 4,
   "metadata": {},
   "outputs": [],
   "source": [
    "#Wrapper to time functions\n",
    "def timing(f):\n",
    "    @wraps(f)\n",
    "    def wrap(*args, **kw):\n",
    "        ti = time()\n",
    "        result = f(*args, **kw)\n",
    "        tf = time()\n",
    "        t = tf-ti\n",
    "        return result, t\n",
    "    return wrap"
   ]
  },
  {
   "cell_type": "code",
   "execution_count": 5,
   "metadata": {
    "scrolled": true
   },
   "outputs": [],
   "source": [
    "#Make basis and get sz values\n",
    "def operatorCreation(N):\n",
    "    #operator definitionis\n",
    "    si = qeye(2)\n",
    "    sx = 0.5*sigmax()\n",
    "    sy = 0.5*sigmay()\n",
    "    sz = 0.5*sigmaz()\n",
    "\n",
    "    sx_list = []\n",
    "    sy_list = []\n",
    "    sz_list = []\n",
    "    \n",
    "\n",
    "    for n in range(N):\n",
    "        op_list = []\n",
    "        for m in range(N):\n",
    "            op_list.append(si)\n",
    "\n",
    "        op_list[n] = sx\n",
    "        sx_list.append(tensor(op_list))\n",
    "\n",
    "        op_list[n] = sy\n",
    "        sy_list.append(tensor(op_list))\n",
    "\n",
    "        op_list[n] = sz\n",
    "        sz_list.append(tensor(op_list))\n",
    "        \n",
    "        op_list[n] = si\n",
    "    id = tensor(op_list)\n",
    "        \n",
    "    return sx_list, sy_list, sz_list,id"
   ]
  },
  {
   "cell_type": "code",
   "execution_count": 6,
   "metadata": {},
   "outputs": [],
   "source": [
    "#Construct Hamiltonian\n",
    "def hamiltonian(N,B,A0):\n",
    "    sx_list = operatorCreation(N)[0]\n",
    "    sy_list = operatorCreation(N)[1]\n",
    "    sz_list = operatorCreation(N)[2]\n",
    "    H = B*sz_list[0] \n",
    "    for n in range(N-1):\n",
    "        H += A0*sz_list[0]*sz_list[n+1] + A0*sx_list[0]*sx_list[n+1] + A0*sy_list[0]*sy_list[n+1]\n",
    "    return H"
   ]
  },
  {
   "cell_type": "code",
   "execution_count": 7,
   "metadata": {},
   "outputs": [],
   "source": [
    "#Check if dengerate\n",
    "def CheckDegenerate(H):\n",
    "    estates = H.eigenstates()\n",
    "    lowState = estates[0][0]\n",
    "    secLowState = estates[0][1]\n",
    "    if (abs(lowState-secLowState))<= 1e-10:\n",
    "        return True\n",
    "    else:\n",
    "        return False"
   ]
  },
  {
   "cell_type": "code",
   "execution_count": 8,
   "metadata": {},
   "outputs": [],
   "source": [
    "#Get Ground State Energy and Wavefuntion\n",
    "class GroundState:\n",
    "    \n",
    "    def __init__(self, N, B, A0):\n",
    "        self.hamiltonian = hamiltonian(N, B, A0)\n",
    "     \n",
    "    @timing\n",
    "    def __call__(self):\n",
    "        #find ground state\n",
    "        H = self.hamiltonian\n",
    "        groundState= H.groundstate()\n",
    "        return groundState[0],groundState[1]"
   ]
  },
  {
   "cell_type": "code",
   "execution_count": 9,
   "metadata": {},
   "outputs": [],
   "source": [
    "#Make basis and get sz values\n",
    "def basisCreation(N):\n",
    "    sz_list = operatorCreation(N)[2]\n",
    "    Sbasis = []\n",
    "    basisState = []\n",
    "   \n",
    "    for j in range(2):\n",
    "        basisState.append(basis(2,j))\n",
    "    b = itertools.product(basisState,repeat=N)\n",
    "    basisTensor = list(b)\n",
    "    #makes Sbasis the correct dimesion of Qobj\n",
    "    for i in range(2**N):\n",
    "        c = basisTensor[i][0]\n",
    "        for j in range(N-1):\n",
    "            c = tensor(c,basisTensor[i][j+1])\n",
    "        Sbasis.append(c)\n",
    "\n",
    "    \n",
    "    #get sz values for basis states\n",
    "    sz = np.zeros((2**N,N), dtype = complex)\n",
    "    a = [[1 for j in range(N)] for i in range(2**N)]\n",
    "    for i in range(2**N):\n",
    "        for j in range(N):\n",
    "            #matrix element <bra|Sz|ket>\n",
    "            sz[i][j] = sz_list[j].matrix_element(Sbasis[i],Sbasis[i])\n",
    "    return Sbasis, sz\n"
   ]
  },
  {
   "cell_type": "code",
   "execution_count": 10,
   "metadata": {},
   "outputs": [],
   "source": [
    "#get randomized RBM parameters (between zero and 1)\n",
    "def ranRBMpar(N,M):\n",
    "    par = 1-2*np.random.rand(2*(N+M+N*M))\n",
    "    return par"
   ]
  },
  {
   "cell_type": "code",
   "execution_count": 11,
   "metadata": {},
   "outputs": [],
   "source": [
    "#Function to give RBM wavefuntion\n",
    "def RBM_ansatz(par,N, M):\n",
    "    Sbasis = basisCreation(N)[0]\n",
    "    sz = basisCreation(N)[1]\n",
    "    #make parmeters complex\n",
    "    num = N+M+N*M\n",
    "    parC = np.vectorize(complex)(par[:num],par[num:])\n",
    "    a = parC[:N]\n",
    "    b = parC[N:N+M]\n",
    "    W = parC[N+M:].reshape(M,N)\n",
    "    expTerm = np.zeros(2**N, dtype = complex)\n",
    "    coshTerm = np.zeros((M,2**N), dtype = complex)\n",
    "    hidProduct = np.zeros(2**N, dtype = complex)\n",
    "    psiMValues = np.zeros(2**N, dtype = complex)\n",
    "    psiM = 0*Sbasis[0]\n",
    "\n",
    "    for i in range(2**N):\n",
    "        for m in range(M):\n",
    "            coshTerm[m][i] = 2*np.cosh(np.dot(W[m],sz[i]) + b[m])\n",
    "    hidProduct = np.prod(coshTerm, axis = 0) \n",
    "    \n",
    "    for i in range(2**N):\n",
    "        expTerm[i] = np.exp(np.dot(a,sz[i]))\n",
    "        psiMValues[i] = expTerm[i]*hidProduct[i]\n",
    "        psiM += psiMValues[i]*Sbasis[i]\n",
    "    psiNorm = psiM.unit()\n",
    "    return psiNorm\n"
   ]
  },
  {
   "cell_type": "code",
   "execution_count": 12,
   "metadata": {},
   "outputs": [],
   "source": [
    "#Variation Energy Definition\n",
    "def varEnergy(par,N, M, H):\n",
    "    psiM = RBM_ansatz(par,N, M)\n",
    "    E = expect(H,psiM)\n",
    "    norm = psiM.norm()**2\n",
    "    Enorm = E/norm\n",
    "    return Enorm"
   ]
  },
  {
   "cell_type": "code",
   "execution_count": 13,
   "metadata": {},
   "outputs": [],
   "source": [
    "#Energy Partials\n",
    "def gradEnergy(par,N, M,H):\n",
    "    eps = 0.001\n",
    "    return optimize.approx_fprime(par,varEnergy,eps, N, M,H)"
   ]
  },
  {
   "cell_type": "code",
   "execution_count": 14,
   "metadata": {},
   "outputs": [],
   "source": [
    "#Conjugate Gradient Descent\n",
    "class ConGradDescent:\n",
    "    \n",
    "    def __init__(self, N, B, A0):\n",
    "        H = hamiltonian(N, B, A0)\n",
    "        isDeg = CheckDegenerate(H)\n",
    "        if (isDeg == True):\n",
    "            raise ValueError(\"Hamiltonian has degenerate ground state\")\n",
    "        else:\n",
    "            self.hamiltonian = H\n",
    "     \n",
    "    @timing \n",
    "    def __call__(self, N, M,par):\n",
    "        H = self.hamiltonian\n",
    "        min = scipy.optimize.fmin_cg(varEnergy,par,args= (N,M,H),gtol = 1e-04, full_output=True, retall = True, disp=True)\n",
    "        #Ground State\n",
    "        found_gs = RBM_ansatz(min[0],N, M)\n",
    "        found_gs = found_gs.unit()\n",
    "        #Ground State Energy\n",
    "        found_gsEnergy =varEnergy(min[0], N, M,H)\n",
    "        return min, found_gs, found_gsEnergy  "
   ]
  },
  {
   "cell_type": "code",
   "execution_count": 15,
   "metadata": {},
   "outputs": [],
   "source": [
    "#Error Calculation\n",
    "def err(found_gs,gs,found_gsEnergy,gsEnergy):\n",
    "    engErr = np.abs(found_gsEnergy-gsEnergy)\n",
    "    waveFunctionErr = found_gs.dag()*gs\n",
    "    waveFunctionErr = 1-waveFunctionErr.norm()\n",
    "    \n",
    "    return engErr,waveFunctionErr\n"
   ]
  },
  {
   "cell_type": "code",
   "execution_count": 16,
   "metadata": {},
   "outputs": [],
   "source": [
    "#Ensures conjugate gradient descent convergance\n",
    "def CgdConvergance(N, M, B, A0):\n",
    "    #random parameters\n",
    "    par = ranRBMpar(N,M)\n",
    "    #performs conjugate gradient descent\n",
    "    conGradDescent = ConGradDescent(N, B, A0)\n",
    "    cgd = conGradDescent(N, M,par)\n",
    "    #get actual ground state\n",
    "    groundState = GroundState(N,B,A0)\n",
    "    ed = groundState()\n",
    "    #Calculate Error\n",
    "    error = err(cgd[0][1],ed[0][1],cgd[0][2],ed[0][0])\n",
    "    relativeErr = np.abs(error[0]/ed[0][0])\n",
    "    print('relativeErr',relativeErr)\n",
    "    #Run again if the relative error is larger than 0.01\n",
    "    runs = 1\n",
    "    while(relativeErr>0.01):\n",
    "        par = ranRBMpar(N,M)\n",
    "        cgd = conGradDescent(N, M,par)\n",
    "        error = err(cgd[0][1],ed[0][1],cgd[0][2],ed[0][0])\n",
    "        relativeErr = np.abs(error[0]/ed[0][0])\n",
    "        runs += 1\n",
    "        print('relativeErr in Loop',relativeErr)\n",
    "    return cgd, error, runs"
   ]
  },
  {
   "cell_type": "markdown",
   "metadata": {},
   "source": [
    "## Run Statistics"
   ]
  },
  {
   "cell_type": "code",
   "execution_count": 17,
   "metadata": {},
   "outputs": [],
   "source": [
    "# Runs inforamtion is saved at the following locations:\n",
    "# N=2 M=1 Data/May14/N2M1.json\n",
    "# N=2 M=2 Data/May14/N2M2.json\n",
    "# N=2 M=3 Data/May14/N2M3.json\n",
    "# N=2 M=4 Data/May14/N2M4.json"
   ]
  },
  {
   "cell_type": "code",
   "execution_count": 18,
   "metadata": {},
   "outputs": [
    {
     "ename": "SyntaxError",
     "evalue": "can't assign to function call (<ipython-input-18-2026ea0f3080>, line 7)",
     "output_type": "error",
     "traceback": [
      "\u001b[1;36m  File \u001b[1;32m\"<ipython-input-18-2026ea0f3080>\"\u001b[1;36m, line \u001b[1;32m7\u001b[0m\n\u001b[1;33m    cgdTime,cgdEngErr,cgdStateErr,edTime,len(hisIt)=saved\u001b[0m\n\u001b[1;37m                                                         ^\u001b[0m\n\u001b[1;31mSyntaxError\u001b[0m\u001b[1;31m:\u001b[0m can't assign to function call\n"
     ]
    }
   ],
   "source": [
    "#How to read saved data\n",
    "saved = []\n",
    "with open('Data/May12/N2M3Bpi.json') as file:\n",
    "    for line in file:\n",
    "        saved.append(json.loads(line))\n",
    "\n",
    "cgdTime,cgdEngErr,cgdStateErr,edTime,len(hisIt)=saved"
   ]
  },
  {
   "cell_type": "markdown",
   "metadata": {},
   "source": [
    "## Generating Data"
   ]
  },
  {
   "cell_type": "code",
   "execution_count": 23,
   "metadata": {},
   "outputs": [],
   "source": [
    "#Parameter definition \n",
    "N= 3\n",
    "M=6\n",
    "B = 1\n",
    "A0 = 1\n",
    "\n",
    "cgdResults = [] #gives ground state estimation at each iteration of gd\n",
    "cgdState = []\n",
    "cgdTime = []\n",
    "cgdEngErr = []\n",
    "cgdStateErr = []\n",
    "\n",
    "edState = []\n",
    "edTime = []\n",
    "ActualEng = []\n",
    "\n",
    "hisIt = np.arange(50)"
   ]
  },
  {
   "cell_type": "code",
   "execution_count": 24,
   "metadata": {},
   "outputs": [
    {
     "name": "stdout",
     "output_type": "stream",
     "text": [
      "Optimization terminated successfully.\n",
      "         Current function value: -1.280757\n",
      "         Iterations: 152\n",
      "         Function evaluations: 17808\n",
      "         Gradient evaluations: 318\n",
      "Optimization terminated successfully.\n",
      "         Current function value: -1.280776\n",
      "         Iterations: 51\n",
      "         Function evaluations: 5376\n",
      "         Gradient evaluations: 96\n",
      "Optimization terminated successfully.\n",
      "         Current function value: -1.280764\n",
      "         Iterations: 109\n",
      "         Function evaluations: 11424\n",
      "         Gradient evaluations: 204\n",
      "Optimization terminated successfully.\n",
      "         Current function value: -1.280776\n",
      "         Iterations: 51\n",
      "         Function evaluations: 5376\n",
      "         Gradient evaluations: 96\n",
      "Optimization terminated successfully.\n",
      "         Current function value: -1.280772\n",
      "         Iterations: 131\n",
      "         Function evaluations: 15736\n",
      "         Gradient evaluations: 281\n",
      "Optimization terminated successfully.\n",
      "         Current function value: -1.280772\n",
      "         Iterations: 50\n",
      "         Function evaluations: 5208\n",
      "         Gradient evaluations: 93\n",
      "Optimization terminated successfully.\n",
      "         Current function value: -1.280761\n",
      "         Iterations: 129\n",
      "         Function evaluations: 14336\n",
      "         Gradient evaluations: 256\n",
      "Optimization terminated successfully.\n",
      "         Current function value: -0.500014\n",
      "         Iterations: 3\n",
      "         Function evaluations: 504\n",
      "         Gradient evaluations: 9\n",
      "Optimization terminated successfully.\n",
      "         Current function value: -1.280767\n",
      "         Iterations: 87\n",
      "         Function evaluations: 9800\n",
      "         Gradient evaluations: 175\n",
      "Optimization terminated successfully.\n",
      "         Current function value: -1.280773\n",
      "         Iterations: 92\n",
      "         Function evaluations: 10472\n",
      "         Gradient evaluations: 187\n",
      "Optimization terminated successfully.\n",
      "         Current function value: -1.280763\n",
      "         Iterations: 108\n",
      "         Function evaluations: 11200\n",
      "         Gradient evaluations: 200\n",
      "Optimization terminated successfully.\n",
      "         Current function value: -1.280772\n",
      "         Iterations: 115\n",
      "         Function evaluations: 12880\n",
      "         Gradient evaluations: 230\n",
      "Optimization terminated successfully.\n",
      "         Current function value: -1.280767\n",
      "         Iterations: 104\n",
      "         Function evaluations: 10248\n",
      "         Gradient evaluations: 183\n",
      "Optimization terminated successfully.\n",
      "         Current function value: -1.280776\n",
      "         Iterations: 66\n",
      "         Function evaluations: 6272\n",
      "         Gradient evaluations: 112\n",
      "Optimization terminated successfully.\n",
      "         Current function value: -1.280764\n",
      "         Iterations: 105\n",
      "         Function evaluations: 10808\n",
      "         Gradient evaluations: 193\n",
      "Optimization terminated successfully.\n",
      "         Current function value: -1.280771\n",
      "         Iterations: 97\n",
      "         Function evaluations: 10192\n",
      "         Gradient evaluations: 182\n",
      "Optimization terminated successfully.\n",
      "         Current function value: -1.280764\n",
      "         Iterations: 102\n",
      "         Function evaluations: 11592\n",
      "         Gradient evaluations: 207\n",
      "Optimization terminated successfully.\n",
      "         Current function value: -1.280762\n",
      "         Iterations: 122\n",
      "         Function evaluations: 15680\n",
      "         Gradient evaluations: 280\n",
      "Optimization terminated successfully.\n",
      "         Current function value: -1.280765\n",
      "         Iterations: 151\n",
      "         Function evaluations: 17248\n",
      "         Gradient evaluations: 308\n",
      "Optimization terminated successfully.\n",
      "         Current function value: -0.999968\n",
      "         Iterations: 4\n",
      "         Function evaluations: 728\n",
      "         Gradient evaluations: 13\n",
      "Optimization terminated successfully.\n",
      "         Current function value: -1.280759\n",
      "         Iterations: 86\n",
      "         Function evaluations: 9688\n",
      "         Gradient evaluations: 173\n",
      "Optimization terminated successfully.\n",
      "         Current function value: -1.280730\n",
      "         Iterations: 729\n",
      "         Function evaluations: 115024\n",
      "         Gradient evaluations: 2054\n",
      "Optimization terminated successfully.\n",
      "         Current function value: -1.280753\n",
      "         Iterations: 121\n",
      "         Function evaluations: 13776\n",
      "         Gradient evaluations: 246\n",
      "Optimization terminated successfully.\n",
      "         Current function value: -1.280773\n",
      "         Iterations: 97\n",
      "         Function evaluations: 10696\n",
      "         Gradient evaluations: 191\n",
      "Optimization terminated successfully.\n",
      "         Current function value: -1.280773\n",
      "         Iterations: 118\n",
      "         Function evaluations: 11760\n",
      "         Gradient evaluations: 210\n",
      "Optimization terminated successfully.\n",
      "         Current function value: -1.280776\n",
      "         Iterations: 91\n",
      "         Function evaluations: 9744\n",
      "         Gradient evaluations: 174\n",
      "Optimization terminated successfully.\n",
      "         Current function value: -1.280763\n",
      "         Iterations: 149\n",
      "         Function evaluations: 16240\n",
      "         Gradient evaluations: 290\n",
      "Optimization terminated successfully.\n",
      "         Current function value: -1.280774\n",
      "         Iterations: 69\n",
      "         Function evaluations: 7448\n",
      "         Gradient evaluations: 133\n",
      "Optimization terminated successfully.\n",
      "         Current function value: -1.280712\n",
      "         Iterations: 231\n",
      "         Function evaluations: 33096\n",
      "         Gradient evaluations: 591\n",
      "Optimization terminated successfully.\n",
      "         Current function value: -1.280757\n",
      "         Iterations: 89\n",
      "         Function evaluations: 10584\n",
      "         Gradient evaluations: 189\n",
      "Optimization terminated successfully.\n",
      "         Current function value: -1.280738\n",
      "         Iterations: 80\n",
      "         Function evaluations: 8232\n",
      "         Gradient evaluations: 147\n",
      "Optimization terminated successfully.\n",
      "         Current function value: -1.151380\n",
      "         Iterations: 63\n",
      "         Function evaluations: 7616\n",
      "         Gradient evaluations: 136\n",
      "Optimization terminated successfully.\n",
      "         Current function value: -1.280706\n",
      "         Iterations: 166\n",
      "         Function evaluations: 20720\n",
      "         Gradient evaluations: 370\n",
      "Optimization terminated successfully.\n",
      "         Current function value: -1.280774\n",
      "         Iterations: 282\n",
      "         Function evaluations: 32088\n",
      "         Gradient evaluations: 573\n",
      "Optimization terminated successfully.\n",
      "         Current function value: -1.280760\n",
      "         Iterations: 113\n",
      "         Function evaluations: 12208\n",
      "         Gradient evaluations: 218\n",
      "Optimization terminated successfully.\n",
      "         Current function value: -1.280763\n",
      "         Iterations: 65\n",
      "         Function evaluations: 7112\n",
      "         Gradient evaluations: 127\n",
      "Optimization terminated successfully.\n",
      "         Current function value: -1.280763\n",
      "         Iterations: 96\n",
      "         Function evaluations: 11536\n",
      "         Gradient evaluations: 206\n",
      "Optimization terminated successfully.\n",
      "         Current function value: -1.280774\n",
      "         Iterations: 125\n",
      "         Function evaluations: 12320\n",
      "         Gradient evaluations: 220\n",
      "Optimization terminated successfully.\n",
      "         Current function value: -1.000000\n",
      "         Iterations: 14\n",
      "         Function evaluations: 1792\n",
      "         Gradient evaluations: 32\n",
      "Optimization terminated successfully.\n",
      "         Current function value: -1.280754\n",
      "         Iterations: 91\n",
      "         Function evaluations: 11872\n",
      "         Gradient evaluations: 212\n",
      "Optimization terminated successfully.\n",
      "         Current function value: -1.280776\n",
      "         Iterations: 81\n",
      "         Function evaluations: 8232\n",
      "         Gradient evaluations: 147\n",
      "Optimization terminated successfully.\n",
      "         Current function value: -1.280776\n",
      "         Iterations: 91\n",
      "         Function evaluations: 9184\n",
      "         Gradient evaluations: 164\n",
      "Optimization terminated successfully.\n",
      "         Current function value: -1.280752\n",
      "         Iterations: 87\n",
      "         Function evaluations: 10136\n",
      "         Gradient evaluations: 181\n",
      "Optimization terminated successfully.\n",
      "         Current function value: -1.280763\n",
      "         Iterations: 123\n",
      "         Function evaluations: 15736\n",
      "         Gradient evaluations: 281\n",
      "Optimization terminated successfully.\n",
      "         Current function value: -1.280769\n",
      "         Iterations: 91\n",
      "         Function evaluations: 9632\n",
      "         Gradient evaluations: 172\n",
      "Optimization terminated successfully.\n",
      "         Current function value: -1.280750\n",
      "         Iterations: 83\n",
      "         Function evaluations: 9184\n",
      "         Gradient evaluations: 164\n",
      "Optimization terminated successfully.\n",
      "         Current function value: -1.280764\n",
      "         Iterations: 95\n",
      "         Function evaluations: 9912\n",
      "         Gradient evaluations: 177\n"
     ]
    },
    {
     "name": "stdout",
     "output_type": "stream",
     "text": [
      "Optimization terminated successfully.\n",
      "         Current function value: -1.280768\n",
      "         Iterations: 118\n",
      "         Function evaluations: 13552\n",
      "         Gradient evaluations: 242\n",
      "Optimization terminated successfully.\n",
      "         Current function value: -1.280763\n",
      "         Iterations: 97\n",
      "         Function evaluations: 10024\n",
      "         Gradient evaluations: 179\n",
      "Optimization terminated successfully.\n",
      "         Current function value: -1.280732\n",
      "         Iterations: 119\n",
      "         Function evaluations: 12040\n",
      "         Gradient evaluations: 215\n"
     ]
    }
   ],
   "source": [
    "for i in range(len(hisIt)):\n",
    "    par = ranRBMpar(N,M)\n",
    "    \n",
    "    #gradient descent\n",
    "    conGradDescent = ConGradDescent(N, B, A0)\n",
    "    cgd = conGradDescent(N,M,par)\n",
    "    cgdResults.append(cgd)\n",
    "    cgdState.append(cgd[0])\n",
    "    cgdTime.append(cgd[1])\n",
    "    \n",
    "    \n",
    "    #exact diagonalization \n",
    "    groundState = GroundState(N,B,A0)\n",
    "    ed = groundState()\n",
    "    edState.append(ed[0])\n",
    "    edTime.append(ed[1])\n",
    "    \n",
    "    \n",
    "    #Error\n",
    "    cgdEngTemp = cgd[0][2]\n",
    "    edEngTemp = ed[0][0]\n",
    "    \n",
    "    ActualEng.append(edEngTemp)\n",
    "    cgdStateTemp = cgd[0][1]\n",
    "    edStateTemp = ed[0][1]\n",
    "\n",
    "    \n",
    "    cgdErrTemp = err(cgdStateTemp,edStateTemp,cgdEngTemp,edEngTemp)  \n",
    "    cgdEngErr.append(cgdErrTemp[0])\n",
    "    cgdStateErr.append(cgdErrTemp[1])\n",
    "   \n"
   ]
  },
  {
   "cell_type": "code",
   "execution_count": 25,
   "metadata": {},
   "outputs": [],
   "source": [
    "#Save data to JSON file\n",
    "data = [cgdTime,cgdEngErr,cgdStateErr,edTime,len(hisIt)]\n",
    "open(\"Data/May14/N3M6.json\", \"w\").close()\n",
    "with open('Data/May14/N3M6.json', 'a') as file:\n",
    "    for item in data: \n",
    "        line = json.dumps(item)\n",
    "        file.write(line + '\\n')"
   ]
  },
  {
   "cell_type": "code",
   "execution_count": 67,
   "metadata": {},
   "outputs": [],
   "source": [
    "#How to read saved data\n",
    "test = []\n",
    "with open('Data/May14/N2M1.json') as file:\n",
    "    for line in file:\n",
    "        test.append(json.loads(line))\n",
    "cgdTimeN2M1,cgdEngErrN2M1,cgdStateErrN2M1,edTimeN2M1,lenN2M1 = test"
   ]
  },
  {
   "cell_type": "code",
   "execution_count": null,
   "metadata": {},
   "outputs": [],
   "source": []
  },
  {
   "cell_type": "code",
   "execution_count": 26,
   "metadata": {},
   "outputs": [
    {
     "data": {
      "text/plain": [
       "Text(0, 0.5, 'Runtime')"
      ]
     },
     "execution_count": 26,
     "metadata": {},
     "output_type": "execute_result"
    },
    {
     "data": {
      "text/plain": [
       "<Figure size 432x288 with 0 Axes>"
      ]
     },
     "metadata": {},
     "output_type": "display_data"
    },
    {
     "data": {
      "image/png": "[encoded data removed]",
      "text/plain": [
       "<Figure size 720x720 with 5 Axes>"
      ]
     },
     "metadata": {
      "needs_background": "light"
     },
     "output_type": "display_data"
    }
   ],
   "source": [
    "plt.figure(constrained_layout=True)\n",
    "plt.figure(figsize=(10,10))\n",
    "ttl = plt.suptitle(\"N = 3, M = 6, B = 1\",size =20)\n",
    "gs = gridspec.GridSpec(ncols=3, nrows=3, hspace = 0.4)\n",
    "ttl.set_position([.5, 0.92])\n",
    "\n",
    "\n",
    "\n",
    "ax1 = plt.subplot(gs[0, 0])\n",
    "ax1 .hist(cgdStateErr, bins=10) \n",
    "ax1 .set_xlabel(\"$1-|<\\Psi_{RBM}|\\Psi_{ED}>|^2$\",size = 15)\n",
    "ax1.set_ylabel(\"Frequency\",size = 15)\n",
    "\n",
    "\n",
    "\n",
    "ax2 = plt.subplot(gs[0, 1])\n",
    "ax2.hist(cgdEngErr, bins=10) \n",
    "ax2.set_xlabel(\"$\\Delta E = |E_{RBM}-E_{ED}|$\",size = 15)\n",
    "\n",
    "\n",
    "\n",
    "ax3 = plt.subplot(gs[0, 2])\n",
    "ax3.hist(cgdTime, bins=10) \n",
    "ax3.set_xlabel(\"Runtime\",size = 15)\n",
    "\n",
    "\n",
    "ax4 = plt.subplot(gs[1, :])\n",
    "ax4.scatter(hisIt,cgdEngErr) \n",
    "ax4 .set_ylabel(\"$\\Delta E = |E_{RBM}-E_{ED}|$\", size = 15)\n",
    "\n",
    "\n",
    "ax5 = plt.subplot(gs[2, :])\n",
    "ax5.scatter(hisIt,cgdTime)  \n",
    "ax5.set_xlabel(\"Run Number\",size = 15)\n",
    "ax5 .set_ylabel(\"Runtime\", size = 15)\n",
    "\n",
    "\n",
    "\n",
    "\n",
    "\n",
    "\n",
    "\n",
    "\n",
    "\n",
    "\n"
   ]
  },
  {
   "cell_type": "code",
   "execution_count": 27,
   "metadata": {},
   "outputs": [
    {
     "name": "stdout",
     "output_type": "stream",
     "text": [
      "Average Energy Error:  0.02944844881318623\n",
      "Average Ground State Error:  0.023438325276279884\n",
      "Average Run Time:  368.4461208772659\n",
      "Number of runs abover 0.0001 error: 4\n",
      "Prob of sucess: 0.9600\n",
      "Prob of sucess two runs: 0.9984\n",
      "Prob of sucess three runs: 0.9999\n"
     ]
    }
   ],
   "source": [
    "avEngErr = np.sum(cgdEngErr)/(len(hisIt))\n",
    "avStateErr = np.sum(cgdStateErr)/(len(hisIt))\n",
    "avRunTime = np.sum(cgdTime)/(len(hisIt))\n",
    "print('Average Energy Error: ', avEngErr )\n",
    "print('Average Ground State Error: ', avStateErr )\n",
    "print('Average Run Time: ', avRunTime )\n",
    "\n",
    "cutOff = 0.0001\n",
    "runsCutOff = sum(i>cutOff for i in cgdEngErr)\n",
    "prob = (runsCutOff/100)\n",
    "print(\"Number of runs abover 0.0001 error:\", runsCutOff )\n",
    "print(\"Prob of sucess:\",  f\"{1-prob:.4f}\" )\n",
    "print(\"Prob of sucess two runs:\", f\"{1-prob**2:.4f}\" )\n",
    "print(\"Prob of sucess three runs:\", f\"{1-prob**3:.4f}\" )\n",
    "\n",
    "\n"
   ]
  },
  {
   "cell_type": "markdown",
   "metadata": {},
   "source": [
    "## Load all saved data"
   ]
  },
  {
   "cell_type": "code",
   "execution_count": 114,
   "metadata": {},
   "outputs": [],
   "source": [
    "#How to read saved data\n",
    "saved = []\n",
    "with open('Data/May14/N2M1.json') as file:\n",
    "    for line in file:\n",
    "        saved.append(json.loads(line))\n",
    "\n",
    "cgdTimeN2M1,cgdEngErrN2M1,cgdStateErrN2M1,edTimeN2M1,lenN2M1=saved"
   ]
  },
  {
   "cell_type": "code",
   "execution_count": 115,
   "metadata": {},
   "outputs": [],
   "source": [
    "#How to read saved data\n",
    "saved = []\n",
    "with open('Data/May14/N2M2.json') as file:\n",
    "    for line in file:\n",
    "        saved.append(json.loads(line))\n",
    "\n",
    "cgdTimeN2M2,cgdEngErrN2M2,cgdStateErrN2M2,edTimeN2M2,lenN2M2=saved"
   ]
  },
  {
   "cell_type": "code",
   "execution_count": 116,
   "metadata": {},
   "outputs": [],
   "source": [
    "#How to read saved data\n",
    "saved = []\n",
    "with open('Data/May14/N2M3.json') as file:\n",
    "    for line in file:\n",
    "        saved.append(json.loads(line))\n",
    "\n",
    "cgdTimeN2M3,cgdEngErrN2M3,cgdStateErrN2M3,edTimeN2M3,lenN2M3=saved"
   ]
  },
  {
   "cell_type": "code",
   "execution_count": 117,
   "metadata": {},
   "outputs": [],
   "source": [
    "#How to read saved data\n",
    "saved = []\n",
    "with open('Data/May14/N2M4.json') as file:\n",
    "    for line in file:\n",
    "        saved.append(json.loads(line))\n",
    "\n",
    "cgdTimeN2M4,cgdEngErrN2M4,cgdStateErrN2M4,edTimeN2M4,lenN2M4=saved"
   ]
  },
  {
   "cell_type": "code",
   "execution_count": 118,
   "metadata": {},
   "outputs": [],
   "source": [
    "#How to read saved data\n",
    "saved = []\n",
    "with open('Data/May14/N2M5.json') as file:\n",
    "    for line in file:\n",
    "        saved.append(json.loads(line))\n",
    "\n",
    "cgdTimeN2M5,cgdEngErrN2M5,cgdStateErrN2M5,edTimeN2M5,lenN2M5=saved"
   ]
  },
  {
   "cell_type": "code",
   "execution_count": 119,
   "metadata": {},
   "outputs": [],
   "source": [
    "#How to read saved data\n",
    "saved = []\n",
    "with open('Data/May14/N3M1.json') as file:\n",
    "    for line in file:\n",
    "        saved.append(json.loads(line))\n",
    "\n",
    "cgdTimeN3M1,cgdEngErrN3M1,cgdStateErrN3M1,edTimeN3M1,lenN3M1=saved"
   ]
  },
  {
   "cell_type": "code",
   "execution_count": 120,
   "metadata": {},
   "outputs": [],
   "source": [
    "#How to read saved data\n",
    "saved = []\n",
    "with open('Data/May14/N3M2.json') as file:\n",
    "    for line in file:\n",
    "        saved.append(json.loads(line))\n",
    "\n",
    "cgdTimeN3M2,cgdEngErrN3M2,cgdStateErrN3M2,edTimeN3M2,lenN3M2=saved"
   ]
  },
  {
   "cell_type": "code",
   "execution_count": 121,
   "metadata": {},
   "outputs": [],
   "source": [
    "#How to read saved data\n",
    "saved = []\n",
    "with open('Data/May14/N3M3.json') as file:\n",
    "    for line in file:\n",
    "        saved.append(json.loads(line))\n",
    "\n",
    "cgdTimeN3M3,cgdEngErrN3M3,cgdStateErrN3M3,edTimeN3M3,lenN3M3=saved"
   ]
  },
  {
   "cell_type": "code",
   "execution_count": 186,
   "metadata": {},
   "outputs": [],
   "source": [
    "#How to read saved data\n",
    "saved = []\n",
    "with open('Data/May14/N3M4.json') as file:\n",
    "    for line in file:\n",
    "        saved.append(json.loads(line))\n",
    "\n",
    "cgdTimeN3M4,cgdEngErrN3M4,cgdStateErrN3M4,edTimeN3M4,lenN3M4=saved"
   ]
  },
  {
   "cell_type": "code",
   "execution_count": 187,
   "metadata": {},
   "outputs": [],
   "source": [
    "#How to read saved data\n",
    "saved = []\n",
    "with open('Data/May14/N3M5.json') as file:\n",
    "    for line in file:\n",
    "        saved.append(json.loads(line))\n",
    "\n",
    "cgdTimeN3M5,cgdEngErrN3M5,cgdStateErrN3M5,edTimeN3M5,lenN3M5=saved"
   ]
  },
  {
   "cell_type": "code",
   "execution_count": 124,
   "metadata": {},
   "outputs": [],
   "source": [
    "#How to read saved data\n",
    "saved = []\n",
    "with open('Data/May14/N4M1.json') as file:\n",
    "    for line in file:\n",
    "        saved.append(json.loads(line))\n",
    "\n",
    "cgdTimeN4M1,cgdEngErrN4M1,cgdStateErrN4M1,edTimeN4M1,lenN4M1=saved"
   ]
  },
  {
   "cell_type": "code",
   "execution_count": 125,
   "metadata": {},
   "outputs": [],
   "source": [
    "#How to read saved data\n",
    "saved = []\n",
    "with open('Data/May14/N4M2.json') as file:\n",
    "    for line in file:\n",
    "        saved.append(json.loads(line))\n",
    "\n",
    "cgdTimeN4M2,cgdEngErrN4M2,cgdStateErrN4M2,edTimeN4M2,lenN4M2=saved"
   ]
  },
  {
   "cell_type": "code",
   "execution_count": 126,
   "metadata": {},
   "outputs": [],
   "source": [
    "#How to read saved data\n",
    "saved = []\n",
    "with open('Data/May14/N4M3.json') as file:\n",
    "    for line in file:\n",
    "        saved.append(json.loads(line))\n",
    "\n",
    "cgdTimeN4M3,cgdEngErrN4M3,cgdStateErrN4M3,edTimeN4M3,lenN4M3=saved"
   ]
  },
  {
   "cell_type": "code",
   "execution_count": 127,
   "metadata": {},
   "outputs": [],
   "source": [
    "#How to read saved data\n",
    "saved = []\n",
    "with open('Data/May14/N4M4.json') as file:\n",
    "    for line in file:\n",
    "        saved.append(json.loads(line))\n",
    "\n",
    "cgdTimeN4M4,cgdEngErrN4M4,cgdStateErrN4M4,edTimeN4M4,lenN4M4=saved"
   ]
  },
  {
   "cell_type": "code",
   "execution_count": 128,
   "metadata": {},
   "outputs": [],
   "source": [
    "#How to read saved data\n",
    "saved = []\n",
    "with open('Data/May14/N4M5.json') as file:\n",
    "    for line in file:\n",
    "        saved.append(json.loads(line))\n",
    "\n",
    "cgdTimeN4M5,cgdEngErrN4M5,cgdStateErrN4M5,edTimeN4M5,lenN4M5=saved"
   ]
  },
  {
   "cell_type": "code",
   "execution_count": 197,
   "metadata": {},
   "outputs": [
    {
     "name": "stdout",
     "output_type": "stream",
     "text": [
      "0.09055519664133936\n",
      "0.09055519664133936\n"
     ]
    }
   ],
   "source": [
    "engErr = [cgdEngErrN2M1,cgdEngErrN2M2,cgdEngErrN2M3,cgdEngErrN2M4,cgdEngErrN2M5,cgdEngErrN3M1,cgdEngErrN3M2,cgdEngErrN3M3,cgdEngErrN3M4,cgdEngErrN3M4,cgdEngErrN3M5,cgdEngErrN4M1,cgdEngErrN4M2, cgdEngErrN4M3,cgdEngErrN4M4,cgdEngErrN4M5]\n",
    "stateErr = [cgdStateErrN2M1,cgdStateErrN2M2,cgdStateErrN2M3,cgdStateErrN2M4,cgdStateErrN2M5,cgdStateErrN3M1,cgdStateErrN3M2,cgdStateErrN3M3,cgdStateErrN3M4,cgdStateErrN3M4,cgdStateErrN3M5,cgdStateErrN4M1,cgdStateErrN4M2, cgdStateErrN4M3,cgdStateErrN4M4,cgdStateErrN4M5]\n",
    "time= [cgdTimeN2M1,cgdTimeN2M2,cgdTimeN2M3,cgdTimeN2M4,cgdTimeN2M5,cgdTimeN3M1,cgdTimeN3M2,cgdTimeN3M3,cgdTimeN3M4,cgdTimeN3M5,cgdTimeN4M1,cgdTimeN4M2,cgdTimeN4M3,cgdTimeN4M4,cgdTimeN4M5]\n",
    "lengths = [lenN2M1,lenN2M2,lenN2M3,lenN2M4,lenN2M5,lenN3M1,lenN3M2,lenN3M3,lenN3M4,lenN3M5,lenN4M1,lenN4M2,lenN4M3,lenN4M4,lenN4M5]\n",
    "\n",
    "avEngErr = []\n",
    "avStateErr = []\n",
    "avRunTime = []\n",
    "for i in range(len(EngErr)):\n",
    "    avEngErrTemp = np.sum(engErr[i])/(lengths[i])\n",
    "    avEngErr.append(avEngErrTemp)\n",
    "    avStateErrTemp = np.sum(stateErr[i])/(lengths[i])\n",
    "    avStateErr.append(avStateErrTemp)\n",
    "    avRunTimeTemp = np.sum(time[i])/(lengths[i])\n",
    "    avRunTime.append(avRunTimeTemp)\n",
    "\n",
    "\n",
    "\n",
    "print(avEngErr[8])\n",
    "print(avEngErr[9])"
   ]
  },
  {
   "cell_type": "code",
   "execution_count": 194,
   "metadata": {},
   "outputs": [
    {
     "data": {
      "text/plain": [
       "<matplotlib.legend.Legend at 0x21bc7136fc8>"
      ]
     },
     "execution_count": 194,
     "metadata": {},
     "output_type": "execute_result"
    },
    {
     "data": {
      "text/plain": [
       "<Figure size 432x288 with 0 Axes>"
      ]
     },
     "metadata": {},
     "output_type": "display_data"
    },
    {
     "data": {
      "image/png": "[encoded data removed]",
      "text/plain": [
       "<Figure size 720x720 with 1 Axes>"
      ]
     },
     "metadata": {
      "needs_background": "light"
     },
     "output_type": "display_data"
    }
   ],
   "source": [
    "x = np.arange(1,6)\n",
    "plt.figure(constrained_layout=True)\n",
    "plt.figure(figsize=(10,10))\n",
    "ttl = plt.suptitle(\"Averge Energy Error vs M for Various N\",size =20)\n",
    "gs = gridspec.GridSpec(ncols=1, nrows=1, hspace = 0.4)\n",
    "ttl.set_position([.5, 0.94])\n",
    "\n",
    "\n",
    "ax4 = plt.subplot(gs[0, :])\n",
    "#ax4.set_yscale('log')\n",
    "ax4.scatter(x,avEngErr[0:5], color='r',label='N = 2') \n",
    "ax4.scatter(x,avEngErr[5:10],color='b',label='N = 3') \n",
    "ax4.scatter(x,avEngErr[10:15], color='g',label='N = 4') \n",
    "ax4 .set_ylabel(\"Averge Energy Error\", size = 15)\n",
    "ax4.set_xlabel(\"M\",size = 15)\n",
    "plt.legend(loc = (0.2, 1),fontsize = 15,ncol=3)"
   ]
  },
  {
   "cell_type": "code",
   "execution_count": 195,
   "metadata": {},
   "outputs": [
    {
     "data": {
      "text/plain": [
       "<matplotlib.legend.Legend at 0x21bc756b188>"
      ]
     },
     "execution_count": 195,
     "metadata": {},
     "output_type": "execute_result"
    },
    {
     "data": {
      "text/plain": [
       "<Figure size 432x288 with 0 Axes>"
      ]
     },
     "metadata": {},
     "output_type": "display_data"
    },
    {
     "data": {
      "image/png": "[encoded data removed]",
      "text/plain": [
       "<Figure size 720x720 with 1 Axes>"
      ]
     },
     "metadata": {
      "needs_background": "light"
     },
     "output_type": "display_data"
    }
   ],
   "source": [
    "x = np.arange(1,6)\n",
    "plt.figure(constrained_layout=True)\n",
    "plt.figure(figsize=(10,10))\n",
    "ttl = plt.suptitle(\"Averge State Error vs M for Various N \",size =20)\n",
    "gs = gridspec.GridSpec(ncols=1, nrows=1, hspace = 0.4)\n",
    "ttl.set_position([.5, 0.94])\n",
    "\n",
    "\n",
    "ax4 = plt.subplot(gs[0, :])\n",
    "#ax4.set_yscale('log')\n",
    "ax4.scatter(x,avStateErr[0:5], color='r',label='N = 2') \n",
    "ax4.scatter(x,avStateErr[5:10],color='b',label='N = 3') \n",
    "ax4.scatter(x,avStateErr[10:15], color='g',label='N = 4') \n",
    "ax4 .set_ylabel(\"Averge State Error\", size = 15)\n",
    "ax4.set_xlabel(\"M\",size = 15)\n",
    "plt.legend(loc = (0.2, 1),fontsize = 15,ncol=3)"
   ]
  },
  {
   "cell_type": "code",
   "execution_count": 196,
   "metadata": {},
   "outputs": [
    {
     "data": {
      "text/plain": [
       "<matplotlib.legend.Legend at 0x21bc756b408>"
      ]
     },
     "execution_count": 196,
     "metadata": {},
     "output_type": "execute_result"
    },
    {
     "data": {
      "text/plain": [
       "<Figure size 432x288 with 0 Axes>"
      ]
     },
     "metadata": {},
     "output_type": "display_data"
    },
    {
     "data": {
      "image/png": "[encoded data removed]",
      "text/plain": [
       "<Figure size 720x720 with 1 Axes>"
      ]
     },
     "metadata": {
      "needs_background": "light"
     },
     "output_type": "display_data"
    }
   ],
   "source": [
    "x = np.arange(5)\n",
    "plt.figure(constrained_layout=True)\n",
    "plt.figure(figsize=(10,10))\n",
    "ttl = plt.suptitle(\"Averge Run Time vs M for Various N\",size =20)\n",
    "gs = gridspec.GridSpec(ncols=1, nrows=1, hspace = 0.4)\n",
    "ttl.set_position([.5, 0.92])\n",
    "\n",
    "\n",
    "ax4 = plt.subplot(gs[0, :])\n",
    "#ax4.set_yscale('log')\n",
    "ax4.scatter(x,avRunTime[0:5], color='r',label='N = 2') \n",
    "ax4.scatter(x,avRunTime[5:10],color='b',label='N = 3') \n",
    "ax4.scatter(x,avRunTime[10:15], color='g',label='N = 4') \n",
    "ax4 .set_ylabel(\"Averge Run Time\", size = 15)\n",
    "ax4.set_xlabel(\"M\",size = 15)\n",
    "plt.legend(loc = (0.05, 0.85),fontsize = 15,ncol=1)"
   ]
  },
  {
   "cell_type": "code",
   "execution_count": 192,
   "metadata": {},
   "outputs": [
    {
     "data": {
      "text/plain": [
       "<matplotlib.legend.Legend at 0x21bc74ba7c8>"
      ]
     },
     "execution_count": 192,
     "metadata": {},
     "output_type": "execute_result"
    },
    {
     "data": {
      "text/plain": [
       "<Figure size 432x288 with 0 Axes>"
      ]
     },
     "metadata": {},
     "output_type": "display_data"
    },
    {
     "data": {
      "image/png": "[encoded data removed]",
      "text/plain": [
       "<Figure size 720x720 with 1 Axes>"
      ]
     },
     "metadata": {
      "needs_background": "light"
     },
     "output_type": "display_data"
    }
   ],
   "source": [
    "x = np.arange(3)\n",
    "plt.figure(constrained_layout=True)\n",
    "plt.figure(figsize=(10,10))\n",
    "ttl = plt.suptitle(\"Averge Run Time vs N for Various M\",size =20)\n",
    "gs = gridspec.GridSpec(ncols=1, nrows=1, hspace = 0.4)\n",
    "ttl.set_position([.5, 0.92])\n",
    "\n",
    "\n",
    "ax4 = plt.subplot(gs[0, :])\n",
    "#ax4.set_yscale('log')\n",
    "ax4.scatter(x,[avRunTime[0],avRunTime[5],avRunTime[10]], color='r',label='M = 1') \n",
    "ax4.scatter(x,[avRunTime[1],avRunTime[6],avRunTime[11]], color='b',label='M = 2')\n",
    "ax4.scatter(x,[avRunTime[2],avRunTime[7],avRunTime[12]], color='g',label='M = 3')\n",
    "ax4.scatter(x,[avRunTime[3],avRunTime[8],avRunTime[13]], color='purple',label='M = 4')\n",
    "ax4.scatter(x,[avRunTime[4],avRunTime[9],avRunTime[14]], color='black',label='M = 5')\n",
    "ax4 .set_ylabel(\"Averge Run Time\", size = 15)\n",
    "ax4.set_xlabel(\"N\",size = 15)\n",
    "plt.legend(loc = (0.05, 0.75),fontsize = 15,ncol=1)"
   ]
  },
  {
   "cell_type": "code",
   "execution_count": null,
   "metadata": {},
   "outputs": [],
   "source": []
  }
 ],
 "metadata": {
  "kernelspec": {
   "display_name": "Python 3",
   "language": "python",
   "name": "python3"
  },
  "language_info": {
   "codemirror_mode": {
    "name": "ipython",
    "version": 3
   },
   "file_extension": ".py",
   "mimetype": "text/x-python",
   "name": "python",
   "nbconvert_exporter": "python",
   "pygments_lexer": "ipython3",
   "version": "3.7.4"
  }
 },
 "nbformat": 4,
 "nbformat_minor": 2
}
