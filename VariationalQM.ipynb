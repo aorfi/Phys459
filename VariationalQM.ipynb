{
 "cells": [
  {
   "cell_type": "code",
   "execution_count": 1,
   "metadata": {},
   "outputs": [],
   "source": [
    "from qutip import *\n",
    "import numpy as np\n",
    "import matplotlib.pyplot as plt\n",
    "from random import seed\n",
    "from random import gauss\n",
    "from itertools import product\n",
    "seed(1)"
   ]
  },
  {
   "cell_type": "code",
   "execution_count": 2,
   "metadata": {},
   "outputs": [],
   "source": [
    "#operator definitionis\n",
    "N = 2\n",
    "si = qeye(2)\n",
    "sx = 0.5*sigmax()\n",
    "sy = 0.5*sigmay()\n",
    "sz = 0.5*sigmaz()"
   ]
  },
  {
   "cell_type": "code",
   "execution_count": 3,
   "metadata": {},
   "outputs": [],
   "source": [
    "#make list of tensor products\n",
    "sx_list = []\n",
    "sy_list = []\n",
    "sz_list = []\n",
    "\n",
    "for n in range(N):\n",
    "    op_list = []\n",
    "    for m in range(N):\n",
    "        op_list.append(si)\n",
    "\n",
    "    op_list[n] = sx\n",
    "    sx_list.append(tensor(op_list))\n",
    "\n",
    "    op_list[n] = sy\n",
    "    sy_list.append(tensor(op_list))\n",
    "\n",
    "    op_list[n] = sz\n",
    "    sz_list.append(tensor(op_list))\n"
   ]
  },
  {
   "cell_type": "code",
   "execution_count": 4,
   "metadata": {},
   "outputs": [
    {
     "name": "stdout",
     "output_type": "stream",
     "text": [
      "Quantum object: dims = [[2, 2], [2, 2]], shape = (4, 4), type = oper, isherm = True\n",
      "Qobj data =\n",
      "[[ 0.25  0.    0.    0.  ]\n",
      " [ 0.   -0.25  0.5   0.  ]\n",
      " [ 0.    0.5  -0.25  0.  ]\n",
      " [ 0.    0.    0.    0.25]]\n"
     ]
    }
   ],
   "source": [
    "#Construct Hamiltonian\n",
    "B = 0\n",
    "A0 = 1\n",
    "H = B*sz_list[0] \n",
    "for n in range(N-1):\n",
    "    H += A0*sz_list[0]*sz_list[n+1] + A0*sx_list[0]*sx_list[n+1] + A0*sy_list[0]*sy_list[n+1]\n",
    "print(H)"
   ]
  },
  {
   "cell_type": "code",
   "execution_count": 5,
   "metadata": {},
   "outputs": [
    {
     "data": {
      "text/plain": [
       "(-0.7500000000000001,\n",
       " Quantum object: dims = [[2, 2], [1, 1]], shape = (4, 1), type = ket\n",
       " Qobj data =\n",
       " [[ 0.        ]\n",
       "  [ 0.70710678]\n",
       "  [-0.70710678]\n",
       "  [ 0.        ]])"
      ]
     },
     "execution_count": 5,
     "metadata": {},
     "output_type": "execute_result"
    }
   ],
   "source": [
    "#Find Groundstate\n",
    "H.groundstate()"
   ]
  },
  {
   "cell_type": "code",
   "execution_count": 11,
   "metadata": {},
   "outputs": [
    {
     "name": "stdout",
     "output_type": "stream",
     "text": [
      "[Quantum object: dims = [[2, 2], [1, 1]], shape = (4, 1), type = ket\n",
      "Qobj data =\n",
      "[[1.]\n",
      " [0.]\n",
      " [0.]\n",
      " [0.]], Quantum object: dims = [[2, 2], [1, 1]], shape = (4, 1), type = ket\n",
      "Qobj data =\n",
      "[[0.]\n",
      " [1.]\n",
      " [0.]\n",
      " [0.]], Quantum object: dims = [[2, 2], [1, 1]], shape = (4, 1), type = ket\n",
      "Qobj data =\n",
      "[[0.]\n",
      " [0.]\n",
      " [1.]\n",
      " [0.]], Quantum object: dims = [[2, 2], [1, 1]], shape = (4, 1), type = ket\n",
      "Qobj data =\n",
      "[[0.]\n",
      " [0.]\n",
      " [0.]\n",
      " [1.]]]\n"
     ]
    }
   ],
   "source": [
    "#Make basis\n",
    "Sbasis = []\n",
    "for i in range(N):\n",
    "    for j in range(N):\n",
    "        Sbasis.append(tensor([basis(N,i),basis(N,j)]))\n",
    "print(Sbasis)\n"
   ]
  },
  {
   "cell_type": "code",
   "execution_count": 47,
   "metadata": {},
   "outputs": [
    {
     "name": "stdout",
     "output_type": "stream",
     "text": [
      "[[ 0.5+0.j  0.5+0.j]\n",
      " [ 0.5+0.j -0.5+0.j]\n",
      " [-0.5+0.j  0.5+0.j]\n",
      " [-0.5+0.j -0.5+0.j]]\n"
     ]
    }
   ],
   "source": [
    "#get sz values for basis states\n",
    "sz = np.zeros((2**N,N), dtype = complex)\n",
    "a = [[1 for j in range(N)] for i in range(2**N)]\n",
    "for i in range(2**N):\n",
    "    for j in range(N):\n",
    "        #matrix element <bra|Sz|ket>\n",
    "        sz[i][j] = sz_list[j].matrix_element(Sbasis[i],Sbasis[i])\n",
    "\n",
    "print(sz)"
   ]
  },
  {
   "cell_type": "code",
   "execution_count": 49,
   "metadata": {},
   "outputs": [],
   "source": [
    "#Define RBM Parameters\n",
    "M = 1\n",
    "alp = M/N\n",
    "\n",
    "a = np.zeros(N, dtype = complex)\n",
    "b = np.zeros(M, dtype = complex)\n",
    "W = np.zeros((N,M), dtype = complex)\n"
   ]
  },
  {
   "cell_type": "code",
   "execution_count": 282,
   "metadata": {},
   "outputs": [
    {
     "name": "stdout",
     "output_type": "stream",
     "text": [
      "Quantum object: dims = [[4], [1]], shape = (4, 1), type = ket\n",
      "Qobj data =\n",
      "[[148.78103854]\n",
      " [  3.08616127]\n",
      " [  3.08616127]\n",
      " [  0.41766651]]\n"
     ]
    }
   ],
   "source": [
    "#Function to give RBM wavefuntion\n",
    "def RBM_ansatz(a, b, W, Sbasis, spin, N, M):\n",
    "    expTerm = np.zeros(2**N)\n",
    "    visBias = np.zeros(2**N)\n",
    "    WSum = np.zeros((2**N,M))\n",
    "    hidSum = np.zeros((2**N,M))\n",
    "    hidProduct = np.zeros(2**N)\n",
    "\n",
    "    for i in range(2**N):\n",
    "        for j in range (N):\n",
    "            visBias[i] += spin[i][j]*a[j]\n",
    "            for m in range(M):\n",
    "                WSum[i][m] += W[m][j]*spin[i][j]\n",
    "    for i in range(2**N):\n",
    "        for m in range(M):\n",
    "            hidSum[i][m] = np.cosh(WSum[i][m] + b[m])*2\n",
    "            hidProduct[i] = np.prod(hidSum[i])\n",
    "    for i in range(2**N):\n",
    "        expTerm[i] = np.exp(visBias[i])\n",
    "\n",
    "\n",
    "    #Wavefunction Definition\n",
    "    psiMValues = np.zeros(2**N)\n",
    "    for i in range(2**N):\n",
    "        psiMValues[i] = expTerm[i]*hidProduct[i]\n",
    "    psiM = Qobj(psiMValues)\n",
    "    return psiM\n",
    "\n",
    "psiM = RBM_ansatz(a, b, W, Sbasis, spin, N, M)\n",
    "print(psiM)\n",
    " "
   ]
  },
  {
   "cell_type": "code",
   "execution_count": 283,
   "metadata": {},
   "outputs": [
    {
     "name": "stdout",
     "output_type": "stream",
     "text": [
      "Quantum object: dims = [[4], [1]], shape = (4, 1), type = ket\n",
      "Qobj data =\n",
      "[[148.78103854]\n",
      " [  3.08616127]\n",
      " [  3.08616127]\n",
      " [  0.41766651]]\n",
      "Quantum object: dims = [[2, 2], [2, 2]], shape = (4, 4), type = oper, isherm = True\n",
      "Qobj data =\n",
      "[[ 0.25  0.    0.    0.  ]\n",
      " [ 0.   -0.25  0.5   0.  ]\n",
      " [ 0.    0.5  -0.25  0.  ]\n",
      " [ 0.    0.    0.    0.25]]\n"
     ]
    },
    {
     "data": {
      "text/plain": [
       "False"
      ]
     },
     "execution_count": 283,
     "metadata": {},
     "output_type": "execute_result"
    }
   ],
   "source": [
    "#Variation Energy Definition\n",
    "def varEnergy(psiM, H):\n",
    "    E = psiM\n",
    "    return E\n",
    "E = varEnergy(psiM, H)\n",
    "print (E)\n",
    "\n",
    "print(H)\n",
    "H.istp\n",
    "\n",
    "#something happening with dimensions of matricies \n",
    "\n"
   ]
  },
  {
   "cell_type": "code",
   "execution_count": 284,
   "metadata": {},
   "outputs": [
    {
     "ename": "SyntaxError",
     "evalue": "invalid syntax (<ipython-input-284-06f2cd0b43a3>, line 2)",
     "output_type": "error",
     "traceback": [
      "\u001b[1;36m  File \u001b[1;32m\"<ipython-input-284-06f2cd0b43a3>\"\u001b[1;36m, line \u001b[1;32m2\u001b[0m\n\u001b[1;33m    def updateParameters(a, b, W, learning rate):\u001b[0m\n\u001b[1;37m                                              ^\u001b[0m\n\u001b[1;31mSyntaxError\u001b[0m\u001b[1;31m:\u001b[0m invalid syntax\n"
     ]
    }
   ],
   "source": [
    "#Gradient Descent \n",
    "def updateParameters(a, b, W, learning rate):\n",
    "    \n",
    "    \n",
    "    return a, b, W\n"
   ]
  },
  {
   "cell_type": "code",
   "execution_count": null,
   "metadata": {},
   "outputs": [],
   "source": [
    "#Ground State Wavefunction\n",
    "RBM_ansatz(a, b, W, Sbasis, spin, N, M)"
   ]
  }
 ],
 "metadata": {
  "kernelspec": {
   "display_name": "Python 3",
   "language": "python",
   "name": "python3"
  },
  "language_info": {
   "codemirror_mode": {
    "name": "ipython",
    "version": 3
   },
   "file_extension": ".py",
   "mimetype": "text/x-python",
   "name": "python",
   "nbconvert_exporter": "python",
   "pygments_lexer": "ipython3",
   "version": "3.7.4"
  }
 },
 "nbformat": 4,
 "nbformat_minor": 2
}
