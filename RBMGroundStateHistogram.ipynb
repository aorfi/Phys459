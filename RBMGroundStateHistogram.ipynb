{
 "cells": [
  {
   "cell_type": "code",
   "execution_count": 1,
   "metadata": {},
   "outputs": [],
   "source": [
    "from qutip import *\n",
    "import numpy as np\n",
    "import scipy\n",
    "import cmath\n",
    "import matplotlib.pyplot as plt\n",
    "plt.style.use('seaborn')\n",
    "import itertools\n",
    "from numpy.random import seed\n",
    "from numpy.random import rand\n",
    "from itertools import product\n",
    "from scipy.misc import derivative\n",
    "from scipy import optimize\n",
    "from functools import wraps\n",
    "from time import time\n"
   ]
  },
  {
   "cell_type": "code",
   "execution_count": 2,
   "metadata": {},
   "outputs": [],
   "source": [
    "#Wrapper to time functions\n",
    "def timing(f):\n",
    "    @wraps(f)\n",
    "    def wrap(*args, **kw):\n",
    "        ti = time()\n",
    "        result = f(*args, **kw)\n",
    "        tf = time()\n",
    "        t = tf-ti\n",
    "        return result, t\n",
    "    return wrap"
   ]
  },
  {
   "cell_type": "code",
   "execution_count": 3,
   "metadata": {
    "scrolled": true
   },
   "outputs": [],
   "source": [
    "#Make basis and get sz values\n",
    "def operatorCreation(N):\n",
    "    #operator definitionis\n",
    "    si = qeye(2)\n",
    "    sx = 0.5*sigmax()\n",
    "    sy = 0.5*sigmay()\n",
    "    sz = 0.5*sigmaz()\n",
    "\n",
    "    sx_list = []\n",
    "    sy_list = []\n",
    "    sz_list = []\n",
    "    \n",
    "\n",
    "    for n in range(N):\n",
    "        op_list = []\n",
    "        for m in range(N):\n",
    "            op_list.append(si)\n",
    "\n",
    "        op_list[n] = sx\n",
    "        sx_list.append(tensor(op_list))\n",
    "\n",
    "        op_list[n] = sy\n",
    "        sy_list.append(tensor(op_list))\n",
    "\n",
    "        op_list[n] = sz\n",
    "        sz_list.append(tensor(op_list))\n",
    "        \n",
    "        op_list[n] = si\n",
    "    id = tensor(op_list)\n",
    "        \n",
    "    return sx_list, sy_list, sz_list,id"
   ]
  },
  {
   "cell_type": "code",
   "execution_count": 4,
   "metadata": {},
   "outputs": [],
   "source": [
    "#Construct Hamiltonian\n",
    "def hamiltonian(N,B,A0):\n",
    "    sx_list = operatorCreation(N)[0]\n",
    "    sy_list = operatorCreation(N)[1]\n",
    "    sz_list = operatorCreation(N)[2]\n",
    "    H = B*sz_list[0] \n",
    "    for n in range(N-1):\n",
    "        H += A0*sz_list[0]*sz_list[n+1] + A0*sx_list[0]*sx_list[n+1] + A0*sy_list[0]*sy_list[n+1]\n",
    "    return H"
   ]
  },
  {
   "cell_type": "code",
   "execution_count": 5,
   "metadata": {},
   "outputs": [],
   "source": [
    "#Check if dengerate\n",
    "def CheckDegenerate(H):\n",
    "    estates = H.eigenstates()\n",
    "    lowState = estates[0][0]\n",
    "    secLowState = estates[0][1]\n",
    "    if (abs(lowState-secLowState))<= 1e-10:\n",
    "        return True\n",
    "    else:\n",
    "        return False"
   ]
  },
  {
   "cell_type": "code",
   "execution_count": 6,
   "metadata": {},
   "outputs": [],
   "source": [
    "#Get Ground State Energy and Wavefuntion\n",
    "class GroundState:\n",
    "    \n",
    "    def __init__(self, N, B, A0):\n",
    "        self.hamiltonian = hamiltonian(N, B, A0)\n",
    "     \n",
    "    @timing\n",
    "    def __call__(self):\n",
    "        #find ground state\n",
    "        H = self.hamiltonian\n",
    "        groundState= H.groundstate()\n",
    "        return groundState[0],groundState[1]"
   ]
  },
  {
   "cell_type": "code",
   "execution_count": 7,
   "metadata": {},
   "outputs": [],
   "source": [
    "#Make basis and get sz values\n",
    "def basisCreation(N):\n",
    "    sz_list = operatorCreation(N)[2]\n",
    "    Sbasis = []\n",
    "    basisState = []\n",
    "   \n",
    "    for j in range(2):\n",
    "        basisState.append(basis(2,j))\n",
    "    b = itertools.product(basisState,repeat=N)\n",
    "    basisTensor = list(b)\n",
    "    #makes Sbasis the correct dimesion of Qobj\n",
    "    for i in range(2**N):\n",
    "        c = basisTensor[i][0]\n",
    "        for j in range(N-1):\n",
    "            c = tensor(c,basisTensor[i][j+1])\n",
    "        Sbasis.append(c)\n",
    "\n",
    "    \n",
    "    #get sz values for basis states\n",
    "    sz = np.zeros((2**N,N), dtype = complex)\n",
    "    a = [[1 for j in range(N)] for i in range(2**N)]\n",
    "    for i in range(2**N):\n",
    "        for j in range(N):\n",
    "            #matrix element <bra|Sz|ket>\n",
    "            sz[i][j] = sz_list[j].matrix_element(Sbasis[i],Sbasis[i])\n",
    "    return Sbasis, sz\n"
   ]
  },
  {
   "cell_type": "code",
   "execution_count": 8,
   "metadata": {},
   "outputs": [],
   "source": [
    "#get randomized RBM parameters (between zero and 1)\n",
    "def ranRBMpar(N,M):\n",
    "    par = np.random.rand(2*(N+M+N*M))\n",
    "    return par"
   ]
  },
  {
   "cell_type": "code",
   "execution_count": 9,
   "metadata": {},
   "outputs": [],
   "source": [
    "#Function to give RBM wavefuntion\n",
    "def RBM_ansatz(par,N, M):\n",
    "    Sbasis = basisCreation(N)[0]\n",
    "    sz = basisCreation(N)[1]\n",
    "    #make parmeters complex\n",
    "    num = N+M+N*M\n",
    "    parC = np.vectorize(complex)(par[:num],par[num:])\n",
    "    a = parC[:N]\n",
    "    b = parC[N:N+M]\n",
    "    W = parC[N+M:].reshape(M,N)\n",
    "    expTerm = np.zeros(2**N, dtype = complex)\n",
    "    coshTerm = np.zeros((M,2**N), dtype = complex)\n",
    "    hidProduct = np.zeros(2**N, dtype = complex)\n",
    "    psiMValues = np.zeros(2**N, dtype = complex)\n",
    "    psiM = 0*Sbasis[0]\n",
    "\n",
    "    for i in range(2**N):\n",
    "        for m in range(M):\n",
    "            coshTerm[m][i] = 2*np.cosh(np.dot(W[m],sz[i]) + b[m])\n",
    "    hidProduct = np.prod(coshTerm, axis = 0) \n",
    "    \n",
    "    for i in range(2**N):\n",
    "        expTerm[i] = np.exp(np.dot(a,sz[i]))\n",
    "        psiMValues[i] = expTerm[i]*hidProduct[i]\n",
    "        psiM += psiMValues[i]*Sbasis[i]\n",
    "    psiNorm = psiM.unit()\n",
    "    return psiNorm\n"
   ]
  },
  {
   "cell_type": "code",
   "execution_count": null,
   "metadata": {},
   "outputs": [],
   "source": []
  },
  {
   "cell_type": "code",
   "execution_count": 10,
   "metadata": {},
   "outputs": [],
   "source": [
    "#Variation Energy Definition\n",
    "def varEnergy(par,N, M, H):\n",
    "    psiM = RBM_ansatz(par,N, M)\n",
    "    E = expect(H,psiM)\n",
    "    norm = psiM.norm()**2\n",
    "    Enorm = E/norm\n",
    "    return Enorm"
   ]
  },
  {
   "cell_type": "code",
   "execution_count": 11,
   "metadata": {},
   "outputs": [],
   "source": [
    "#Energy Partials\n",
    "def gradEnergy(par,N, M,H):\n",
    "    eps = 0.001\n",
    "    return optimize.approx_fprime(par,varEnergy,eps, N, M,H)"
   ]
  },
  {
   "cell_type": "code",
   "execution_count": 31,
   "metadata": {},
   "outputs": [],
   "source": [
    "#Gradient Descent\n",
    "class GradDescent:\n",
    "    \n",
    "    def __init__(self, N, B, A0):\n",
    "        H = hamiltonian(N, B, A0)\n",
    "        isDeg = CheckDegenerate(H)\n",
    "        if (isDeg == True):\n",
    "            raise ValueError(\"Hamiltonian has degenerate ground state\")\n",
    "        else:\n",
    "            self.hamiltonian = H\n",
    "     \n",
    "    @timing \n",
    "    def __call__(self, N, M):\n",
    "        par = ranRBMpar(N,M)\n",
    "        H = self.hamiltonian\n",
    "        min = scipy.optimize.fmin_cg(varEnergy,par,args= (N,M,H),gtol = 1e-04, full_output=True, retall = True, disp=True)\n",
    "        #Ground State\n",
    "        found_gs = RBM_ansatz(min[0],N, M)\n",
    "        found_gs = found_gs.unit()\n",
    "        #Ground State Energy\n",
    "        found_gsEnergy =varEnergy(min[0], N, M,H)\n",
    "\n",
    "        return min, found_gs, found_gsEnergy  "
   ]
  },
  {
   "cell_type": "code",
   "execution_count": 32,
   "metadata": {},
   "outputs": [],
   "source": [
    "#Error Calculation\n",
    "def err(found_gs,gs,found_gsEnergy,gsEnergy):\n",
    "    engErr = np.abs(found_gsEnergy-gsEnergy)\n",
    "    waveFunctionErr = found_gs.dag()*gs\n",
    "    waveFunctionErr = 1-waveFunctionErr.norm()\n",
    "    \n",
    "    return engErr,waveFunctionErr\n"
   ]
  },
  {
   "cell_type": "markdown",
   "metadata": {},
   "source": [
    "# Histogram N=3, M=2"
   ]
  },
  {
   "cell_type": "code",
   "execution_count": 37,
   "metadata": {},
   "outputs": [],
   "source": [
    "#Parameter definition \n",
    "N= 2\n",
    "M=2\n",
    "B = 1\n",
    "A0 = 1\n",
    "gdResults = [] #gives ground state estimation at each iteration of gd\n",
    "gdState = []\n",
    "gdTime = []\n",
    "\n",
    "edState = []\n",
    "edTime = []\n",
    "\n",
    "ActualEng = []\n",
    "engErr = []\n",
    "stateErr = []\n",
    "\n",
    "hisIt = np.arange(10)"
   ]
  },
  {
   "cell_type": "code",
   "execution_count": 38,
   "metadata": {},
   "outputs": [
    {
     "name": "stdout",
     "output_type": "stream",
     "text": [
      "Optimization terminated successfully.\n",
      "         Current function value: -0.957093\n",
      "         Iterations: 37\n",
      "         Function evaluations: 1674\n",
      "         Gradient evaluations: 93\n",
      "Optimization terminated successfully.\n",
      "         Current function value: -0.957107\n",
      "         Iterations: 21\n",
      "         Function evaluations: 882\n",
      "         Gradient evaluations: 49\n",
      "Optimization terminated successfully.\n",
      "         Current function value: -0.957107\n",
      "         Iterations: 25\n",
      "         Function evaluations: 774\n",
      "         Gradient evaluations: 43\n",
      "Optimization terminated successfully.\n",
      "         Current function value: -0.957106\n",
      "         Iterations: 43\n",
      "         Function evaluations: 1764\n",
      "         Gradient evaluations: 98\n",
      "Optimization terminated successfully.\n",
      "         Current function value: -0.957107\n",
      "         Iterations: 25\n",
      "         Function evaluations: 810\n",
      "         Gradient evaluations: 45\n",
      "Optimization terminated successfully.\n",
      "         Current function value: -0.957100\n",
      "         Iterations: 23\n",
      "         Function evaluations: 774\n",
      "         Gradient evaluations: 43\n",
      "Optimization terminated successfully.\n",
      "         Current function value: -0.957095\n",
      "         Iterations: 98\n",
      "         Function evaluations: 3708\n",
      "         Gradient evaluations: 206\n",
      "Optimization terminated successfully.\n",
      "         Current function value: -0.957107\n",
      "         Iterations: 14\n",
      "         Function evaluations: 594\n",
      "         Gradient evaluations: 33\n",
      "Optimization terminated successfully.\n",
      "         Current function value: -0.957106\n",
      "         Iterations: 29\n",
      "         Function evaluations: 1080\n",
      "         Gradient evaluations: 60\n",
      "Optimization terminated successfully.\n",
      "         Current function value: -0.957106\n",
      "         Iterations: 23\n",
      "         Function evaluations: 756\n",
      "         Gradient evaluations: 42\n"
     ]
    }
   ],
   "source": [
    "for i in range(len(hisIt)):\n",
    "    #gradient descent\n",
    "    gradDescent = GradDescent(N, B, A0)\n",
    "    gd = gradDescent(N, M)\n",
    "    gdResults.append(gd)\n",
    "    gdState.append(gd[0])\n",
    "    gdTime.append(gd[1])\n",
    "    \n",
    "    \n",
    "    #exact diagonalization \n",
    "    groundState = GroundState(N,B,A0)\n",
    "    ed = groundState()\n",
    "    edState.append(ed[0])\n",
    "    edTime.append(ed[1])\n",
    "    \n",
    "    #Error\n",
    "    gdEngTemp = gd[0][2]\n",
    "    edEngTemp = ed[0][0]\n",
    "    ActualEng.append(edEng)\n",
    "    gdStateTemp = gd[0][1]\n",
    "    edStateTemp = ed[0][1]\n",
    "    errTemp = err(gdStateTemp,edStateTemp,gdEngTemp,edEngTemp)\n",
    "    engErr.append(errTemp[0])\n",
    "    stateErr.append(errTemp[1])\n"
   ]
  },
  {
   "cell_type": "code",
   "execution_count": 39,
   "metadata": {},
   "outputs": [
    {
     "name": "stdout",
     "output_type": "stream",
     "text": [
      "[4.11279022405342e-06, 4.21896628743923e-10, 2.1669488425857253e-10, 2.0735271744065642e-07, 2.438179658170725e-10, 4.873253756310092e-06, 3.487097090859592e-06, 3.276385152073402e-08, 4.5514552382552864e-07, 2.3013599148580255e-07]\n"
     ]
    }
   ],
   "source": [
    "print(stateErr)"
   ]
  },
  {
   "cell_type": "code",
   "execution_count": 42,
   "metadata": {},
   "outputs": [
    {
     "data": {
      "image/png": "[encoded data removed]",
      "text/plain": [
       "<Figure size 432x288 with 1 Axes>"
      ]
     },
     "metadata": {
      "needs_background": "light"
     },
     "output_type": "display_data"
    }
   ],
   "source": [
    "plt.hist(stateErr, bins='auto') \n",
    "plt.title(\"N = 2, M = 2 \\n Wavefunction Error Histogram\")\n",
    "plt.show()"
   ]
  },
  {
   "cell_type": "code",
   "execution_count": null,
   "metadata": {},
   "outputs": [],
   "source": [
    "plt.hist(stateErr, bins='auto') \n",
    "plt.title(\"N = 2, M = 2 \\n Wavefunction Error Histogram\")\n",
    "plt.show()"
   ]
  }
 ],
 "metadata": {
  "kernelspec": {
   "display_name": "Python 3",
   "language": "python",
   "name": "python3"
  },
  "language_info": {
   "codemirror_mode": {
    "name": "ipython",
    "version": 3
   },
   "file_extension": ".py",
   "mimetype": "text/x-python",
   "name": "python",
   "nbconvert_exporter": "python",
   "pygments_lexer": "ipython3",
   "version": "3.7.4"
  }
 },
 "nbformat": 4,
 "nbformat_minor": 2
}
