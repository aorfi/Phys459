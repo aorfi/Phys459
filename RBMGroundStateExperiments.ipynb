{
 "cells": [
  {
   "cell_type": "code",
   "execution_count": 2,
   "metadata": {},
   "outputs": [],
   "source": [
    "from qutip import *\n",
    "import numpy as np\n",
    "import scipy\n",
    "import cmath\n",
    "import matplotlib\n",
    "import matplotlib.pyplot as plt\n",
    "import itertools\n",
    "from numpy.random import seed\n",
    "from numpy.random import rand\n",
    "from itertools import product\n",
    "from scipy.misc import derivative\n",
    "from scipy import optimize\n",
    "from functools import wraps\n",
    "from time import time\n",
    "from matplotlib import rc\n",
    "plt.style.use('seaborn')\n"
   ]
  },
  {
   "cell_type": "code",
   "execution_count": 3,
   "metadata": {},
   "outputs": [],
   "source": [
    "#Wrapper to time functions\n",
    "def timing(f):\n",
    "    @wraps(f)\n",
    "    def wrap(*args, **kw):\n",
    "        ti = time()\n",
    "        result = f(*args, **kw)\n",
    "        tf = time()\n",
    "        t = tf-ti\n",
    "        return result, t\n",
    "    return wrap"
   ]
  },
  {
   "cell_type": "code",
   "execution_count": 4,
   "metadata": {
    "scrolled": true
   },
   "outputs": [],
   "source": [
    "#Make basis and get sz values\n",
    "def operatorCreation(N):\n",
    "    #operator definitionis\n",
    "    si = qeye(2)\n",
    "    sx = 0.5*sigmax()\n",
    "    sy = 0.5*sigmay()\n",
    "    sz = 0.5*sigmaz()\n",
    "\n",
    "    sx_list = []\n",
    "    sy_list = []\n",
    "    sz_list = []\n",
    "    \n",
    "\n",
    "    for n in range(N):\n",
    "        op_list = []\n",
    "        for m in range(N):\n",
    "            op_list.append(si)\n",
    "\n",
    "        op_list[n] = sx\n",
    "        sx_list.append(tensor(op_list))\n",
    "\n",
    "        op_list[n] = sy\n",
    "        sy_list.append(tensor(op_list))\n",
    "\n",
    "        op_list[n] = sz\n",
    "        sz_list.append(tensor(op_list))\n",
    "        \n",
    "        op_list[n] = si\n",
    "    id = tensor(op_list)\n",
    "        \n",
    "    return sx_list, sy_list, sz_list,id"
   ]
  },
  {
   "cell_type": "code",
   "execution_count": 5,
   "metadata": {},
   "outputs": [],
   "source": [
    "#Construct Hamiltonian\n",
    "def hamiltonian(N,B,A0):\n",
    "    sx_list = operatorCreation(N)[0]\n",
    "    sy_list = operatorCreation(N)[1]\n",
    "    sz_list = operatorCreation(N)[2]\n",
    "    H = B*sz_list[0] \n",
    "    for n in range(N-1):\n",
    "        H += A0*sz_list[0]*sz_list[n+1] + A0*sx_list[0]*sx_list[n+1] + A0*sy_list[0]*sy_list[n+1]\n",
    "    return H"
   ]
  },
  {
   "cell_type": "code",
   "execution_count": 6,
   "metadata": {},
   "outputs": [],
   "source": [
    "#Get Ground State Energy and Wavefuntion\n",
    "class GroundState:\n",
    "    \n",
    "    def __init__(self, N, B, A0):\n",
    "        self.hamiltonian = hamiltonian(N, B, A0)\n",
    "     \n",
    "    @timing\n",
    "    def __call__(self):\n",
    "        #find ground state\n",
    "        H = self.hamiltonian\n",
    "        groundState= H.groundstate()\n",
    "        return groundState[0],groundState[1]"
   ]
  },
  {
   "cell_type": "code",
   "execution_count": 7,
   "metadata": {},
   "outputs": [],
   "source": [
    "#Make basis and get sz values\n",
    "def basisCreation(N):\n",
    "    sz_list = operatorCreation(N)[2]\n",
    "    Sbasis = []\n",
    "    basisState = []\n",
    "   \n",
    "    for j in range(2):\n",
    "        basisState.append(basis(2,j))\n",
    "    b = itertools.product(basisState,repeat=N)\n",
    "    basisTensor = list(b)\n",
    "    #makes Sbasis the correct dimesion of Qobj\n",
    "    for i in range(2**N):\n",
    "        c = basisTensor[i][0]\n",
    "        for j in range(N-1):\n",
    "            c = tensor(c,basisTensor[i][j+1])\n",
    "        Sbasis.append(c)\n",
    "\n",
    "    \n",
    "    #get sz values for basis states\n",
    "    sz = np.zeros((2**N,N), dtype = complex)\n",
    "    a = [[1 for j in range(N)] for i in range(2**N)]\n",
    "    for i in range(2**N):\n",
    "        for j in range(N):\n",
    "            #matrix element <bra|Sz|ket>\n",
    "            sz[i][j] = sz_list[j].matrix_element(Sbasis[i],Sbasis[i])\n",
    "    return Sbasis, sz\n"
   ]
  },
  {
   "cell_type": "code",
   "execution_count": 12,
   "metadata": {},
   "outputs": [
    {
     "name": "stdout",
     "output_type": "stream",
     "text": [
      "[0.28777534 0.13002857 0.01936696 0.67883553 0.21162812 0.26554666\n",
      " 0.49157316 0.05336255 0.57411761 0.14672857 0.58930554 0.69975836\n",
      " 0.10233443 0.41405599 0.69440016 0.41417927]\n"
     ]
    }
   ],
   "source": [
    "#get randomized RBM parameters (between zero and 1)\n",
    "def ranRBMpar(N,M):\n",
    "    par = np.random.rand(2*(N+M+N*M))\n",
    "    return par\n",
    "a = ranRBMpar(2,2)\n",
    "print(a)"
   ]
  },
  {
   "cell_type": "code",
   "execution_count": 11,
   "metadata": {},
   "outputs": [],
   "source": [
    "#Function to give RBM wavefuntion\n",
    "def RBM_ansatz(par,N, M):\n",
    "    Sbasis = basisCreation(N)[0]\n",
    "    sz = basisCreation(N)[1]\n",
    "    #make parmeters complex\n",
    "    num = N+M+N*M\n",
    "    parC = np.vectorize(complex)(par[:num],par[num:])\n",
    "    a = parC[:N]\n",
    "    b = parC[N:N+M]\n",
    "    W = parC[N+M:].reshape(M,N)\n",
    "    expTerm = np.zeros(2**N, dtype = complex)\n",
    "    coshTerm = np.zeros((M,2**N), dtype = complex)\n",
    "    hidProduct = np.zeros(2**N, dtype = complex)\n",
    "    psiMValues = np.zeros(2**N, dtype = complex)\n",
    "    psiM = 0*Sbasis[0]\n",
    "\n",
    "    for i in range(2**N):\n",
    "        for m in range(M):\n",
    "            coshTerm[m][i] = 2*np.cosh(np.dot(W[m],sz[i]) + b[m])\n",
    "    hidProduct = np.prod(coshTerm, axis = 0) \n",
    "    \n",
    "    for i in range(2**N):\n",
    "        expTerm[i] = np.exp(np.dot(a,sz[i]))\n",
    "        psiMValues[i] = expTerm[i]*hidProduct[i]\n",
    "        psiM += psiMValues[i]*Sbasis[i]\n",
    "    psiNorm = psiM.unit()\n",
    "    return psiNorm"
   ]
  },
  {
   "cell_type": "code",
   "execution_count": null,
   "metadata": {},
   "outputs": [],
   "source": []
  },
  {
   "cell_type": "code",
   "execution_count": 9,
   "metadata": {},
   "outputs": [],
   "source": [
    "#Variation Energy Definition\n",
    "def varEnergy(par,N, M, H):\n",
    "    psiM = RBM_ansatz(par,N, M)\n",
    "    E = expect(H,psiM)\n",
    "    norm = psiM.norm()**2\n",
    "    Enorm = E/norm\n",
    "    return Enorm"
   ]
  },
  {
   "cell_type": "code",
   "execution_count": 10,
   "metadata": {},
   "outputs": [],
   "source": [
    "#Energy Partials\n",
    "def gradEnergy(par,N, M,H):\n",
    "    eps = 0.001\n",
    "    return optimize.approx_fprime(par,varEnergy,eps, N, M,H)"
   ]
  },
  {
   "cell_type": "code",
   "execution_count": 79,
   "metadata": {},
   "outputs": [],
   "source": [
    "class GradDescent:\n",
    "    def __init__(self, N, _B, _A0):\n",
    "        self.hamiltonian = hamiltonian(N, _B, _A0)\n",
    "    \n",
    "    def __call__(self, N, M):\n",
    "        par = ranRBMpar(N,M)\n",
    "        H = self.hamiltonian\n",
    "        min = scipy.optimize.fmin_cg(varEnergy,par,args= (N,M,H), gtol=1e-03, full_output=True, retall = True, disp=True)\n",
    "        #Ground State\n",
    "        found_gs = RBM_ansatz(min[0],N, M)\n",
    "        found_gs = found_gs.unit()\n",
    "        #Ground State Energy\n",
    "        found_gsEnergy =varEnergy(min[0], N, M,H)\n",
    "\n",
    "        return min, found_gs, found_gsEnergy  \n",
    "    \n",
    "    "
   ]
  },
  {
   "cell_type": "code",
   "execution_count": 74,
   "metadata": {},
   "outputs": [],
   "source": [
    "#Error Calculation\n",
    "def err(found_gs,gs,found_gsEnergy,gsEnergy):\n",
    "    engErr = np.abs(found_gsEnergy-gsEnergy)\n",
    "    waveFunctionErr = found_gs.dag()*gs\n",
    "    waveFunctionErr = 1-waveFunctionErr.norm()\n",
    "    \n",
    "    return engErr,waveFunctionErr\n",
    "\n"
   ]
  },
  {
   "cell_type": "code",
   "execution_count": null,
   "metadata": {},
   "outputs": [],
   "source": []
  },
  {
   "cell_type": "code",
   "execution_count": 67,
   "metadata": {},
   "outputs": [
    {
     "name": "stdout",
     "output_type": "stream",
     "text": [
      "Optimization terminated successfully.\n",
      "         Current function value: -0.249958\n",
      "         Iterations: 2\n",
      "         Function evaluations: 108\n",
      "         Gradient evaluations: 9\n"
     ]
    }
   ],
   "source": [
    "#Vary M Values\n",
    "N=2\n",
    "M_values = np.arange(1,2)\n",
    "results = []\n",
    "B=0\n",
    "A0=1\n",
    "\n",
    "gradDescent = GradDescent(N, B, A0)\n",
    "\n",
    "for i in range(M_values.size):\n",
    "    r = gradDescent(N, M_values[i])\n",
    "    results.append(r)"
   ]
  },
  {
   "cell_type": "code",
   "execution_count": 68,
   "metadata": {},
   "outputs": [
    {
     "ename": "TypeError",
     "evalue": "__call__() takes 1 positional argument but 2 were given",
     "output_type": "error",
     "traceback": [
      "\u001b[1;31m---------------------------------------------------------------------------\u001b[0m",
      "\u001b[1;31mTypeError\u001b[0m                                 Traceback (most recent call last)",
      "\u001b[1;32m<ipython-input-68-c329cc2e359f>\u001b[0m in \u001b[0;36m<module>\u001b[1;34m\u001b[0m\n\u001b[1;32m----> 1\u001b[1;33m \u001b[0mgs\u001b[0m \u001b[1;33m=\u001b[0m \u001b[0mgroundState\u001b[0m\u001b[1;33m(\u001b[0m \u001b[0mhamiltonian\u001b[0m\u001b[1;33m(\u001b[0m\u001b[1;36m2\u001b[0m\u001b[1;33m,\u001b[0m \u001b[0mB\u001b[0m\u001b[1;33m,\u001b[0m \u001b[0mA0\u001b[0m\u001b[1;33m)\u001b[0m\u001b[1;33m)\u001b[0m\u001b[1;33m[\u001b[0m\u001b[1;36m1\u001b[0m\u001b[1;33m]\u001b[0m\u001b[1;33m\u001b[0m\u001b[1;33m\u001b[0m\u001b[0m\n\u001b[0m\u001b[0;32m      2\u001b[0m \u001b[0meng_err\u001b[0m \u001b[1;33m=\u001b[0m \u001b[1;33m[\u001b[0m\u001b[1;33m]\u001b[0m\u001b[1;33m\u001b[0m\u001b[1;33m\u001b[0m\u001b[0m\n\u001b[0;32m      3\u001b[0m \u001b[0mwaveFunction_err\u001b[0m \u001b[1;33m=\u001b[0m \u001b[1;33m[\u001b[0m\u001b[1;33m]\u001b[0m\u001b[1;33m\u001b[0m\u001b[1;33m\u001b[0m\u001b[0m\n\u001b[0;32m      4\u001b[0m \u001b[1;32mfor\u001b[0m \u001b[0mi\u001b[0m \u001b[1;32min\u001b[0m \u001b[0mrange\u001b[0m\u001b[1;33m(\u001b[0m\u001b[0mM_values\u001b[0m\u001b[1;33m.\u001b[0m\u001b[0msize\u001b[0m\u001b[1;33m)\u001b[0m\u001b[1;33m:\u001b[0m\u001b[1;33m\u001b[0m\u001b[1;33m\u001b[0m\u001b[0m\n\u001b[0;32m      5\u001b[0m     \u001b[0meng_err\u001b[0m\u001b[1;33m.\u001b[0m\u001b[0mappend\u001b[0m\u001b[1;33m(\u001b[0m\u001b[0merr\u001b[0m\u001b[1;33m(\u001b[0m\u001b[0mresults\u001b[0m\u001b[1;33m[\u001b[0m\u001b[0mi\u001b[0m\u001b[1;33m]\u001b[0m\u001b[1;33m[\u001b[0m\u001b[1;36m1\u001b[0m\u001b[1;33m]\u001b[0m\u001b[1;33m,\u001b[0m\u001b[0mgs\u001b[0m\u001b[1;33m,\u001b[0m\u001b[0mresults\u001b[0m\u001b[1;33m[\u001b[0m\u001b[0mi\u001b[0m\u001b[1;33m]\u001b[0m\u001b[1;33m[\u001b[0m\u001b[1;36m2\u001b[0m\u001b[1;33m]\u001b[0m\u001b[1;33m,\u001b[0m\u001b[1;33m-\u001b[0m\u001b[1;36m0.75\u001b[0m\u001b[1;33m)\u001b[0m\u001b[1;33m[\u001b[0m\u001b[1;36m0\u001b[0m\u001b[1;33m]\u001b[0m\u001b[1;33m)\u001b[0m\u001b[1;33m\u001b[0m\u001b[1;33m\u001b[0m\u001b[0m\n",
      "\u001b[1;32m<ipython-input-35-6622a3b6181e>\u001b[0m in \u001b[0;36mwrap\u001b[1;34m(*args, **kw)\u001b[0m\n\u001b[0;32m      4\u001b[0m     \u001b[1;32mdef\u001b[0m \u001b[0mwrap\u001b[0m\u001b[1;33m(\u001b[0m\u001b[1;33m*\u001b[0m\u001b[0margs\u001b[0m\u001b[1;33m,\u001b[0m \u001b[1;33m**\u001b[0m\u001b[0mkw\u001b[0m\u001b[1;33m)\u001b[0m\u001b[1;33m:\u001b[0m\u001b[1;33m\u001b[0m\u001b[1;33m\u001b[0m\u001b[0m\n\u001b[0;32m      5\u001b[0m         \u001b[0mti\u001b[0m \u001b[1;33m=\u001b[0m \u001b[0mtime\u001b[0m\u001b[1;33m(\u001b[0m\u001b[1;33m)\u001b[0m\u001b[1;33m\u001b[0m\u001b[1;33m\u001b[0m\u001b[0m\n\u001b[1;32m----> 6\u001b[1;33m         \u001b[0mresult\u001b[0m \u001b[1;33m=\u001b[0m \u001b[0mf\u001b[0m\u001b[1;33m(\u001b[0m\u001b[1;33m*\u001b[0m\u001b[0margs\u001b[0m\u001b[1;33m,\u001b[0m \u001b[1;33m**\u001b[0m\u001b[0mkw\u001b[0m\u001b[1;33m)\u001b[0m\u001b[1;33m\u001b[0m\u001b[1;33m\u001b[0m\u001b[0m\n\u001b[0m\u001b[0;32m      7\u001b[0m         \u001b[0mtf\u001b[0m \u001b[1;33m=\u001b[0m \u001b[0mtime\u001b[0m\u001b[1;33m(\u001b[0m\u001b[1;33m)\u001b[0m\u001b[1;33m\u001b[0m\u001b[1;33m\u001b[0m\u001b[0m\n\u001b[0;32m      8\u001b[0m         \u001b[0mt\u001b[0m \u001b[1;33m=\u001b[0m \u001b[0mtf\u001b[0m\u001b[1;33m-\u001b[0m\u001b[0mti\u001b[0m\u001b[1;33m\u001b[0m\u001b[1;33m\u001b[0m\u001b[0m\n",
      "\u001b[1;31mTypeError\u001b[0m: __call__() takes 1 positional argument but 2 were given"
     ]
    }
   ],
   "source": [
    "gs = groundState( hamiltonian(2, B, A0))[1]\n",
    "eng_err = []\n",
    "waveFunction_err = []\n",
    "for i in range(M_values.size):\n",
    "    eng_err.append(err(results[i][1],gs,results[i][2],-0.75)[0])\n",
    "    waveFunction_err.append(err(results[i][1],gs,results[i][2],-0.75)[1])"
   ]
  },
  {
   "cell_type": "code",
   "execution_count": null,
   "metadata": {},
   "outputs": [],
   "source": [
    "fig, ax1 = plt.subplots()\n",
    "ttl =plt.suptitle(\"Effect of Number of Hidden Nodes (M) on \\nEnergy and Wavefuntion Error\",size =15)\n",
    "ttl.set_position([.5, 1.05])\n",
    "color = 'tab:red'\n",
    "ax1.set_xlabel('M Value')\n",
    "ax1.set_ylabel('Energy Error', color=color)\n",
    "ax1.plot(M_values, eng_err,color=color)\n",
    "ax1.scatter(M_values, eng_err, color=color)\n",
    "ax1.tick_params(axis='y', labelcolor=color)\n",
    "\n",
    "ax2 = ax1.twinx()  \n",
    "\n",
    "color = 'tab:blue'\n",
    "ax2.set_ylabel('Wavefunction Error', color=color)  \n",
    "ax2.plot(M_values, waveFunction_err,'--', color=color)\n",
    "ax2.scatter(M_values, waveFunction_err, color=color)\n",
    "ax2.tick_params(axis='y', labelcolor=color)\n",
    "\n",
    "fig.tight_layout() \n",
    "plt.show()\n"
   ]
  },
  {
   "cell_type": "code",
   "execution_count": null,
   "metadata": {},
   "outputs": [],
   "source": []
  },
  {
   "cell_type": "code",
   "execution_count": 13,
   "metadata": {},
   "outputs": [
    {
     "ename": "NameError",
     "evalue": "name 'GradDescent' is not defined",
     "output_type": "error",
     "traceback": [
      "\u001b[1;31m---------------------------------------------------------------------------\u001b[0m",
      "\u001b[1;31mNameError\u001b[0m                                 Traceback (most recent call last)",
      "\u001b[1;32m<ipython-input-13-95110f506aea>\u001b[0m in \u001b[0;36m<module>\u001b[1;34m\u001b[0m\n\u001b[0;32m      5\u001b[0m \u001b[0mB\u001b[0m \u001b[1;33m=\u001b[0m \u001b[1;36m1\u001b[0m\u001b[1;33m\u001b[0m\u001b[1;33m\u001b[0m\u001b[0m\n\u001b[0;32m      6\u001b[0m \u001b[1;33m\u001b[0m\u001b[0m\n\u001b[1;32m----> 7\u001b[1;33m \u001b[0mgradDescent\u001b[0m \u001b[1;33m=\u001b[0m \u001b[0mGradDescent\u001b[0m\u001b[1;33m(\u001b[0m\u001b[0mN\u001b[0m\u001b[1;33m,\u001b[0m \u001b[0mB\u001b[0m\u001b[1;33m,\u001b[0m \u001b[0mA0\u001b[0m\u001b[1;33m)\u001b[0m\u001b[1;33m\u001b[0m\u001b[1;33m\u001b[0m\u001b[0m\n\u001b[0m\u001b[0;32m      8\u001b[0m \u001b[1;33m\u001b[0m\u001b[0m\n\u001b[0;32m      9\u001b[0m \u001b[0mresults\u001b[0m \u001b[1;33m=\u001b[0m \u001b[0mgradDescent\u001b[0m\u001b[1;33m(\u001b[0m\u001b[0mN\u001b[0m\u001b[1;33m,\u001b[0m\u001b[0mM\u001b[0m\u001b[1;33m)\u001b[0m\u001b[1;33m\u001b[0m\u001b[1;33m\u001b[0m\u001b[0m\n",
      "\u001b[1;31mNameError\u001b[0m: name 'GradDescent' is not defined"
     ]
    }
   ],
   "source": [
    "#Parameter Definition\n",
    "N = 2\n",
    "M = 2\n",
    "A0 = 1 \n",
    "B = 1\n",
    "\n",
    "gradDescent = GradDescent(N, B, A0)\n",
    "\n",
    "results = gradDescent(N,M)\n"
   ]
  },
  {
   "cell_type": "code",
   "execution_count": 89,
   "metadata": {},
   "outputs": [],
   "source": [
    "#Get ground state error at each iteration\n",
    "state = []\n",
    "stateErr = []\n",
    "engErr = []\n",
    "groundState = GroundState(N,B,A0)\n",
    "gs = groundState()[0][1]\n",
    "gsEng = groundState()[0][0]\n",
    "\n",
    "for i in range(len(results[0][5])):\n",
    "    stateIter = RBM_ansatz(results[0][5][i],N, M)\n",
    "    state.append(stateIter)\n",
    "    EngIter = varEnergy(results[0][5][i],N, M, hamiltonian(N, B, A0))\n",
    "    errIter = err(stateIter,gs,EngIter,gsEng)\n",
    "    engErr.append(errIter[0])\n",
    "    stateErr.append(errIter[1])"
   ]
  },
  {
   "cell_type": "code",
   "execution_count": 90,
   "metadata": {},
   "outputs": [
    {
     "data": {
      "image/png": "[encoded data removed]",
      "text/plain": [
       "<Figure size 800x550 with 1 Axes>"
      ]
     },
     "metadata": {},
     "output_type": "display_data"
    }
   ],
   "source": [
    "#plot energy vs iteration\n",
    "numIter = len(results[0][5])\n",
    "iter = np.arange(numIter)\n",
    "plt.plot(iter, engErr)\n",
    "plt.xlabel('Iteration')\n",
    "plt.ylabel('Energy Error')\n",
    "plt.title('Heisenberg Interaction Energy vs Iteration for N=2, M=2 \\n gtol = 1e-04')\n",
    "plt.show()"
   ]
  },
  {
   "cell_type": "code",
   "execution_count": 91,
   "metadata": {},
   "outputs": [
    {
     "data": {
      "image/png": "[encoded data removed]",
      "text/plain": [
       "<Figure size 800x550 with 1 Axes>"
      ]
     },
     "metadata": {},
     "output_type": "display_data"
    }
   ],
   "source": [
    "#Print Ground State Error\n",
    "plt.plot(iter, stateErr)\n",
    "plt.savefig('nakedplot.png', dpi=300)\n",
    "#plt.title('Heisenberg Interaction Ground State Error vs Iteration for N=2, M=2')\n",
    "plt.show()"
   ]
  },
  {
   "cell_type": "code",
   "execution_count": null,
   "metadata": {},
   "outputs": [],
   "source": []
  }
 ],
 "metadata": {
  "kernelspec": {
   "display_name": "Python 3",
   "language": "python",
   "name": "python3"
  },
  "language_info": {
   "codemirror_mode": {
    "name": "ipython",
    "version": 3
   },
   "file_extension": ".py",
   "mimetype": "text/x-python",
   "name": "python",
   "nbconvert_exporter": "python",
   "pygments_lexer": "ipython3",
   "version": "3.7.4"
  }
 },
 "nbformat": 4,
 "nbformat_minor": 2
}
