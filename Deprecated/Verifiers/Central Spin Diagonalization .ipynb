{
 "cells": [
  {
   "cell_type": "code",
   "execution_count": 23,
   "metadata": {},
   "outputs": [],
   "source": [
    "import numpy as np\n",
    "import matplotlib.pyplot as plt\n",
    "import scipy.linalg as la\n",
    "import cmath\n",
    "import math\n",
    "from qutip import *\n",
    "from math import e\n",
    "j = cmath.sqrt(-1)"
   ]
  },
  {
   "cell_type": "code",
   "execution_count": 24,
   "metadata": {},
   "outputs": [],
   "source": [
    "#definition of useful matrices\n",
    "pauliZ = np.array([[1,0],[0,-1]], dtype=complex)\n",
    "pauliX = np.array([[0,1],[1,0]], dtype=complex)\n",
    "pauliY = np.array([[0,-j],[j,0]], dtype=complex)\n",
    "I = 1.0*np.array([[1,0],[0,1]], dtype=complex)\n",
    "N=2"
   ]
  },
  {
   "cell_type": "code",
   "execution_count": 25,
   "metadata": {
    "scrolled": true
   },
   "outputs": [],
   "source": [
    "#generating array for Sz for particle k, all identity exect the kth position which is pauliZ (X/Y)\n",
    "SkZgen = np.full((N,N,2,2),I, dtype=complex)\n",
    "SkXgen = np.full((N,N,2,2),I, dtype=complex)\n",
    "SkYgen = np.full((N,N,2,2),I, dtype=complex)\n",
    "for i in range(N):\n",
    "    SkZgen[i,i] = 0.5*pauliZ\n",
    "    SkXgen[i,i] = 0.5*pauliX\n",
    "    SkYgen[i,i] = 0.5*pauliY"
   ]
  },
  {
   "cell_type": "code",
   "execution_count": 26,
   "metadata": {},
   "outputs": [
    {
     "name": "stdout",
     "output_type": "stream",
     "text": [
      "[[0. +0.j 0.5+0.j 0. +0.j 0. +0.j]\n",
      " [0.5+0.j 0. +0.j 0. +0.j 0. +0.j]\n",
      " [0. +0.j 0. +0.j 0. +0.j 0.5+0.j]\n",
      " [0. +0.j 0. +0.j 0.5+0.j 0. +0.j]]\n"
     ]
    }
   ],
   "source": [
    "#creates array of SZ (SX/SY) operators in Hilbert space of N particles\n",
    "#The element of the array is which particle SZ (SX/SY) acts on\n",
    "SZ = np.zeros((N,2**N,2**N), dtype=complex)\n",
    "SX = np.zeros((N,2**N,2**N), dtype=complex)\n",
    "SY = np.zeros((N,2**N,2**N), dtype=complex)\n",
    "for i in range(N):\n",
    "    SiZgen = SkZgen[i]\n",
    "    SjZ = SiZgen[0]\n",
    "    SiXgen = SkXgen[i]\n",
    "    SjX = SiXgen[0]\n",
    "    SiYgen = SkYgen[i]\n",
    "    SjY = SiYgen[0]\n",
    "    for k in range(N-1):\n",
    "        SjZ = np.kron(SjZ,SiZgen[k+1])\n",
    "        SjX = np.kron(SjX,SiXgen[k+1])\n",
    "        SjY = np.kron(SjY,SiYgen[k+1])\n",
    "    SZ[i] = SjZ\n",
    "    SX[i] = SjX\n",
    "    SY[i] = SjY\n",
    "print(SX[1])"
   ]
  },
  {
   "cell_type": "code",
   "execution_count": 27,
   "metadata": {},
   "outputs": [
    {
     "name": "stdout",
     "output_type": "stream",
     "text": [
      "[[ 0.75+0.j  0.  +0.j  0.  +0.j  0.  +0.j]\n",
      " [ 0.  +0.j  0.25+0.j  0.5 +0.j  0.  +0.j]\n",
      " [ 0.  +0.j  0.5 +0.j -0.75+0.j  0.  +0.j]\n",
      " [ 0.  +0.j  0.  +0.j  0.  +0.j -0.25+0.j]]\n"
     ]
    }
   ],
   "source": [
    "#Define Hamiltonian \n",
    "B = 1\n",
    "A0 = 1\n",
    "sum = np.zeros((2**N,2**N))\n",
    "for i in range(N-1):\n",
    "    sum = sum +np.matmul(SZ[0],SZ[i+1]) + np.matmul(SX[0],SX[i+1]) + np.matmul(SY[0],SY[i+1])\n",
    "H = B*SZ[0]+A0*sum\n",
    "print(H)"
   ]
  },
  {
   "cell_type": "code",
   "execution_count": 28,
   "metadata": {},
   "outputs": [
    {
     "name": "stdout",
     "output_type": "stream",
     "text": [
      "[[-0.        +0.j -0.38268343+0.j  0.92387953+0.j -0.        +0.j]\n",
      " [ 0.        +0.j  0.92387953+0.j  0.38268343+0.j  0.        +0.j]\n",
      " [ 1.        +0.j  0.        +0.j  0.        +0.j  0.        +0.j]\n",
      " [ 0.        +0.j  0.        +0.j  0.        +0.j  1.        +0.j]]\n",
      "[1.+0.j 0.+0.j 0.+0.j 0.+0.j]\n"
     ]
    }
   ],
   "source": [
    "#Diagonalize \n",
    "eng = np.real(la.eig(H)[0])\n",
    "basis = np.transpose(la.eig(H)[1])\n",
    "Obasis = np.identity(2**N)\n",
    "print(basis)\n",
    "print(basis[2])"
   ]
  },
  {
   "cell_type": "code",
   "execution_count": 29,
   "metadata": {},
   "outputs": [
    {
     "name": "stdout",
     "output_type": "stream",
     "text": [
      "[0.+0.j 1.+0.j 0.+0.j 0.+0.j]\n"
     ]
    }
   ],
   "source": [
    "#Initial State (in Z basis)\n",
    "psi = np.zeros([1,2**N], dtype=complex)\n",
    "psi[0][1]=1\n",
    "print(psi[0])"
   ]
  },
  {
   "cell_type": "code",
   "execution_count": 30,
   "metadata": {},
   "outputs": [
    {
     "name": "stdout",
     "output_type": "stream",
     "text": [
      "[[-0.38268343+0.j]\n",
      " [ 0.92387953+0.j]\n",
      " [ 0.        +0.j]\n",
      " [ 0.        +0.j]]\n"
     ]
    }
   ],
   "source": [
    "#Change of basis matrix\n",
    "COB = np.zeros((2**N,2**N), dtype=complex)\n",
    "for i in range(2**N):\n",
    "    for k in range(2**N):\n",
    "        COB[i][k] = np.dot(basis[i],Obasis[k])\n",
    "psiN = np.matmul(COB,np.transpose(psi))\n",
    "print(psiN)"
   ]
  },
  {
   "cell_type": "code",
   "execution_count": 31,
   "metadata": {
    "scrolled": false
   },
   "outputs": [],
   "source": [
    "#Evolve\n",
    "steps = 20\n",
    "t = np.arange(steps)\n",
    "psit = np.zeros([steps,1,2**N], dtype=complex)\n",
    "for i in range(steps):\n",
    "    for k in range(2**N):\n",
    "        psit[i][0][k] = psiN[k][0]*e**(-j*eng[k]*t[i])"
   ]
  },
  {
   "cell_type": "code",
   "execution_count": 32,
   "metadata": {},
   "outputs": [],
   "source": [
    "#expectation value of SZ0\n",
    "ESZ0 = np.zeros(steps)\n",
    "SZ0E= np.matmul(COB,SZ[0])\n",
    "for i in range(steps):\n",
    "    psitTran = np.transpose(psit[i])\n",
    "    psitCon = np.conjugate(psit[i])\n",
    "    a =np.matmul(SZ0E,psitTran, dtype=complex)\n",
    "    ESZ0[i] = np.real(np.matmul(psitCon,a, dtype=complex))"
   ]
  },
  {
   "cell_type": "code",
   "execution_count": 33,
   "metadata": {},
   "outputs": [
    {
     "data": {
      "image/png": "[encoded data removed]",
      "text/plain": [
       "<Figure size 432x288 with 1 Axes>"
      ]
     },
     "metadata": {
      "needs_background": "light"
     },
     "output_type": "display_data"
    }
   ],
   "source": [
    "plt.plot(t,ESZ0)\n",
    "plt.title('Time Evolution of <SZ0>')\n",
    "plt.ylabel(\"<EZ0>\")\n",
    "plt.xlabel(\"t\")\n",
    "plt.show()"
   ]
  },
  {
   "cell_type": "code",
   "execution_count": null,
   "metadata": {},
   "outputs": [],
   "source": []
  },
  {
   "cell_type": "code",
   "execution_count": null,
   "metadata": {},
   "outputs": [],
   "source": []
  }
 ],
 "metadata": {
  "kernelspec": {
   "display_name": "Python 3",
   "language": "python",
   "name": "python3"
  },
  "language_info": {
   "codemirror_mode": {
    "name": "ipython",
    "version": 3
   },
   "file_extension": ".py",
   "mimetype": "text/x-python",
   "name": "python",
   "nbconvert_exporter": "python",
   "pygments_lexer": "ipython3",
   "version": "3.7.4"
  }
 },
 "nbformat": 4,
 "nbformat_minor": 2
}
