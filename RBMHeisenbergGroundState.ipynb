{
 "cells": [
  {
   "cell_type": "code",
   "execution_count": 129,
   "metadata": {},
   "outputs": [],
   "source": [
    "from qutip import *\n",
    "import numpy as np\n",
    "import scipy\n",
    "import cmath\n",
    "import matplotlib.pyplot as plt\n",
    "import itertools\n",
    "from numpy.random import seed\n",
    "from numpy.random import rand\n",
    "from itertools import product\n",
    "from scipy.misc import derivative\n",
    "from scipy import optimize\n",
    "seed(1)"
   ]
  },
  {
   "cell_type": "code",
   "execution_count": 130,
   "metadata": {},
   "outputs": [],
   "source": [
    "#Parameter Definitions\n",
    "B = 0\n",
    "A0 = 1"
   ]
  },
  {
   "cell_type": "code",
   "execution_count": 131,
   "metadata": {
    "scrolled": true
   },
   "outputs": [],
   "source": [
    "#Make basis and get sz values\n",
    "def operatorCreation(N):\n",
    "    #operator definitionis\n",
    "    si = qeye(2)\n",
    "    sx = 0.5*sigmax()\n",
    "    sy = 0.5*sigmay()\n",
    "    sz = 0.5*sigmaz()\n",
    "\n",
    "    sx_list = []\n",
    "    sy_list = []\n",
    "    sz_list = []\n",
    "    \n",
    "\n",
    "    for n in range(N):\n",
    "        op_list = []\n",
    "        for m in range(N):\n",
    "            op_list.append(si)\n",
    "\n",
    "        op_list[n] = sx\n",
    "        sx_list.append(tensor(op_list))\n",
    "\n",
    "        op_list[n] = sy\n",
    "        sy_list.append(tensor(op_list))\n",
    "\n",
    "        op_list[n] = sz\n",
    "        sz_list.append(tensor(op_list))\n",
    "        \n",
    "        op_list[n] = si\n",
    "    id = tensor(op_list)\n",
    "        \n",
    "    return sx_list, sy_list, sz_list,id"
   ]
  },
  {
   "cell_type": "code",
   "execution_count": 132,
   "metadata": {},
   "outputs": [],
   "source": [
    "#Construct Hamiltonian\n",
    "def hamiltonian(N,B,A0):\n",
    "    sx_list = operatorCreation(N)[0]\n",
    "    sy_list = operatorCreation(N)[1]\n",
    "    sz_list = operatorCreation(N)[2]\n",
    "    H = B*sz_list[0] \n",
    "    for n in range(N-1):\n",
    "        H += A0*sz_list[0]*sz_list[n+1] + A0*sx_list[0]*sx_list[n+1] + A0*sy_list[0]*sy_list[n+1]\n",
    "    return H"
   ]
  },
  {
   "cell_type": "code",
   "execution_count": 133,
   "metadata": {},
   "outputs": [
    {
     "data": {
      "text/plain": [
       "(-0.7500000000000001,\n",
       " Quantum object: dims = [[2, 2], [1, 1]], shape = (4, 1), type = ket\n",
       " Qobj data =\n",
       " [[ 0.        ]\n",
       "  [ 0.70710678]\n",
       "  [-0.70710678]\n",
       "  [ 0.        ]])"
      ]
     },
     "execution_count": 133,
     "metadata": {},
     "output_type": "execute_result"
    }
   ],
   "source": [
    "#Get Ground State Energy and Wavefuntion\n",
    "def groundState(H):       \n",
    "    #find ground state\n",
    "    groundState= H.groundstate()\n",
    "    return groundState[0],groundState[1]"
   ]
  },
  {
   "cell_type": "code",
   "execution_count": 134,
   "metadata": {},
   "outputs": [],
   "source": [
    "#Make basis and get sz values\n",
    "def basisCreation(N):\n",
    "    sz_list = operatorCreation(N)[2]\n",
    "    Sbasis = []\n",
    "    basisState = []\n",
    "   \n",
    "    for j in range(2):\n",
    "        basisState.append(basis(2,j))\n",
    "    b = itertools.product(basisState,repeat=N)\n",
    "    basisTensor = list(b)\n",
    "    #makes Sbasis the correct dimesion of Qobj\n",
    "    for i in range(2**N):\n",
    "        c = basisTensor[i][0]\n",
    "        for j in range(N-1):\n",
    "            c = tensor(c,basisTensor[i][j+1])\n",
    "        Sbasis.append(c)\n",
    "\n",
    "    \n",
    "    #get sz values for basis states\n",
    "    sz = np.zeros((2**N,N), dtype = complex)\n",
    "    a = [[1 for j in range(N)] for i in range(2**N)]\n",
    "    for i in range(2**N):\n",
    "        for j in range(N):\n",
    "            #matrix element <bra|Sz|ket>\n",
    "            sz[i][j] = sz_list[j].matrix_element(Sbasis[i],Sbasis[i])\n",
    "    return Sbasis, sz\n"
   ]
  },
  {
   "cell_type": "code",
   "execution_count": 135,
   "metadata": {},
   "outputs": [],
   "source": [
    "#get randomized RBM parameters\n",
    "def ranRBMpar(N,M):\n",
    "    par = np.random.rand(2*(N+M+N*M))\n",
    "    return par"
   ]
  },
  {
   "cell_type": "code",
   "execution_count": 143,
   "metadata": {},
   "outputs": [
    {
     "data": {
      "text/latex": [
       "Quantum object: dims = [[2, 2, 2], [1, 1, 1]], shape = (8, 1), type = ket\\begin{equation*}\\left(\\begin{array}{*{11}c}(-0.633-0.239j)\\\\(0.179+0.033j)\\\\(-0.018+0.125j)\\\\(0.233-0.065j)\\\\(0.017+0.498j)\\\\(0.234-0.102j)\\\\(0.238+0.153j)\\\\(0.201-0.031j)\\\\\\end{array}\\right)\\end{equation*}"
      ],
      "text/plain": [
       "Quantum object: dims = [[2, 2, 2], [1, 1, 1]], shape = (8, 1), type = ket\n",
       "Qobj data =\n",
       "[[-0.63272915-0.23888541j]\n",
       " [ 0.17854758+0.03320909j]\n",
       " [-0.01819495+0.124857j  ]\n",
       " [ 0.23261348-0.06482853j]\n",
       " [ 0.01729649+0.49813781j]\n",
       " [ 0.23430003-0.10224346j]\n",
       " [ 0.23841454+0.15286592j]\n",
       " [ 0.20098794-0.03125842j]]"
      ]
     },
     "execution_count": 143,
     "metadata": {},
     "output_type": "execute_result"
    }
   ],
   "source": [
    "#Function to give RBM wavefuntion\n",
    "def RBM_ansatz(par,N, M):\n",
    "    Sbasis = basisCreation(N)[0]\n",
    "    sz = basisCreation(N)[1]\n",
    "    #make parmeters complex\n",
    "    num = N+M+N*M\n",
    "    parC = np.vectorize(complex)(par[:num],par[num:])\n",
    "    a = parC[:N]\n",
    "    b = parC[N:N+M]\n",
    "    W = parC[N+M:].reshape(M,N)\n",
    "    expTerm = np.zeros(2**N, dtype = complex)\n",
    "    coshTerm = np.zeros((M,2**N), dtype = complex)\n",
    "    hidProduct = np.zeros(2**N, dtype = complex)\n",
    "    psiMValues = np.zeros(2**N, dtype = complex)\n",
    "    psiM = 0*Sbasis[0]\n",
    "\n",
    "    for i in range(2**N):\n",
    "        for m in range(M):\n",
    "            coshTerm[m][i] = 2*np.cosh(np.dot(W[m],sz[i]) + b[m])\n",
    "    hidProduct = np.prod(coshTerm, axis = 0) \n",
    "    \n",
    "    for i in range(2**N):\n",
    "        expTerm[i] = np.exp(np.dot(a,sz[i]))\n",
    "        psiMValues[i] = expTerm[i]*hidProduct[i]\n",
    "        psiM += psiMValues[i]*Sbasis[i]\n",
    "    psiNorm = psiM.unit()\n",
    "    return psiNorm\n",
    "\n",
    "RBM_ansatz(ranRBMpar(3,2),3,2)"
   ]
  },
  {
   "cell_type": "code",
   "execution_count": null,
   "metadata": {},
   "outputs": [],
   "source": []
  },
  {
   "cell_type": "code",
   "execution_count": 137,
   "metadata": {},
   "outputs": [],
   "source": [
    "#Variation Energy Definition\n",
    "def varEnergy(par,N, M, H):\n",
    "    psiM = RBM_ansatz(par,N, M)\n",
    "    E = expect(H,psiM)\n",
    "    norm = psiM.norm()**2\n",
    "    Enorm = E/norm\n",
    "    return Enorm"
   ]
  },
  {
   "cell_type": "code",
   "execution_count": 138,
   "metadata": {},
   "outputs": [],
   "source": [
    "#Energy Partials\n",
    "def gradEnergy(par,N, M,H):\n",
    "    eps = 0.001\n",
    "    return optimize.approx_fprime(par,varEnergy,eps, N, M,H)"
   ]
  },
  {
   "cell_type": "code",
   "execution_count": 139,
   "metadata": {},
   "outputs": [],
   "source": [
    "#Gradient Descent\n",
    "def gradDescent(N, M,B,A0):\n",
    "    par = ranRBMpar(N,M)\n",
    "    H = hamiltonian(N, B, A0) \n",
    "    min = scipy.optimize.fmin_cg(varEnergy,par,args= (N,M,H),full_output=True, retall = True, disp=True)\n",
    "    #Ground State\n",
    "    found_gs = RBM_ansatz(min[0],N, M)\n",
    "    found_gs = found_gs.unit()\n",
    "    #Ground State Energy\n",
    "    found_gsEnergy =varEnergy(min[0], N, M,H)\n",
    "\n",
    "    return min, found_gs, found_gsEnergy  "
   ]
  },
  {
   "cell_type": "code",
   "execution_count": 154,
   "metadata": {
    "scrolled": true
   },
   "outputs": [
    {
     "name": "stdout",
     "output_type": "stream",
     "text": [
      "Optimization terminated successfully.\n",
      "         Current function value: -0.750000\n",
      "         Iterations: 41\n",
      "         Function evaluations: 2208\n",
      "         Gradient evaluations: 92\n"
     ]
    }
   ],
   "source": [
    "y = gradDescent(2, 3)"
   ]
  },
  {
   "cell_type": "code",
   "execution_count": 155,
   "metadata": {},
   "outputs": [
    {
     "name": "stdout",
     "output_type": "stream",
     "text": [
      "Quantum object: dims = [[2, 2], [1, 1]], shape = (4, 1), type = ket\n",
      "Qobj data =\n",
      "[[-2.05620788e-05-3.04999891e-06j]\n",
      " [-7.05862649e-01-4.19202551e-02j]\n",
      " [ 7.05863554e-01+4.19196274e-02j]\n",
      " [-2.24784962e-05+8.36776919e-06j]]\n"
     ]
    }
   ],
   "source": [
    "print(y[1])"
   ]
  },
  {
   "cell_type": "code",
   "execution_count": 217,
   "metadata": {
    "scrolled": true
   },
   "outputs": [
    {
     "data": {
      "image/png": "[encoded data removed]",
      "text/plain": [
       "<Figure size 432x288 with 1 Axes>"
      ]
     },
     "metadata": {
      "needs_background": "light"
     },
     "output_type": "display_data"
    }
   ],
   "source": [
    "#plot energy vs iteration\n",
    "numIter = len(y[0][5])\n",
    "iter = np.arange(numIter)\n",
    "energy = np.zeros(numIter)\n",
    "for i in range(numIter):\n",
    "    energy[i]= varEnergy(y[0][5][i],2, 3, hamiltonian(2, B, A0))\n",
    "plt.plot(iter, energy)\n",
    "plt.xlabel('Iteration')\n",
    "plt.ylabel('Energy')\n",
    "plt.title('Heisenberg Interaction Energy vs Iteration for N=2, M=2')\n",
    "plt.hlines(-0.75,0,numIter, \"r\", linestyle = \"--\")\n",
    "plt.show()\n"
   ]
  },
  {
   "cell_type": "code",
   "execution_count": 176,
   "metadata": {},
   "outputs": [],
   "source": [
    "#Error Calculation\n",
    "def err(found_gs,gs,found_gsEnergy,gsEnergy):\n",
    "    engErr = np.abs(found_gsEnergy-gsEnergy)\n",
    "    waveFunctionErr = found_gs.trans()*gs\n",
    "    waveFunctionErr = waveFunctionErr.norm()\n",
    "    \n",
    "    return engErr,waveFunctionErr\n"
   ]
  },
  {
   "cell_type": "code",
   "execution_count": null,
   "metadata": {},
   "outputs": [],
   "source": []
  },
  {
   "cell_type": "code",
   "execution_count": null,
   "metadata": {},
   "outputs": [],
   "source": []
  },
  {
   "cell_type": "code",
   "execution_count": null,
   "metadata": {},
   "outputs": [],
   "source": []
  },
  {
   "cell_type": "code",
   "execution_count": null,
   "metadata": {},
   "outputs": [],
   "source": []
  },
  {
   "cell_type": "code",
   "execution_count": null,
   "metadata": {},
   "outputs": [],
   "source": []
  },
  {
   "cell_type": "code",
   "execution_count": null,
   "metadata": {},
   "outputs": [],
   "source": []
  },
  {
   "cell_type": "code",
   "execution_count": null,
   "metadata": {},
   "outputs": [],
   "source": []
  }
 ],
 "metadata": {
  "kernelspec": {
   "display_name": "Python 3",
   "language": "python",
   "name": "python3"
  },
  "language_info": {
   "codemirror_mode": {
    "name": "ipython",
    "version": 3
   },
   "file_extension": ".py",
   "mimetype": "text/x-python",
   "name": "python",
   "nbconvert_exporter": "python",
   "pygments_lexer": "ipython3",
   "version": "3.7.4"
  }
 },
 "nbformat": 4,
 "nbformat_minor": 2
}
