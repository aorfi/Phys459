{
 "cells": [
  {
   "cell_type": "code",
   "execution_count": 136,
   "metadata": {},
   "outputs": [],
   "source": [
    "import numpy as np"
   ]
  },
  {
   "cell_type": "code",
   "execution_count": 137,
   "metadata": {},
   "outputs": [],
   "source": [
    "pauliZ = np.array([[1,0],[0,-1]])\n",
    "I = np.array([[1,0],[0,1]])\n",
    "N=3"
   ]
  },
  {
   "cell_type": "code",
   "execution_count": 138,
   "metadata": {},
   "outputs": [
    {
     "name": "stdout",
     "output_type": "stream",
     "text": [
      "[[ 1  0  0  0  0  0  0  0]\n",
      " [ 0  1  0  0  0  0  0  0]\n",
      " [ 0  0  1  0  0  0  0  0]\n",
      " [ 0  0  0  1  0  0  0  0]\n",
      " [ 0  0  0  0 -1  0  0  0]\n",
      " [ 0  0  0  0  0 -1  0  0]\n",
      " [ 0  0  0  0  0  0 -1  0]\n",
      " [ 0  0  0  0  0  0  0 -1]]\n"
     ]
    }
   ],
   "source": [
    "S0Z = pauliZ\n",
    "for i in range(N-1):\n",
    "    S0Z = np.kron(S0Z,I)\n",
    "print(S0Z)"
   ]
  },
  {
   "cell_type": "code",
   "execution_count": 191,
   "metadata": {},
   "outputs": [
    {
     "name": "stdout",
     "output_type": "stream",
     "text": [
      "[[[ 1  0]\n",
      "  [ 0  1]]\n",
      "\n",
      " [[ 1  0]\n",
      "  [ 0  1]]\n",
      "\n",
      " [[ 1  0]\n",
      "  [ 0 -1]]]\n",
      "[[ 1  0  0  0  0  0  0  0]\n",
      " [ 0 -1  0  0  0  0  0  0]\n",
      " [ 0  0  1  0  0  0  0  0]\n",
      " [ 0  0  0 -1  0  0  0  0]\n",
      " [ 0  0  0  0  1  0  0  0]\n",
      " [ 0  0  0  0  0 -1  0  0]\n",
      " [ 0  0  0  0  0  0  1  0]\n",
      " [ 0  0  0  0  0  0  0 -1]]\n"
     ]
    }
   ],
   "source": [
    "S1Zgen = np.full((N,2,2),I)\n",
    "S1Zgen[2] = pauliZ\n",
    "print(S1Zgen)\n",
    "S1Z = S1Zgen[0]\n",
    "for i in range(N-1):\n",
    "    S1Z = np.kron(S1Z,S1Zgen[i+1])\n",
    "print(S1Z)"
   ]
  },
  {
   "cell_type": "code",
   "execution_count": 162,
   "metadata": {},
   "outputs": [],
   "source": [
    "SkZgen = np.full((N,N,2,2),I)\n",
    "for i in range(N):\n",
    "    SkZgen[i,i] = pauliZ\n"
   ]
  },
  {
   "cell_type": "code",
   "execution_count": 224,
   "metadata": {},
   "outputs": [
    {
     "name": "stdout",
     "output_type": "stream",
     "text": [
      "[[[ 1.  0.  0.  0.  0.  0.  0.  0.]\n",
      "  [ 0.  1.  0.  0.  0.  0.  0.  0.]\n",
      "  [ 0.  0.  1.  0.  0.  0.  0.  0.]\n",
      "  [ 0.  0.  0.  1.  0.  0.  0.  0.]\n",
      "  [ 0.  0.  0.  0. -1.  0.  0.  0.]\n",
      "  [ 0.  0.  0.  0.  0. -1.  0.  0.]\n",
      "  [ 0.  0.  0.  0.  0.  0. -1.  0.]\n",
      "  [ 0.  0.  0.  0.  0.  0.  0. -1.]]\n",
      "\n",
      " [[ 1.  0.  0.  0.  0.  0.  0.  0.]\n",
      "  [ 0.  1.  0.  0.  0.  0.  0.  0.]\n",
      "  [ 0.  0. -1.  0.  0.  0.  0.  0.]\n",
      "  [ 0.  0.  0. -1.  0.  0.  0.  0.]\n",
      "  [ 0.  0.  0.  0.  1.  0.  0.  0.]\n",
      "  [ 0.  0.  0.  0.  0.  1.  0.  0.]\n",
      "  [ 0.  0.  0.  0.  0.  0. -1.  0.]\n",
      "  [ 0.  0.  0.  0.  0.  0.  0. -1.]]\n",
      "\n",
      " [[ 1.  0.  0.  0.  0.  0.  0.  0.]\n",
      "  [ 0. -1.  0.  0.  0.  0.  0.  0.]\n",
      "  [ 0.  0.  1.  0.  0.  0.  0.  0.]\n",
      "  [ 0.  0.  0. -1.  0.  0.  0.  0.]\n",
      "  [ 0.  0.  0.  0.  1.  0.  0.  0.]\n",
      "  [ 0.  0.  0.  0.  0. -1.  0.  0.]\n",
      "  [ 0.  0.  0.  0.  0.  0.  1.  0.]\n",
      "  [ 0.  0.  0.  0.  0.  0.  0. -1.]]]\n"
     ]
    }
   ],
   "source": [
    "for i in range(N):\n",
    "    SiZgen = SkZgen[i]\n",
    "    SjZ = SiZgen[0]\n",
    "    for j in range(N-1):\n",
    "        SjZ = np.kron(SjZ,SiZgen[j+1])\n",
    "    SkZ[i] = SjZ\n",
    "print(SkZ)      "
   ]
  },
  {
   "cell_type": "code",
   "execution_count": 211,
   "metadata": {},
   "outputs": [
    {
     "name": "stdout",
     "output_type": "stream",
     "text": [
      "[[0. 0. 0. 0. 0. 0. 0. 0.]\n",
      " [0. 0. 0. 0. 0. 0. 0. 0.]\n",
      " [0. 0. 0. 0. 0. 0. 0. 0.]\n",
      " [0. 0. 0. 0. 0. 0. 0. 0.]\n",
      " [0. 0. 0. 0. 0. 0. 0. 0.]\n",
      " [0. 0. 0. 0. 0. 0. 0. 0.]\n",
      " [0. 0. 0. 0. 0. 0. 0. 0.]\n",
      " [0. 0. 0. 0. 0. 0. 0. 0.]]\n"
     ]
    },
    {
     "data": {
      "text/plain": [
       "(8, 8)"
      ]
     },
     "execution_count": 211,
     "metadata": {},
     "output_type": "execute_result"
    }
   ],
   "source": [
    "a = np.zeros(shape=(N,2**N,2**N))\n",
    "print(a[0])\n",
    "a[0].shape"
   ]
  },
  {
   "cell_type": "code",
   "execution_count": null,
   "metadata": {},
   "outputs": [],
   "source": []
  }
 ],
 "metadata": {
  "kernelspec": {
   "display_name": "Python 3",
   "language": "python",
   "name": "python3"
  },
  "language_info": {
   "codemirror_mode": {
    "name": "ipython",
    "version": 3
   },
   "file_extension": ".py",
   "mimetype": "text/x-python",
   "name": "python",
   "nbconvert_exporter": "python",
   "pygments_lexer": "ipython3",
   "version": "3.7.3"
  }
 },
 "nbformat": 4,
 "nbformat_minor": 2
}
