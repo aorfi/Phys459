{
 "cells": [
  {
   "cell_type": "code",
   "execution_count": 22,
   "metadata": {},
   "outputs": [],
   "source": [
    "import json\n",
    "from qutip import *\n",
    "import numpy as np\n",
    "import scipy\n",
    "import cmath\n",
    "import matplotlib.pyplot as plt\n",
    "plt.style.use('seaborn')\n",
    "import itertools\n",
    "from numpy.random import seed\n",
    "from numpy.random import rand\n",
    "from itertools import product\n",
    "from scipy.misc import derivative\n",
    "from scipy import optimize\n",
    "from functools import wraps\n",
    "from time import time\n",
    "from scipy.optimize import minimize\n",
    "from matplotlib import gridspec\n"
   ]
  },
  {
   "cell_type": "code",
   "execution_count": 23,
   "metadata": {},
   "outputs": [],
   "source": [
    "#Wrapper to time functions\n",
    "def timing(f):\n",
    "    @wraps(f)\n",
    "    def wrap(*args, **kw):\n",
    "        ti = time()\n",
    "        result = f(*args, **kw)\n",
    "        tf = time()\n",
    "        t = tf-ti\n",
    "        return result, t\n",
    "    return wrap"
   ]
  },
  {
   "cell_type": "code",
   "execution_count": 24,
   "metadata": {
    "scrolled": true
   },
   "outputs": [],
   "source": [
    "#Make basis and get sz values\n",
    "def operatorCreation(N):\n",
    "    #operator definitionis\n",
    "    si = qeye(2)\n",
    "    sx = 0.5*sigmax()\n",
    "    sy = 0.5*sigmay()\n",
    "    sz = 0.5*sigmaz()\n",
    "\n",
    "    sx_list = []\n",
    "    sy_list = []\n",
    "    sz_list = []\n",
    "    \n",
    "\n",
    "    for n in range(N):\n",
    "        op_list = []\n",
    "        for m in range(N):\n",
    "            op_list.append(si)\n",
    "\n",
    "        op_list[n] = sx\n",
    "        sx_list.append(tensor(op_list))\n",
    "\n",
    "        op_list[n] = sy\n",
    "        sy_list.append(tensor(op_list))\n",
    "\n",
    "        op_list[n] = sz\n",
    "        sz_list.append(tensor(op_list))\n",
    "        \n",
    "        op_list[n] = si\n",
    "    id = tensor(op_list)\n",
    "        \n",
    "    return sx_list, sy_list, sz_list,id"
   ]
  },
  {
   "cell_type": "code",
   "execution_count": 25,
   "metadata": {},
   "outputs": [],
   "source": [
    "#Construct Hamiltonian\n",
    "def hamiltonian(N,B,A0):\n",
    "    sx_list = operatorCreation(N)[0]\n",
    "    sy_list = operatorCreation(N)[1]\n",
    "    sz_list = operatorCreation(N)[2]\n",
    "    H = B*sz_list[0] \n",
    "    for n in range(N-1):\n",
    "        H += A0*sz_list[0]*sz_list[n+1] + A0*sx_list[0]*sx_list[n+1] + A0*sy_list[0]*sy_list[n+1]\n",
    "    return H"
   ]
  },
  {
   "cell_type": "code",
   "execution_count": 26,
   "metadata": {},
   "outputs": [],
   "source": [
    "#Check if dengerate\n",
    "def CheckDegenerate(H):\n",
    "    estates = H.eigenstates()\n",
    "    lowState = estates[0][0]\n",
    "    secLowState = estates[0][1]\n",
    "    if (abs(lowState-secLowState))<= 1e-10:\n",
    "        return True\n",
    "    else:\n",
    "        return False"
   ]
  },
  {
   "cell_type": "code",
   "execution_count": 27,
   "metadata": {},
   "outputs": [],
   "source": [
    "#Get Ground State Energy and Wavefuntion\n",
    "class GroundState:\n",
    "    \n",
    "    def __init__(self, N, B, A0):\n",
    "        self.hamiltonian = hamiltonian(N, B, A0)\n",
    "     \n",
    "    @timing\n",
    "    def __call__(self):\n",
    "        #find ground state\n",
    "        H = self.hamiltonian\n",
    "        groundState= H.groundstate()\n",
    "        return groundState[0],groundState[1]"
   ]
  },
  {
   "cell_type": "code",
   "execution_count": 28,
   "metadata": {},
   "outputs": [],
   "source": [
    "#Make basis and get sz values\n",
    "def basisCreation(N):\n",
    "    sz_list = operatorCreation(N)[2]\n",
    "    Sbasis = []\n",
    "    basisState = []\n",
    "   \n",
    "    for j in range(2):\n",
    "        basisState.append(basis(2,j))\n",
    "    b = itertools.product(basisState,repeat=N)\n",
    "    basisTensor = list(b)\n",
    "    #makes Sbasis the correct dimesion of Qobj\n",
    "    for i in range(2**N):\n",
    "        c = basisTensor[i][0]\n",
    "        for j in range(N-1):\n",
    "            c = tensor(c,basisTensor[i][j+1])\n",
    "        Sbasis.append(c)\n",
    "\n",
    "    \n",
    "    #get sz values for basis states\n",
    "    sz = np.zeros((2**N,N), dtype = complex)\n",
    "    a = [[1 for j in range(N)] for i in range(2**N)]\n",
    "    for i in range(2**N):\n",
    "        for j in range(N):\n",
    "            #matrix element <bra|Sz|ket>\n",
    "            sz[i][j] = sz_list[j].matrix_element(Sbasis[i],Sbasis[i])\n",
    "    return Sbasis, sz\n"
   ]
  },
  {
   "cell_type": "code",
   "execution_count": 29,
   "metadata": {},
   "outputs": [],
   "source": [
    "#get randomized RBM parameters (between zero and 1)\n",
    "def ranRBMpar(N,M):\n",
    "    par = 1-2*np.random.rand(2*(N+M+N*M))\n",
    "    return par"
   ]
  },
  {
   "cell_type": "code",
   "execution_count": 30,
   "metadata": {},
   "outputs": [],
   "source": [
    "#Function to give RBM wavefuntion\n",
    "def RBM_ansatz(par,N, M):\n",
    "    Sbasis = basisCreation(N)[0]\n",
    "    sz = basisCreation(N)[1]\n",
    "    #make parmeters complex\n",
    "    num = N+M+N*M\n",
    "    parC = np.vectorize(complex)(par[:num],par[num:])\n",
    "    a = parC[:N]\n",
    "    b = parC[N:N+M]\n",
    "    W = parC[N+M:].reshape(M,N)\n",
    "    expTerm = np.zeros(2**N, dtype = complex)\n",
    "    coshTerm = np.zeros((M,2**N), dtype = complex)\n",
    "    hidProduct = np.zeros(2**N, dtype = complex)\n",
    "    psiMValues = np.zeros(2**N, dtype = complex)\n",
    "    psiM = 0*Sbasis[0]\n",
    "\n",
    "    for i in range(2**N):\n",
    "        for m in range(M):\n",
    "            coshTerm[m][i] = 2*np.cosh(np.dot(W[m],sz[i]) + b[m])\n",
    "    hidProduct = np.prod(coshTerm, axis = 0) \n",
    "    \n",
    "    for i in range(2**N):\n",
    "        expTerm[i] = np.exp(np.dot(a,sz[i]))\n",
    "        psiMValues[i] = expTerm[i]*hidProduct[i]\n",
    "        psiM += psiMValues[i]*Sbasis[i]\n",
    "    psiNorm = psiM.unit()\n",
    "    return psiNorm\n"
   ]
  },
  {
   "cell_type": "code",
   "execution_count": 31,
   "metadata": {},
   "outputs": [],
   "source": [
    "#Variation Energy Definition\n",
    "def varEnergy(par,N, M, H):\n",
    "    psiM = RBM_ansatz(par,N, M)\n",
    "    E = expect(H,psiM)\n",
    "    norm = psiM.norm()**2\n",
    "    Enorm = E/norm\n",
    "    return Enorm"
   ]
  },
  {
   "cell_type": "code",
   "execution_count": 32,
   "metadata": {},
   "outputs": [],
   "source": [
    "#Energy Partials\n",
    "def gradEnergy(par,N, M,H):\n",
    "    eps = 0.001\n",
    "    return optimize.approx_fprime(par,varEnergy,eps, N, M,H)"
   ]
  },
  {
   "cell_type": "code",
   "execution_count": 33,
   "metadata": {},
   "outputs": [],
   "source": [
    "#Conjugate Gradient Descent\n",
    "class ConGradDescent:\n",
    "    \n",
    "    def __init__(self, N, B, A0):\n",
    "        H = hamiltonian(N, B, A0)\n",
    "        isDeg = CheckDegenerate(H)\n",
    "        if (isDeg == True):\n",
    "            raise ValueError(\"Hamiltonian has degenerate ground state\")\n",
    "        else:\n",
    "            self.hamiltonian = H\n",
    "     \n",
    "    @timing \n",
    "    def __call__(self, N, M,par):\n",
    "        H = self.hamiltonian\n",
    "        min = scipy.optimize.fmin_cg(varEnergy,par,args= (N,M,H),gtol = 1e-04, full_output=True, retall = True, disp=True)\n",
    "        #Ground State\n",
    "        found_gs = RBM_ansatz(min[0],N, M)\n",
    "        found_gs = found_gs.unit()\n",
    "        #Ground State Energy\n",
    "        found_gsEnergy =varEnergy(min[0], N, M,H)\n",
    "        return min, found_gs, found_gsEnergy  "
   ]
  },
  {
   "cell_type": "code",
   "execution_count": 34,
   "metadata": {},
   "outputs": [],
   "source": [
    "#Error Calculation\n",
    "def err(found_gs,gs,found_gsEnergy,gsEnergy):\n",
    "    engErr = np.abs(found_gsEnergy-gsEnergy)\n",
    "    waveFunctionErr = found_gs.dag()*gs\n",
    "    waveFunctionErr = 1-waveFunctionErr.norm()\n",
    "    \n",
    "    return engErr,waveFunctionErr\n"
   ]
  },
  {
   "cell_type": "code",
   "execution_count": 38,
   "metadata": {},
   "outputs": [],
   "source": [
    "#Ensures conjugate gradient descent convergance\n",
    "def CgdConvergance(N, M, B, A0):\n",
    "    eng = 1000\n",
    "    cgd= 0\n",
    "    #Run three times\n",
    "    for i in range(3):\n",
    "        par = ranRBMpar(N,M)\n",
    "        conGradDescent = ConGradDescent(N, B, A0)\n",
    "        cgdTemp = conGradDescent(N, M,par)\n",
    "        engTemp = cgdTemp[0][2]\n",
    "        if(engTemp<eng):\n",
    "            eng = engTemp\n",
    "            cgd = cgdTemp\n",
    "    return cgd"
   ]
  },
  {
   "cell_type": "markdown",
   "metadata": {},
   "source": [
    "## Run Statistics"
   ]
  },
  {
   "cell_type": "code",
   "execution_count": 15,
   "metadata": {},
   "outputs": [],
   "source": [
    "# Runs inforamtion is saved at the following locations:\n",
    "# N=2 M=1 Data/May14/N2M1.json\n",
    "# N=2 M=2 Data/May14/N2M2.json\n",
    "# N=2 M=3 Data/May14/N2M3.json\n",
    "# N=2 M=4 Data/May14/N2M4.json"
   ]
  },
  {
   "cell_type": "code",
   "execution_count": 16,
   "metadata": {},
   "outputs": [],
   "source": [
    "# #How to read saved data\n",
    "# saved = []\n",
    "# with open('Data/May12/N2M3Bpi.json') as file:\n",
    "#     for line in file:\n",
    "#         saved.append(json.loads(line))\n",
    "\n",
    "# cgdTime,cgdEngErr,cgdStateErr,edTime,len(hisIt)=saved"
   ]
  },
  {
   "cell_type": "markdown",
   "metadata": {},
   "source": [
    "## Generating Data"
   ]
  },
  {
   "cell_type": "code",
   "execution_count": 36,
   "metadata": {},
   "outputs": [],
   "source": [
    "#Parameter definition \n",
    "N= 2\n",
    "M=1\n",
    "B = 1\n",
    "A0 = 1\n",
    "\n",
    "cgdResults = [] #gives ground state estimation at each iteration of gd\n",
    "cgdState = []\n",
    "cgdTime = []\n",
    "cgdEngErr = []\n",
    "cgdStateErr = []\n",
    "\n",
    "edState = []\n",
    "edTime = []\n",
    "ActualEng = []\n",
    "\n",
    "hisIt = np.arange(5)"
   ]
  },
  {
   "cell_type": "code",
   "execution_count": 39,
   "metadata": {},
   "outputs": [
    {
     "name": "stdout",
     "output_type": "stream",
     "text": [
      "Optimization terminated successfully.\n",
      "         Current function value: -0.749979\n",
      "         Iterations: 5\n",
      "         Function evaluations: 228\n",
      "         Gradient evaluations: 19\n",
      "Optimization terminated successfully.\n",
      "         Current function value: -0.957107\n",
      "         Iterations: 26\n",
      "         Function evaluations: 732\n",
      "         Gradient evaluations: 61\n",
      "Optimization terminated successfully.\n",
      "         Current function value: -0.957103\n",
      "         Iterations: 33\n",
      "         Function evaluations: 840\n",
      "         Gradient evaluations: 70\n",
      "Optimization terminated successfully.\n",
      "         Current function value: -0.957107\n",
      "         Iterations: 21\n",
      "         Function evaluations: 684\n",
      "         Gradient evaluations: 57\n",
      "Optimization terminated successfully.\n",
      "         Current function value: -0.749932\n",
      "         Iterations: 8\n",
      "         Function evaluations: 336\n",
      "         Gradient evaluations: 28\n",
      "Optimization terminated successfully.\n",
      "         Current function value: -0.957106\n",
      "         Iterations: 31\n",
      "         Function evaluations: 684\n",
      "         Gradient evaluations: 57\n",
      "Optimization terminated successfully.\n",
      "         Current function value: -0.957107\n",
      "         Iterations: 14\n",
      "         Function evaluations: 264\n",
      "         Gradient evaluations: 22\n",
      "Optimization terminated successfully.\n",
      "         Current function value: -0.957100\n",
      "         Iterations: 41\n",
      "         Function evaluations: 1212\n",
      "         Gradient evaluations: 101\n",
      "Optimization terminated successfully.\n",
      "         Current function value: -0.249947\n",
      "         Iterations: 3\n",
      "         Function evaluations: 132\n",
      "         Gradient evaluations: 11\n",
      "Optimization terminated successfully.\n",
      "         Current function value: -0.957105\n",
      "         Iterations: 28\n",
      "         Function evaluations: 552\n",
      "         Gradient evaluations: 46\n",
      "Optimization terminated successfully.\n",
      "         Current function value: -0.957077\n",
      "         Iterations: 32\n",
      "         Function evaluations: 768\n",
      "         Gradient evaluations: 64\n",
      "Optimization terminated successfully.\n",
      "         Current function value: -0.749980\n",
      "         Iterations: 7\n",
      "         Function evaluations: 324\n",
      "         Gradient evaluations: 27\n",
      "Optimization terminated successfully.\n",
      "         Current function value: -0.957098\n",
      "         Iterations: 34\n",
      "         Function evaluations: 984\n",
      "         Gradient evaluations: 82\n",
      "Optimization terminated successfully.\n",
      "         Current function value: -0.957104\n",
      "         Iterations: 36\n",
      "         Function evaluations: 1020\n",
      "         Gradient evaluations: 85\n",
      "Optimization terminated successfully.\n",
      "         Current function value: -0.749923\n",
      "         Iterations: 6\n",
      "         Function evaluations: 288\n",
      "         Gradient evaluations: 24\n"
     ]
    }
   ],
   "source": [
    "for i in range(len(hisIt)):\n",
    "    par = ranRBMpar(N,M)\n",
    "    \n",
    "    #gradient descent\n",
    "    cgd = CgdConvergance(N, M, B, A0)\n",
    "    cgdResults.append(cgd)\n",
    "    cgdState.append(cgd[0])\n",
    "    cgdTime.append(cgd[1])\n",
    "    \n",
    "    \n",
    "    #exact diagonalization \n",
    "    groundState = GroundState(N,B,A0)\n",
    "    ed = groundState()\n",
    "    edState.append(ed[0])\n",
    "    edTime.append(ed[1])\n",
    "    \n",
    "    \n",
    "    #Error\n",
    "    cgdEngTemp = cgd[0][2]\n",
    "    edEngTemp = ed[0][0]\n",
    "    \n",
    "    ActualEng.append(edEngTemp)\n",
    "    cgdStateTemp = cgd[0][1]\n",
    "    edStateTemp = ed[0][1]\n",
    "\n",
    "    \n",
    "    cgdErrTemp = err(cgdStateTemp,edStateTemp,cgdEngTemp,edEngTemp)  \n",
    "    cgdEngErr.append(cgdErrTemp[0])\n",
    "    cgdStateErr.append(cgdErrTemp[1])\n",
    "   \n"
   ]
  },
  {
   "cell_type": "code",
   "execution_count": 66,
   "metadata": {},
   "outputs": [],
   "source": [
    "#Save data to JSON file\n",
    "data = [cgdTime,cgdEngErr,cgdStateErr,edTime,len(hisIt)]\n",
    "open(\"TestJSON.json\", \"w\").close()\n",
    "with open(\"TestJSON.json\", 'a') as file:\n",
    "    for item in data: \n",
    "        line = json.dumps(item)\n",
    "        file.write(line + '\\n')"
   ]
  },
  {
   "cell_type": "code",
   "execution_count": null,
   "metadata": {},
   "outputs": [],
   "source": []
  },
  {
   "cell_type": "code",
   "execution_count": null,
   "metadata": {},
   "outputs": [],
   "source": []
  },
  {
   "cell_type": "code",
   "execution_count": 41,
   "metadata": {},
   "outputs": [
    {
     "data": {
      "text/plain": [
       "Text(0, 0.5, 'Runtime')"
      ]
     },
     "execution_count": 41,
     "metadata": {},
     "output_type": "execute_result"
    },
    {
     "data": {
      "text/plain": [
       "<Figure size 576x396 with 0 Axes>"
      ]
     },
     "metadata": {},
     "output_type": "display_data"
    },
    {
     "data": {
      "image/png": "[encoded data removed]",
      "text/plain": [
       "<Figure size 720x720 with 5 Axes>"
      ]
     },
     "metadata": {},
     "output_type": "display_data"
    }
   ],
   "source": [
    "plt.figure(constrained_layout=True)\n",
    "plt.figure(figsize=(10,10))\n",
    "ttl = plt.suptitle(\"N = 2, M = 1, B = 1\",size =20)\n",
    "gs = gridspec.GridSpec(ncols=3, nrows=3, hspace = 0.4)\n",
    "ttl.set_position([.5, 0.92])\n",
    "\n",
    "\n",
    "\n",
    "ax1 = plt.subplot(gs[0, 0])\n",
    "ax1 .hist(cgdStateErr, bins=10) \n",
    "ax1 .set_xlabel(\"$1-|<\\Psi_{RBM}|\\Psi_{ED}>|^2$\",size = 15)\n",
    "ax1.set_ylabel(\"Frequency\",size = 15)\n",
    "\n",
    "\n",
    "\n",
    "ax2 = plt.subplot(gs[0, 1])\n",
    "ax2.hist(cgdEngErr, bins=10) \n",
    "ax2.set_xlabel(\"$\\Delta E = |E_{RBM}-E_{ED}|$\",size = 15)\n",
    "\n",
    "\n",
    "\n",
    "ax3 = plt.subplot(gs[0, 2])\n",
    "ax3.hist(cgdTime, bins=10) \n",
    "ax3.set_xlabel(\"Runtime\",size = 15)\n",
    "\n",
    "\n",
    "ax4 = plt.subplot(gs[1, :])\n",
    "ax4.scatter(hisIt,cgdEngErr) \n",
    "ax4 .set_ylabel(\"$\\Delta E = |E_{RBM}-E_{ED}|$\", size = 15)\n",
    "\n",
    "\n",
    "ax5 = plt.subplot(gs[2, :])\n",
    "ax5.scatter(hisIt,cgdTime)  \n",
    "ax5.set_xlabel(\"Run Number\",size = 15)\n",
    "ax5 .set_ylabel(\"Runtime\", size = 15)\n"
   ]
  },
  {
   "cell_type": "code",
   "execution_count": 72,
   "metadata": {},
   "outputs": [
    {
     "name": "stdout",
     "output_type": "stream",
     "text": [
      "Average Energy Error:  0.044360085737759555\n",
      "Average Ground State Error:  0.02367839754370368\n",
      "Average Run Time:  11.254329357147217\n",
      "Number of runs abover 0.0001 error: 19\n",
      "Prob of sucess: 0.8100\n",
      "Prob of sucess two runs: 0.9639\n",
      "Prob of sucess three runs: 0.9931\n"
     ]
    }
   ],
   "source": [
    "avEngErr = np.sum(cgdEngErr)/(len(hisIt))\n",
    "avStateErr = np.sum(cgdStateErr)/(len(hisIt))\n",
    "avRunTime = np.sum(cgdTime)/(len(hisIt))\n",
    "print('Average Energy Error: ', avEngErr )\n",
    "print('Average Ground State Error: ', avStateErr )\n",
    "print('Average Run Time: ', avRunTime )\n",
    "\n",
    "cutOff = 0.0001\n",
    "runsCutOff = sum(i>cutOff for i in cgdEngErr)\n",
    "prob = (runsCutOff/100)\n",
    "print(\"Number of runs abover 0.0001 error:\", runsCutOff )\n",
    "print(\"Prob of sucess:\",  f\"{1-prob:.4f}\" )\n",
    "print(\"Prob of sucess two runs:\", f\"{1-prob**2:.4f}\" )\n",
    "print(\"Prob of sucess three runs:\", f\"{1-prob**3:.4f}\" )\n",
    "\n",
    "\n"
   ]
  }
 ],
 "metadata": {
  "kernelspec": {
   "display_name": "Python 3",
   "language": "python",
   "name": "python3"
  },
  "language_info": {
   "codemirror_mode": {
    "name": "ipython",
    "version": 3
   },
   "file_extension": ".py",
   "mimetype": "text/x-python",
   "name": "python",
   "nbconvert_exporter": "python",
   "pygments_lexer": "ipython3",
   "version": "3.7.4"
  }
 },
 "nbformat": 4,
 "nbformat_minor": 2
}
