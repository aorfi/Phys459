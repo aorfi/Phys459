{
 "cells": [
  {
   "cell_type": "code",
   "execution_count": 15,
   "metadata": {},
   "outputs": [],
   "source": [
    "from qutip import *\n",
    "import numpy as np\n",
    "import scipy\n",
    "import cmath\n",
    "import matplotlib.pyplot as plt\n",
    "from numpy.random import seed\n",
    "from numpy.random import rand\n",
    "from itertools import product\n",
    "from scipy.misc import derivative\n",
    "from scipy import optimize\n",
    "seed(1)"
   ]
  },
  {
   "cell_type": "code",
   "execution_count": 16,
   "metadata": {},
   "outputs": [],
   "source": [
    "#operator definitionis\n",
    "N = 2\n",
    "si = qeye(2)\n",
    "sx = 0.5*sigmax()\n",
    "sy = 0.5*sigmay()\n",
    "sz = 0.5*sigmaz()"
   ]
  },
  {
   "cell_type": "code",
   "execution_count": 17,
   "metadata": {},
   "outputs": [],
   "source": [
    "#make list of tensor products\n",
    "sx_list = []\n",
    "sy_list = []\n",
    "sz_list = []\n",
    "\n",
    "for n in range(N):\n",
    "    op_list = []\n",
    "    for m in range(N):\n",
    "        op_list.append(si)\n",
    "\n",
    "    op_list[n] = sx\n",
    "    sx_list.append(tensor(op_list))\n",
    "\n",
    "    op_list[n] = sy\n",
    "    sy_list.append(tensor(op_list))\n",
    "\n",
    "    op_list[n] = sz\n",
    "    sz_list.append(tensor(op_list))\n"
   ]
  },
  {
   "cell_type": "code",
   "execution_count": 18,
   "metadata": {},
   "outputs": [
    {
     "name": "stdout",
     "output_type": "stream",
     "text": [
      "Quantum object: dims = [[2, 2], [2, 2]], shape = (4, 4), type = oper, isherm = True\n",
      "Qobj data =\n",
      "[[ 0.25  0.    0.    0.  ]\n",
      " [ 0.   -0.25  0.5   0.  ]\n",
      " [ 0.    0.5  -0.25  0.  ]\n",
      " [ 0.    0.    0.    0.25]]\n"
     ]
    }
   ],
   "source": [
    "#Construct Hamiltonian\n",
    "B = 0\n",
    "A0 = 1\n",
    "H = B*sz_list[0] \n",
    "for n in range(N-1):\n",
    "    H += A0*sz_list[0]*sz_list[n+1] + A0*sx_list[0]*sx_list[n+1] + A0*sy_list[0]*sy_list[n+1]\n",
    "print(H)"
   ]
  },
  {
   "cell_type": "code",
   "execution_count": 19,
   "metadata": {},
   "outputs": [
    {
     "data": {
      "text/plain": [
       "(-0.7500000000000001,\n",
       " Quantum object: dims = [[2, 2], [1, 1]], shape = (4, 1), type = ket\n",
       " Qobj data =\n",
       " [[ 0.        ]\n",
       "  [ 0.70710678]\n",
       "  [-0.70710678]\n",
       "  [ 0.        ]])"
      ]
     },
     "execution_count": 19,
     "metadata": {},
     "output_type": "execute_result"
    }
   ],
   "source": [
    "#Find Groundstate\n",
    "H.groundstate()"
   ]
  },
  {
   "cell_type": "code",
   "execution_count": 69,
   "metadata": {},
   "outputs": [],
   "source": [
    "#Make basis\n",
    "Sbasis = []\n",
    "for i in range(N):\n",
    "    for j in range(N):\n",
    "        Sbasis.append(tensor([basis(N,i),basis(N,j)]))"
   ]
  },
  {
   "cell_type": "code",
   "execution_count": 70,
   "metadata": {},
   "outputs": [],
   "source": [
    "#get sz values for basis states\n",
    "sz = np.zeros((2**N,N), dtype = complex)\n",
    "a = [[1 for j in range(N)] for i in range(2**N)]\n",
    "for i in range(2**N):\n",
    "    for j in range(N):\n",
    "        #matrix element <bra|Sz|ket>\n",
    "        sz[i][j] = sz_list[j].matrix_element(Sbasis[i],Sbasis[i])"
   ]
  },
  {
   "cell_type": "code",
   "execution_count": 84,
   "metadata": {},
   "outputs": [],
   "source": [
    "#Define RBM Parameters\n",
    "M = 2\n",
    "alp = M/N\n",
    "#Number of parameters \n",
    "num = N+M+N*M\n",
    "\n",
    "par = np.random.rand(2*num)\n",
    "#par = np.array([0,0,0,0,0,0,0,0,0,0,0.5*np.pi,0.25*np.pi,0.5*np.pi,-1.5*np.pi,0,-0.5*np.pi])\n",
    "\n",
    "\n"
   ]
  },
  {
   "cell_type": "code",
   "execution_count": 85,
   "metadata": {},
   "outputs": [
    {
     "data": {
      "text/latex": [
       "Quantum object: dims = [[2, 2], [1, 1]], shape = (4, 1), type = ket\\begin{equation*}\\left(\\begin{array}{*{11}c}(-0.822+0.436j)\\\\(0.175+0.014j)\\\\(0.263+0.138j)\\\\(0.077-0.094j)\\\\\\end{array}\\right)\\end{equation*}"
      ],
      "text/plain": [
       "Quantum object: dims = [[2, 2], [1, 1]], shape = (4, 1), type = ket\n",
       "Qobj data =\n",
       "[[-0.82246673+0.43590286j]\n",
       " [ 0.17455275+0.01435649j]\n",
       " [ 0.26285805+0.13816042j]\n",
       " [ 0.07701875-0.09352993j]]"
      ]
     },
     "execution_count": 85,
     "metadata": {},
     "output_type": "execute_result"
    }
   ],
   "source": [
    "#Function to give RBM wavefuntion\n",
    "def RBM_ansatz(par, Sbasis, N, M,sz):\n",
    "    #make parmeters complex\n",
    "    parC = np.vectorize(complex)(par[:num],par[num:])\n",
    "    a = parC[:N]\n",
    "    b = parC[N:N+M]\n",
    "    W = parC[N+M:].reshape(N,M)\n",
    "    expTerm = np.zeros(2**N, dtype = complex)\n",
    "    coshTerm = np.zeros((M,2**N), dtype = complex)\n",
    "    hidProduct = np.zeros(2**N, dtype = complex)\n",
    "    psiMValues = np.zeros(2**N, dtype = complex)\n",
    "    psiM = 0*Sbasis[0]\n",
    "\n",
    "    for i in range(2**N):\n",
    "        for m in range(M):\n",
    "            coshTerm[m][i] = 2*np.cosh(np.dot(W[m],sz[i]) + b[m])\n",
    "    hidProduct = np.prod(coshTerm, axis = 0) \n",
    "  \n",
    "    \n",
    "    for i in range(2**N):\n",
    "        expTerm[i] = np.exp(np.dot(a,sz[i]))\n",
    "        psiMValues[i] = expTerm[i]*hidProduct[i]\n",
    "        psiM += psiMValues[i]*Sbasis[i]\n",
    "    psiNorm = psiM.unit()\n",
    "    return psiNorm\n",
    "\n",
    "test = RBM_ansatz(par, Sbasis, N, M,sz)\n",
    "test\n"
   ]
  },
  {
   "cell_type": "code",
   "execution_count": null,
   "metadata": {},
   "outputs": [],
   "source": []
  },
  {
   "cell_type": "code",
   "execution_count": 86,
   "metadata": {},
   "outputs": [],
   "source": [
    "#Variation Energy Definition\n",
    "def varEnergy(par, Sbasis, N, M,sz, H):\n",
    "    psiM = RBM_ansatz(par, Sbasis, N, M, sz)\n",
    "    E = expect(H,psiM)\n",
    "    norm = psiM.norm()**2\n",
    "    Enorm = E/norm\n",
    "    return Enorm"
   ]
  },
  {
   "cell_type": "code",
   "execution_count": 87,
   "metadata": {},
   "outputs": [],
   "source": [
    "#Energy Partials\n",
    "def gradEnergy(par, Sbasis, N, M,sz, H):\n",
    "    eps = 0.001\n",
    "    return optimize.approx_fprime(par,varEnergy,eps,Sbasis, N, M,sz, H)"
   ]
  },
  {
   "cell_type": "code",
   "execution_count": 88,
   "metadata": {},
   "outputs": [],
   "source": [
    "#Gradient Descent\n",
    "def gradDescent(par, Sbasis, N, M,sz, H):\n",
    "    min = scipy.optimize.fmin_cg(varEnergy,par,args= (Sbasis,N,M,sz,H),full_output=True, retall = True, disp=True)\n",
    "    return min\n",
    "    \n",
    "    "
   ]
  },
  {
   "cell_type": "code",
   "execution_count": 89,
   "metadata": {},
   "outputs": [
    {
     "name": "stdout",
     "output_type": "stream",
     "text": [
      "Optimization terminated successfully.\n",
      "         Current function value: -0.750000\n",
      "         Iterations: 41\n",
      "         Function evaluations: 1422\n",
      "         Gradient evaluations: 79\n",
      "0\n"
     ]
    }
   ],
   "source": [
    "y = gradDescent(par, Sbasis, N, M,sz, H)\n",
    "print(y[4])"
   ]
  },
  {
   "cell_type": "code",
   "execution_count": 90,
   "metadata": {},
   "outputs": [
    {
     "data": {
      "text/latex": [
       "Quantum object: dims = [[2, 2], [1, 1]], shape = (4, 1), type = ket\\begin{equation*}\\left(\\begin{array}{*{11}c}(-6.848\\times10^{-06}+5.314\\times10^{-06}j)\\\\(-0.415-0.572j)\\\\(0.415+0.572j)\\\\(2.133\\times10^{-05}-1.998\\times10^{-05}j)\\\\\\end{array}\\right)\\end{equation*}"
      ],
      "text/plain": [
       "Quantum object: dims = [[2, 2], [1, 1]], shape = (4, 1), type = ket\n",
       "Qobj data =\n",
       "[[-6.84833619e-06+5.31403279e-06j]\n",
       " [-4.15494731e-01-5.72162804e-01j]\n",
       " [ 4.15488671e-01+5.72156463e-01j]\n",
       " [ 2.13298300e-05-1.99792776e-05j]]"
      ]
     },
     "execution_count": 90,
     "metadata": {},
     "output_type": "execute_result"
    }
   ],
   "source": [
    "#Ground State\n",
    "final=RBM_ansatz(y[0], Sbasis, N, M,sz)\n",
    "final.unit()"
   ]
  },
  {
   "cell_type": "code",
   "execution_count": 91,
   "metadata": {},
   "outputs": [
    {
     "data": {
      "text/plain": [
       "-0.7499999990322611"
      ]
     },
     "execution_count": 91,
     "metadata": {},
     "output_type": "execute_result"
    }
   ],
   "source": [
    "#Minimum Energy \n",
    "varEnergy(y[0], Sbasis, N, M,sz, H)"
   ]
  },
  {
   "cell_type": "code",
   "execution_count": null,
   "metadata": {},
   "outputs": [],
   "source": []
  },
  {
   "cell_type": "code",
   "execution_count": 92,
   "metadata": {},
   "outputs": [
    {
     "data": {
      "image/png": "[encoded data removed]",
      "text/plain": [
       "<Figure size 432x288 with 1 Axes>"
      ]
     },
     "metadata": {
      "needs_background": "light"
     },
     "output_type": "display_data"
    }
   ],
   "source": [
    "numIter = len(y[5])\n",
    "iter = np.arange(numIter)\n",
    "energy = np.zeros(numIter)\n",
    "for i in range(numIter):\n",
    "    energy[i]= varEnergy(y[5][i], Sbasis, N, M,sz, H)\n",
    "plt.plot(iter, energy)\n",
    "plt.xlabel('Iteration')\n",
    "plt.ylabel('Energy')\n",
    "plt.title('')\n",
    "plt.show()\n"
   ]
  },
  {
   "cell_type": "code",
   "execution_count": null,
   "metadata": {},
   "outputs": [],
   "source": [
    "#Error Calculation"
   ]
  },
  {
   "cell_type": "code",
   "execution_count": null,
   "metadata": {},
   "outputs": [],
   "source": []
  },
  {
   "cell_type": "code",
   "execution_count": null,
   "metadata": {},
   "outputs": [],
   "source": []
  },
  {
   "cell_type": "code",
   "execution_count": null,
   "metadata": {},
   "outputs": [],
   "source": [
    "\n"
   ]
  },
  {
   "cell_type": "code",
   "execution_count": null,
   "metadata": {},
   "outputs": [],
   "source": []
  },
  {
   "cell_type": "code",
   "execution_count": null,
   "metadata": {},
   "outputs": [],
   "source": []
  }
 ],
 "metadata": {
  "kernelspec": {
   "display_name": "Python 3",
   "language": "python",
   "name": "python3"
  },
  "language_info": {
   "codemirror_mode": {
    "name": "ipython",
    "version": 3
   },
   "file_extension": ".py",
   "mimetype": "text/x-python",
   "name": "python",
   "nbconvert_exporter": "python",
   "pygments_lexer": "ipython3",
   "version": "3.7.4"
  }
 },
 "nbformat": 4,
 "nbformat_minor": 2
}
