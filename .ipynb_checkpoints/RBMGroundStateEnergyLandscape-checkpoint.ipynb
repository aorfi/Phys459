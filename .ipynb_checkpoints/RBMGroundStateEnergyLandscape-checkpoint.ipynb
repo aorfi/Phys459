{
 "cells": [
  {
   "cell_type": "code",
   "execution_count": 1,
   "metadata": {},
   "outputs": [],
   "source": [
    "import json\n",
    "from qutip import *\n",
    "import numpy as np\n",
    "import scipy\n",
    "import cmath\n",
    "import matplotlib.pyplot as plt\n",
    "plt.style.use('seaborn')\n",
    "import itertools\n",
    "from numpy.random import seed\n",
    "from numpy.random import rand\n",
    "from itertools import product\n",
    "from scipy.misc import derivative\n",
    "from scipy import optimize\n",
    "from functools import wraps\n",
    "from time import time\n",
    "from scipy.optimize import minimize\n",
    "from matplotlib import gridspec\n"
   ]
  },
  {
   "cell_type": "code",
   "execution_count": 2,
   "metadata": {},
   "outputs": [],
   "source": [
    "#Wrapper to time functions\n",
    "def timing(f):\n",
    "    @wraps(f)\n",
    "    def wrap(*args, **kw):\n",
    "        ti = time()\n",
    "        result = f(*args, **kw)\n",
    "        tf = time()\n",
    "        t = tf-ti\n",
    "        return result, t\n",
    "    return wrap"
   ]
  },
  {
   "cell_type": "code",
   "execution_count": 3,
   "metadata": {
    "scrolled": true
   },
   "outputs": [],
   "source": [
    "#Make basis and get sz values\n",
    "def operatorCreation(N):\n",
    "    #operator definitionis\n",
    "    si = qeye(2)\n",
    "    sx = 0.5*sigmax()\n",
    "    sy = 0.5*sigmay()\n",
    "    sz = 0.5*sigmaz()\n",
    "\n",
    "    sx_list = []\n",
    "    sy_list = []\n",
    "    sz_list = []\n",
    "    \n",
    "\n",
    "    for n in range(N):\n",
    "        op_list = []\n",
    "        for m in range(N):\n",
    "            op_list.append(si)\n",
    "\n",
    "        op_list[n] = sx\n",
    "        sx_list.append(tensor(op_list))\n",
    "\n",
    "        op_list[n] = sy\n",
    "        sy_list.append(tensor(op_list))\n",
    "\n",
    "        op_list[n] = sz\n",
    "        sz_list.append(tensor(op_list))\n",
    "        \n",
    "        op_list[n] = si\n",
    "    id = tensor(op_list)\n",
    "        \n",
    "    return sx_list, sy_list, sz_list,id"
   ]
  },
  {
   "cell_type": "code",
   "execution_count": 4,
   "metadata": {},
   "outputs": [],
   "source": [
    "#Construct Hamiltonian\n",
    "def hamiltonian(N,B,A0):\n",
    "    sx_list = operatorCreation(N)[0]\n",
    "    sy_list = operatorCreation(N)[1]\n",
    "    sz_list = operatorCreation(N)[2]\n",
    "    H = B*sz_list[0] \n",
    "    for n in range(N-1):\n",
    "        H += A0*sz_list[0]*sz_list[n+1] + A0*sx_list[0]*sx_list[n+1] + A0*sy_list[0]*sy_list[n+1]\n",
    "    return H"
   ]
  },
  {
   "cell_type": "code",
   "execution_count": 5,
   "metadata": {},
   "outputs": [],
   "source": [
    "#Check if dengerate\n",
    "def CheckDegenerate(H):\n",
    "    estates = H.eigenstates()\n",
    "    lowState = estates[0][0]\n",
    "    secLowState = estates[0][1]\n",
    "    if (abs(lowState-secLowState))<= 1e-10:\n",
    "        return True\n",
    "    else:\n",
    "        return False"
   ]
  },
  {
   "cell_type": "code",
   "execution_count": 6,
   "metadata": {},
   "outputs": [],
   "source": [
    "#Get Ground State Energy and Wavefuntion\n",
    "class GroundState:\n",
    "    \n",
    "    def __init__(self, N, B, A0):\n",
    "        self.hamiltonian = hamiltonian(N, B, A0)\n",
    "     \n",
    "    @timing\n",
    "    def __call__(self):\n",
    "        #find ground state\n",
    "        H = self.hamiltonian\n",
    "        groundState= H.groundstate()\n",
    "        return groundState[0],groundState[1]"
   ]
  },
  {
   "cell_type": "code",
   "execution_count": 7,
   "metadata": {},
   "outputs": [],
   "source": [
    "#Make basis and get sz values\n",
    "def basisCreation(N):\n",
    "    sz_list = operatorCreation(N)[2]\n",
    "    Sbasis = []\n",
    "    basisState = []\n",
    "   \n",
    "    for j in range(2):\n",
    "        basisState.append(basis(2,j))\n",
    "    b = itertools.product(basisState,repeat=N)\n",
    "    basisTensor = list(b)\n",
    "    #makes Sbasis the correct dimesion of Qobj\n",
    "    for i in range(2**N):\n",
    "        c = basisTensor[i][0]\n",
    "        for j in range(N-1):\n",
    "            c = tensor(c,basisTensor[i][j+1])\n",
    "        Sbasis.append(c)\n",
    "\n",
    "    \n",
    "    #get sz values for basis states\n",
    "    sz = np.zeros((2**N,N), dtype = complex)\n",
    "    a = [[1 for j in range(N)] for i in range(2**N)]\n",
    "    for i in range(2**N):\n",
    "        for j in range(N):\n",
    "            #matrix element <bra|Sz|ket>\n",
    "            sz[i][j] = sz_list[j].matrix_element(Sbasis[i],Sbasis[i])\n",
    "    return Sbasis, sz\n"
   ]
  },
  {
   "cell_type": "code",
   "execution_count": 8,
   "metadata": {},
   "outputs": [],
   "source": [
    "#get randomized RBM parameters (between zero and 1)\n",
    "def ranRBMpar(N,M):\n",
    "    par = np.random.rand(2*(N+M+N*M))\n",
    "    return par"
   ]
  },
  {
   "cell_type": "code",
   "execution_count": 9,
   "metadata": {},
   "outputs": [],
   "source": [
    "#Function to give RBM wavefuntion\n",
    "def RBM_ansatz(par,N, M):\n",
    "    Sbasis = basisCreation(N)[0]\n",
    "    sz = basisCreation(N)[1]\n",
    "    #make parmeters complex\n",
    "    num = N+M+N*M\n",
    "    parC = np.vectorize(complex)(par[:num],par[num:])\n",
    "    a = parC[:N]\n",
    "    b = parC[N:N+M]\n",
    "    W = parC[N+M:].reshape(M,N)\n",
    "    expTerm = np.zeros(2**N, dtype = complex)\n",
    "    coshTerm = np.zeros((M,2**N), dtype = complex)\n",
    "    hidProduct = np.zeros(2**N, dtype = complex)\n",
    "    psiMValues = np.zeros(2**N, dtype = complex)\n",
    "    psiM = 0*Sbasis[0]\n",
    "\n",
    "    for i in range(2**N):\n",
    "        for m in range(M):\n",
    "            coshTerm[m][i] = 2*np.cosh(np.dot(W[m],sz[i]) + b[m])\n",
    "    hidProduct = np.prod(coshTerm, axis = 0) \n",
    "    \n",
    "    for i in range(2**N):\n",
    "        expTerm[i] = np.exp(np.dot(a,sz[i]))\n",
    "        psiMValues[i] = expTerm[i]*hidProduct[i]\n",
    "        psiM += psiMValues[i]*Sbasis[i]\n",
    "    psiNorm = psiM.unit()\n",
    "    return psiNorm\n"
   ]
  },
  {
   "cell_type": "code",
   "execution_count": null,
   "metadata": {},
   "outputs": [],
   "source": []
  },
  {
   "cell_type": "code",
   "execution_count": 10,
   "metadata": {},
   "outputs": [],
   "source": [
    "#Variation Energy Definition\n",
    "def varEnergy(par,N, M, H):\n",
    "    psiM = RBM_ansatz(par,N, M)\n",
    "    E = expect(H,psiM)\n",
    "    norm = psiM.norm()**2\n",
    "    Enorm = E/norm\n",
    "    return Enorm"
   ]
  },
  {
   "cell_type": "code",
   "execution_count": 11,
   "metadata": {},
   "outputs": [],
   "source": [
    "#Energy Partials\n",
    "def gradEnergy(par,N, M,H):\n",
    "    eps = 0.001\n",
    "    return optimize.approx_fprime(par,varEnergy,eps, N, M,H)"
   ]
  },
  {
   "cell_type": "code",
   "execution_count": 12,
   "metadata": {},
   "outputs": [],
   "source": [
    "#Gradient Descent\n",
    "class GradDescent:\n",
    "    \n",
    "    def __init__(self, N, B, A0):\n",
    "        H = hamiltonian(N, B, A0)\n",
    "        isDeg = CheckDegenerate(H)\n",
    "        if (isDeg == True):\n",
    "            raise ValueError(\"Hamiltonian has degenerate ground state\")\n",
    "        else:\n",
    "            self.hamiltonian = H\n",
    "     \n",
    "    @timing \n",
    "    def __call__(self, N, M,par):\n",
    "        H = self.hamiltonian\n",
    "        min = scipy.optimize.fmin_cg(varEnergy,par,args= (N,M,H),gtol = 1e-04, full_output=True, retall = True, disp=True)\n",
    "        #Ground State\n",
    "        found_gs = RBM_ansatz(min[0],N, M)\n",
    "        found_gs = found_gs.unit()\n",
    "        #Ground State Energy\n",
    "        found_gsEnergy =varEnergy(min[0], N, M,H)\n",
    "\n",
    "        return min, found_gs, found_gsEnergy  "
   ]
  },
  {
   "cell_type": "code",
   "execution_count": 13,
   "metadata": {},
   "outputs": [],
   "source": [
    "#NelderMead\n",
    "class NelderMead:\n",
    "    \n",
    "    def __init__(self, N, B, A0):\n",
    "        H = hamiltonian(N, B, A0)\n",
    "        isDeg = CheckDegenerate(H)\n",
    "        if (isDeg == True):\n",
    "            raise ValueError(\"Hamiltonian has degenerate ground state\")\n",
    "        else:\n",
    "            self.hamiltonian = H\n",
    "     \n",
    "    @timing \n",
    "    def __call__(self, N, M,par):\n",
    "        H = self.hamiltonian\n",
    "        min = minimize(varEnergy, par,args= (N,M,H), method='nelder-mead', options={'disp': True})\n",
    "        #Ground State\n",
    "        found_gs = RBM_ansatz(min.x,N, M)\n",
    "        found_gs = found_gs.unit()\n",
    "        #Ground State Energy\n",
    "        found_gsEnergy =varEnergy(min.x, N, M,H)\n",
    "\n",
    "        return min, found_gs, found_gsEnergy  "
   ]
  },
  {
   "cell_type": "code",
   "execution_count": 14,
   "metadata": {},
   "outputs": [],
   "source": [
    "#BFGS\n",
    "class BFGS:\n",
    "    \n",
    "    def __init__(self, N, B, A0):\n",
    "        H = hamiltonian(N, B, A0)\n",
    "        isDeg = CheckDegenerate(H)\n",
    "        if (isDeg == True):\n",
    "            raise ValueError(\"Hamiltonian has degenerate ground state\")\n",
    "        else:\n",
    "            self.hamiltonian = H\n",
    "     \n",
    "    @timing \n",
    "    def __call__(self, N, M,par):\n",
    "        H = self.hamiltonian\n",
    "        min = minimize(varEnergy, par,args= (N,M,H), method='BFGS', options={'disp': True})\n",
    "        #Ground State\n",
    "        found_gs = RBM_ansatz(min.x,N, M)\n",
    "        found_gs = found_gs.unit()\n",
    "        #Ground State Energy\n",
    "        found_gsEnergy =varEnergy(min.x, N, M,H)\n",
    "\n",
    "        return min, found_gs, found_gsEnergy  "
   ]
  },
  {
   "cell_type": "code",
   "execution_count": 15,
   "metadata": {},
   "outputs": [],
   "source": [
    "#Newton-CG\n",
    "class NewtonCG:\n",
    "    \n",
    "    def __init__(self, N, B, A0):\n",
    "        H = hamiltonian(N, B, A0)\n",
    "        isDeg = CheckDegenerate(H)\n",
    "        if (isDeg == True):\n",
    "            raise ValueError(\"Hamiltonian has degenerate ground state\")\n",
    "        else:\n",
    "            self.hamiltonian = H\n",
    "     \n",
    "    @timing \n",
    "    def __call__(self, N, M,par):\n",
    "        H = self.hamiltonian\n",
    "        min = minimize(varEnergy, par,args= (N,M,H), method='Newton-CG', options={'disp': True})\n",
    "        #Ground State\n",
    "        found_gs = RBM_ansatz(min.x,N, M)\n",
    "        found_gs = found_gs.unit()\n",
    "        #Ground State Energy\n",
    "        found_gsEnergy =varEnergy(min.x, N, M,H)\n",
    "\n",
    "        return min, found_gs, found_gsEnergy  "
   ]
  },
  {
   "cell_type": "code",
   "execution_count": 16,
   "metadata": {},
   "outputs": [],
   "source": [
    "#Error Calculation\n",
    "def err(found_gs,gs,found_gsEnergy,gsEnergy):\n",
    "    engErr = np.abs(found_gsEnergy-gsEnergy)\n",
    "    waveFunctionErr = found_gs.dag()*gs\n",
    "    waveFunctionErr = 1-waveFunctionErr.norm()\n",
    "    \n",
    "    return engErr,waveFunctionErr\n"
   ]
  },
  {
   "cell_type": "code",
   "execution_count": 17,
   "metadata": {},
   "outputs": [],
   "source": [
    "#Loader to test different methods with same RBM initalization\n",
    "def minLoader(minimizer, par, N, M, B, A0):\n",
    "    if minimizer == 'GradDescent':\n",
    "        gradDescent = GradDescent(N, B, A0)\n",
    "        gd = gradDescent(N, M,par)\n",
    "        return gd\n",
    "    if minimizer == \"NelderMead\":\n",
    "        nelderMead = NelderMead(N,B,A0)\n",
    "        nm = nelderMead(N,M,par)\n",
    "        return nm\n",
    "    if minimizer == \"BFGS\":\n",
    "        bfgs = BFGS(N,B,A0)\n",
    "        bf = bfgs(N,M,par)\n",
    "        return bf\n",
    "        \n",
    "        \n",
    "    "
   ]
  },
  {
   "cell_type": "markdown",
   "metadata": {},
   "source": [
    "## Same Starting Paramters"
   ]
  },
  {
   "cell_type": "code",
   "execution_count": 83,
   "metadata": {},
   "outputs": [],
   "source": [
    "#Parameter definition \n",
    "N= 2\n",
    "M=1\n",
    "B = np.pi\n",
    "A0 = 1\n",
    "\n",
    "\n",
    "gdResults = [] #gives ground state estimation at each iteration of gd\n",
    "gdState = []\n",
    "gdTime = []\n",
    "gdEngErr = []\n",
    "gdStateErr = []\n",
    "\n",
    "params = []\n",
    "trained_params = []\n",
    "\n",
    "edState = []\n",
    "edTime = []\n",
    "ActualEng = []\n",
    "hisIt = np.arange(10)"
   ]
  },
  {
   "cell_type": "code",
   "execution_count": 84,
   "metadata": {},
   "outputs": [
    {
     "name": "stdout",
     "output_type": "stream",
     "text": [
      "Optimization terminated successfully.\n",
      "         Current function value: -1.898410\n",
      "         Iterations: 20\n",
      "         Function evaluations: 588\n",
      "         Gradient evaluations: 49\n",
      "Optimization terminated successfully.\n",
      "         Current function value: -1.898454\n",
      "         Iterations: 24\n",
      "         Function evaluations: 672\n",
      "         Gradient evaluations: 56\n",
      "Optimization terminated successfully.\n",
      "         Current function value: -1.898454\n",
      "         Iterations: 23\n",
      "         Function evaluations: 504\n",
      "         Gradient evaluations: 42\n",
      "Optimization terminated successfully.\n",
      "         Current function value: -1.820724\n",
      "         Iterations: 6\n",
      "         Function evaluations: 240\n",
      "         Gradient evaluations: 20\n",
      "Optimization terminated successfully.\n",
      "         Current function value: -1.820733\n",
      "         Iterations: 7\n",
      "         Function evaluations: 288\n",
      "         Gradient evaluations: 24\n",
      "Optimization terminated successfully.\n",
      "         Current function value: -1.898446\n",
      "         Iterations: 21\n",
      "         Function evaluations: 636\n",
      "         Gradient evaluations: 53\n",
      "Optimization terminated successfully.\n",
      "         Current function value: -1.898453\n",
      "         Iterations: 29\n",
      "         Function evaluations: 732\n",
      "         Gradient evaluations: 61\n",
      "Optimization terminated successfully.\n",
      "         Current function value: -1.898452\n",
      "         Iterations: 29\n",
      "         Function evaluations: 744\n",
      "         Gradient evaluations: 62\n",
      "Optimization terminated successfully.\n",
      "         Current function value: -1.898431\n",
      "         Iterations: 32\n",
      "         Function evaluations: 948\n",
      "         Gradient evaluations: 79\n",
      "Optimization terminated successfully.\n",
      "         Current function value: -1.820734\n",
      "         Iterations: 7\n",
      "         Function evaluations: 288\n",
      "         Gradient evaluations: 24\n"
     ]
    }
   ],
   "source": [
    "for i in range(10):\n",
    "    par = ranRBMpar(N,M)\n",
    "    params.append(par)\n",
    "    #gradient descent\n",
    "    gradDescent = GradDescent(N, B, A0)\n",
    "    gd = gradDescent(N, M,par)\n",
    "    gdResults.append(gd)\n",
    "    gdState.append(gd[0])\n",
    "    gdTime.append(gd[1])\n",
    "    trained_params.append(gd[0][0][0])\n",
    "\n",
    "\n",
    "    #exact diagonalization \n",
    "    groundState = GroundState(N,B,A0)\n",
    "    ed = groundState()\n",
    "    edState.append(ed[0])\n",
    "    edTime.append(ed[1])\n",
    "\n",
    "    #Error\n",
    "    gdEngTemp = gd[0][2]\n",
    "    edEngTemp = ed[0][0]\n",
    "    ActualEng.append(edEngTemp)\n",
    "    gdStateTemp = gd[0][1]\n",
    "    edStateTemp = ed[0][1]\n",
    "    gdErrTemp = err(gdStateTemp,edStateTemp,gdEngTemp,edEngTemp)\n",
    "    gdEngErr.append(gdErrTemp[0])\n",
    "    gdStateErr.append(gdErrTemp[1])"
   ]
  },
  {
   "cell_type": "code",
   "execution_count": 87,
   "metadata": {},
   "outputs": [
    {
     "data": {
      "text/plain": [
       "Text(0.5, 0, 'Run Number')"
      ]
     },
     "execution_count": 87,
     "metadata": {},
     "output_type": "execute_result"
    },
    {
     "data": {
      "text/plain": [
       "<Figure size 432x288 with 0 Axes>"
      ]
     },
     "metadata": {},
     "output_type": "display_data"
    },
    {
     "data": {
      "image/png": "[encoded data removed]",
      "text/plain": [
       "<Figure size 720x720 with 1 Axes>"
      ]
     },
     "metadata": {
      "needs_background": "light"
     },
     "output_type": "display_data"
    }
   ],
   "source": [
    "plt.figure(constrained_layout=True)\n",
    "plt.figure(figsize=(10,10))\n",
    "ttl = plt.suptitle(\"N = 2, M = 1, B = $\\pi$\",size =20)\n",
    "gs = gridspec.GridSpec(ncols=1, nrows=1, hspace = 0.4)\n",
    "ttl.set_position([.5, 0.92])\n",
    "\n",
    "\n",
    "ax4 = plt.subplot(gs[0, :])\n",
    "ax4.scatter(hisIt,gdEngErr) \n",
    "ax4 .set_ylabel(\"$\\Delta E = |E_{RBM}-E_{ED}|$\", size = 15)\n",
    "ax4.set_xlabel(\"Run Number\",size = 15)\n"
   ]
  },
  {
   "cell_type": "code",
   "execution_count": 88,
   "metadata": {},
   "outputs": [
    {
     "name": "stdout",
     "output_type": "stream",
     "text": [
      "[0.99212482 0.28743273 0.85212144 0.00625628 0.30507076 0.9486696\n",
      " 0.37455959 0.81331444 0.70436274 0.04721631]\n",
      "[-1.60415952  0.42879771 -0.08520122 -4.42250482  4.17424146  0.94840582\n",
      "  0.37480672  1.85750206  1.48796804 -0.90556927]\n",
      "[0.88030007 0.02678581 0.20060769 0.6000845  0.8416192  0.40849492\n",
      " 0.73339565 0.98095446 0.11248773 0.24234688]\n",
      "[-3.34561756  2.61487901 -2.17305561  2.34813789 -2.12142152 -0.08905354\n",
      "  1.23100161  1.08300481  1.57073146 -0.09011956]\n"
     ]
    }
   ],
   "source": [
    "print(params[0])\n",
    "print(trained_params[0])\n",
    "print(params[3])\n",
    "print(trained_params[3])\n",
    "\n"
   ]
  },
  {
   "cell_type": "code",
   "execution_count": 89,
   "metadata": {},
   "outputs": [],
   "source": [
    "x = np.arange(-4,4,0.1)\n",
    "\n",
    "eng1 = []\n",
    "for i in range(len(x)):\n",
    "    param_it1 = list(trained_params[0])\n",
    "    param_it1[0] = x[i]\n",
    "    varEng = varEnergy(param_it1,N, M, hamiltonian(N,B,A0))\n",
    "    eng1.append(varEng)\n",
    "    \n",
    "\n",
    "eng2 = []\n",
    "for i in range(len(x)):\n",
    "    param_it2 = list(trained_params[0])\n",
    "    param_it2[1] = x[i]\n",
    "    varEng = varEnergy(param_it2,N, M, hamiltonian(N,B,A0))\n",
    "    eng2.append(varEng)\n",
    "    \n",
    "\n",
    "eng3 = []\n",
    "for i in range(len(x)):\n",
    "    param_it3 = list(trained_params[0]) \n",
    "    param_it3[2] = x[i]\n",
    "    varEng = varEnergy(param_it3,N, M, hamiltonian(N,B,A0))\n",
    "    eng3.append(varEng)\n",
    "    \n",
    "\n",
    "eng4 = []\n",
    "for i in range(len(x)):\n",
    "    param_it4 = list(trained_params[0])\n",
    "    param_it4[3] = x[i]\n",
    "    varEng = varEnergy(param_it4,N, M, hamiltonian(N,B,A0))\n",
    "    eng4.append(varEng)\n",
    "\n",
    "eng5 = []\n",
    "for i in range(len(x)):\n",
    "    param_it5 = list(trained_params[0]) \n",
    "    param_it5[4] = x[i]\n",
    "    varEng = varEnergy(param_it5,N, M, hamiltonian(N,B,A0))\n",
    "    eng5.append(varEng)\n",
    "\n",
    "eng6 = []\n",
    "for i in range(len(x)):\n",
    "    param_it6 = list(trained_params[0]) \n",
    "    param_it6[5] = x[i]\n",
    "    varEng = varEnergy(param_it6,N, M, hamiltonian(N,B,A0))\n",
    "    eng6.append(varEng)\n",
    "\n",
    "\n",
    "eng7 = []\n",
    "for i in range(len(x)):\n",
    "    param_it7 = list(trained_params[0]) \n",
    "    param_it7[6] = x[i]\n",
    "    varEng = varEnergy(param_it7,N, M, hamiltonian(N,B,A0))\n",
    "    eng7.append(varEng)\n",
    "\n",
    "\n",
    "eng8 = []\n",
    "for i in range(len(x)):\n",
    "    param_it8 = list(trained_params[0]) \n",
    "    param_it8[7] = x[i]\n",
    "    varEng = varEnergy(param_it8,N, M, hamiltonian(N,B,A0))\n",
    "    eng8.append(varEng)\n",
    "\n",
    "eng9 = []\n",
    "for i in range(len(x)):\n",
    "    param_it9 = list(trained_params[0]) \n",
    "    param_it9[8] = x[i]\n",
    "    varEng = varEnergy(param_it9,N, M, hamiltonian(N,B,A0))\n",
    "    eng9.append(varEng)\n",
    "\n",
    "eng10 = []\n",
    "for i in range(len(x)):\n",
    "    param_it10 = list(trained_params[0]) \n",
    "    param_it10[9] = x[i]\n",
    "    varEng = varEnergy(param_it10,N, M, hamiltonian(N,B,A0))\n",
    "    eng10.append(varEng)"
   ]
  },
  {
   "cell_type": "code",
   "execution_count": 123,
   "metadata": {
    "scrolled": true
   },
   "outputs": [
    {
     "data": {
      "text/plain": [
       "<matplotlib.legend.Legend at 0x24e88ecfd08>"
      ]
     },
     "execution_count": 123,
     "metadata": {},
     "output_type": "execute_result"
    },
    {
     "data": {
      "text/plain": [
       "<Figure size 432x288 with 0 Axes>"
      ]
     },
     "metadata": {},
     "output_type": "display_data"
    },
    {
     "data": {
      "image/png": "[encoded data removed]",
      "text/plain": [
       "<Figure size 1440x1440 with 10 Axes>"
      ]
     },
     "metadata": {
      "needs_background": "light"
     },
     "output_type": "display_data"
    }
   ],
   "source": [
    "plt.figure(constrained_layout=True)\n",
    "plt.figure(figsize=(20,20))\n",
    "ttl = plt.suptitle(\"N = 2, M = 1, B = $\\pi$\\n\",size =20)\n",
    "gs = gridspec.GridSpec(ncols=5, nrows=5, hspace = 0.4)\n",
    "ttl.set_position([.5, 0.92])\n",
    "\n",
    "lowErr = 'Energy Error: '+ str(gdEngErr[0])\n",
    "highErr = 'Energy Error: '+ str(gdEngErr[3])\n",
    "labels = [lowErr,highErr]\n",
    "\n",
    "ax1 = plt.subplot(gs[0,0])\n",
    "ax1.plot(x,eng1) \n",
    "a = ax1.axvline(trained_params[0][0],color ='r', linestyle='dashed', label=labels[0])\n",
    "b = ax1.axvline(trained_params[3][0],color ='g', linestyle='dashed',label=labels[1])\n",
    "ax1 .set_ylabel(\"$Variational Energy$\", size = 15)\n",
    "ax1.set_xlabel(\"Parameter 1\",size = 15)\n",
    "\n",
    "ax2 = plt.subplot(gs[0,1])\n",
    "ax2.plot(x,eng2)  \n",
    "ax2.axvline(trained_params[0][1],color ='r', linestyle='dashed')\n",
    "ax2.axvline(trained_params[3][1],color ='g', linestyle='dashed')\n",
    "ax2.set_xlabel(\"Parameter 2\",size = 15)\n",
    "\n",
    "ax3 = plt.subplot(gs[0,2])\n",
    "ax3.plot(x,eng3)  \n",
    "ax3.axvline(trained_params[0][2],color ='r', linestyle='dashed')\n",
    "ax3.axvline(trained_params[3][2],color ='g', linestyle='dashed')\n",
    "ax3.set_xlabel(\"Parameter 3 \",size = 15)\n",
    "\n",
    "ax4 = plt.subplot(gs[0,3])\n",
    "ax4.plot(x,eng4)  \n",
    "ax4.axvline(trained_params[0][3],color ='r', linestyle='dashed')\n",
    "ax4.axvline(trained_params[3][3],color ='g', linestyle='dashed')\n",
    "ax4.set_xlabel(\"Parameter 4\",size = 15)\n",
    "\n",
    "ax5 = plt.subplot(gs[0,4])\n",
    "ax5.plot(x,eng5) \n",
    "ax5.axvline(trained_params[0][4],color ='r', linestyle='dashed')\n",
    "ax5.axvline(trained_params[3][4],color ='g', linestyle='dashed')\n",
    "ax5.set_xlabel(\"Parameter 5\",size = 15)\n",
    "\n",
    "ax6 = plt.subplot(gs[1,0])\n",
    "ax6 .set_ylabel(\"$Variational Energy$\", size = 15)\n",
    "ax6.plot(x,eng6)  \n",
    "ax6.axvline(trained_params[0][5],color ='r', linestyle='dashed')\n",
    "ax6.axvline(trained_params[3][5],color ='g', linestyle='dashed')\n",
    "ax6.set_xlabel(\"Parameter 6 \",size = 15)\n",
    "\n",
    "ax7 = plt.subplot(gs[1,1])\n",
    "ax7.plot(x,eng7)  \n",
    "ax7.axvline(trained_params[0][6],color ='r', linestyle='dashed')\n",
    "ax7.axvline(trained_params[3][6],color ='g', linestyle='dashed')\n",
    "ax7.set_xlabel(\"Parameter 7\",size = 15)\n",
    "\n",
    "ax8 = plt.subplot(gs[1,2])\n",
    "ax8.plot(x,eng8)  \n",
    "ax8.axvline(trained_params[0][7],color ='r', linestyle='dashed')\n",
    "ax8.axvline(trained_params[3][7],color ='g', linestyle='dashed')\n",
    "ax8.set_xlabel(\"Parameter 8\",size = 15)\n",
    "\n",
    "ax9 = plt.subplot(gs[1,3])\n",
    "ax9.plot(x,eng9) \n",
    "ax9.axvline(trained_params[0][8],color ='r', linestyle='dashed')\n",
    "ax9.axvline(trained_params[3][8],color ='g', linestyle='dashed')\n",
    "ax9.set_xlabel(\"Parameter 9\",size = 15)\n",
    "\n",
    "ax10 = plt.subplot(gs[1,4])\n",
    "ax10.plot(x,eng10)  \n",
    "ax10.axvline(trained_params[0][9],color ='r', linestyle='dashed')\n",
    "ax10.axvline(trained_params[3][9],color ='g', linestyle='dashed')\n",
    "ax10.set_xlabel(\"Parameter 10\",size = 15)\n",
    "\n",
    "plt.legend(handles = [a, b], loc = (-3.5, 2.45),fontsize = 15,ncol=3)"
   ]
  },
  {
   "cell_type": "code",
   "execution_count": 80,
   "metadata": {},
   "outputs": [
    {
     "data": {
      "text/plain": [
       "-0.926702496589693"
      ]
     },
     "execution_count": 80,
     "metadata": {},
     "output_type": "execute_result"
    }
   ],
   "source": [
    "trained_params[0][0]"
   ]
  },
  {
   "cell_type": "code",
   "execution_count": null,
   "metadata": {},
   "outputs": [],
   "source": []
  },
  {
   "cell_type": "markdown",
   "metadata": {},
   "source": [
    "## Comparison Histograms"
   ]
  },
  {
   "cell_type": "code",
   "execution_count": 56,
   "metadata": {},
   "outputs": [],
   "source": [
    "#Parameter definition \n",
    "N= 2\n",
    "M=1\n",
    "B = np.pi\n",
    "A0 = 1\n",
    "\n",
    "gdResults = [] #gives ground state estimation at each iteration of gd\n",
    "gdState = []\n",
    "gdTime = []\n",
    "gdEngErr = []\n",
    "gdStateErr = []\n",
    "\n",
    "edState = []\n",
    "edTime = []\n",
    "ActualEng = []\n",
    "\n",
    "nmState = []\n",
    "nmTime = []\n",
    "nmEngErr = []\n",
    "nmStateErr = []\n",
    "\n",
    "nwState = []\n",
    "nwTime = []\n",
    "nwEngErr = []\n",
    "nwStateErr = []\n",
    "\n",
    "bfState = []\n",
    "bfTime = []\n",
    "bfEngErr = []\n",
    "bfStateErr = []\n",
    "\n",
    "hisIt = np.arange(50)"
   ]
  },
  {
   "cell_type": "code",
   "execution_count": 57,
   "metadata": {
    "scrolled": true
   },
   "outputs": [
    {
     "name": "stdout",
     "output_type": "stream",
     "text": [
      "Optimization terminated successfully.\n",
      "         Current function value: -1.898454\n",
      "         Iterations: 26\n",
      "         Function evaluations: 636\n",
      "         Gradient evaluations: 53\n"
     ]
    },
    {
     "ename": "KeyboardInterrupt",
     "evalue": "",
     "output_type": "error",
     "traceback": [
      "\u001b[1;31m---------------------------------------------------------------------------\u001b[0m",
      "\u001b[1;31mKeyboardInterrupt\u001b[0m                         Traceback (most recent call last)",
      "\u001b[1;32m<ipython-input-57-2ab2eeb1a2ff>\u001b[0m in \u001b[0;36m<module>\u001b[1;34m\u001b[0m\n\u001b[0;32m     16\u001b[0m \u001b[1;33m\u001b[0m\u001b[0m\n\u001b[0;32m     17\u001b[0m         \u001b[1;31m#Nelder Mead\u001b[0m\u001b[1;33m\u001b[0m\u001b[1;33m\u001b[0m\u001b[1;33m\u001b[0m\u001b[0m\n\u001b[1;32m---> 18\u001b[1;33m         \u001b[0mnm\u001b[0m \u001b[1;33m=\u001b[0m \u001b[0mminLoader\u001b[0m\u001b[1;33m(\u001b[0m\u001b[1;34m'NelderMead'\u001b[0m\u001b[1;33m,\u001b[0m\u001b[0mpar\u001b[0m\u001b[1;33m,\u001b[0m \u001b[0mN\u001b[0m\u001b[1;33m,\u001b[0m \u001b[0mM\u001b[0m\u001b[1;33m,\u001b[0m \u001b[0mB\u001b[0m\u001b[1;33m,\u001b[0m \u001b[0mA0\u001b[0m\u001b[1;33m)\u001b[0m\u001b[1;33m\u001b[0m\u001b[1;33m\u001b[0m\u001b[0m\n\u001b[0m\u001b[0;32m     19\u001b[0m         \u001b[0mnmState\u001b[0m\u001b[1;33m.\u001b[0m\u001b[0mappend\u001b[0m\u001b[1;33m(\u001b[0m\u001b[0mnm\u001b[0m\u001b[1;33m[\u001b[0m\u001b[1;36m0\u001b[0m\u001b[1;33m]\u001b[0m\u001b[1;33m)\u001b[0m\u001b[1;33m\u001b[0m\u001b[1;33m\u001b[0m\u001b[0m\n\u001b[0;32m     20\u001b[0m         \u001b[0mnmTime\u001b[0m\u001b[1;33m.\u001b[0m\u001b[0mappend\u001b[0m\u001b[1;33m(\u001b[0m\u001b[0mnm\u001b[0m\u001b[1;33m[\u001b[0m\u001b[1;36m1\u001b[0m\u001b[1;33m]\u001b[0m\u001b[1;33m)\u001b[0m\u001b[1;33m\u001b[0m\u001b[1;33m\u001b[0m\u001b[0m\n",
      "\u001b[1;32m<ipython-input-34-b873ba4fbc43>\u001b[0m in \u001b[0;36mminLoader\u001b[1;34m(minimizer, par, N, M, B, A0)\u001b[0m\n\u001b[0;32m      7\u001b[0m     \u001b[1;32mif\u001b[0m \u001b[0mminimizer\u001b[0m \u001b[1;33m==\u001b[0m \u001b[1;34m\"NelderMead\"\u001b[0m\u001b[1;33m:\u001b[0m\u001b[1;33m\u001b[0m\u001b[1;33m\u001b[0m\u001b[0m\n\u001b[0;32m      8\u001b[0m         \u001b[0mnelderMead\u001b[0m \u001b[1;33m=\u001b[0m \u001b[0mNelderMead\u001b[0m\u001b[1;33m(\u001b[0m\u001b[0mN\u001b[0m\u001b[1;33m,\u001b[0m\u001b[0mB\u001b[0m\u001b[1;33m,\u001b[0m\u001b[0mA0\u001b[0m\u001b[1;33m)\u001b[0m\u001b[1;33m\u001b[0m\u001b[1;33m\u001b[0m\u001b[0m\n\u001b[1;32m----> 9\u001b[1;33m         \u001b[0mnm\u001b[0m \u001b[1;33m=\u001b[0m \u001b[0mnelderMead\u001b[0m\u001b[1;33m(\u001b[0m\u001b[0mN\u001b[0m\u001b[1;33m,\u001b[0m\u001b[0mM\u001b[0m\u001b[1;33m,\u001b[0m\u001b[0mpar\u001b[0m\u001b[1;33m)\u001b[0m\u001b[1;33m\u001b[0m\u001b[1;33m\u001b[0m\u001b[0m\n\u001b[0m\u001b[0;32m     10\u001b[0m         \u001b[1;32mreturn\u001b[0m \u001b[0mnm\u001b[0m\u001b[1;33m\u001b[0m\u001b[1;33m\u001b[0m\u001b[0m\n\u001b[0;32m     11\u001b[0m     \u001b[1;32mif\u001b[0m \u001b[0mminimizer\u001b[0m \u001b[1;33m==\u001b[0m \u001b[1;34m\"BFGS\"\u001b[0m\u001b[1;33m:\u001b[0m\u001b[1;33m\u001b[0m\u001b[1;33m\u001b[0m\u001b[0m\n",
      "\u001b[1;32m<ipython-input-2-6622a3b6181e>\u001b[0m in \u001b[0;36mwrap\u001b[1;34m(*args, **kw)\u001b[0m\n\u001b[0;32m      4\u001b[0m     \u001b[1;32mdef\u001b[0m \u001b[0mwrap\u001b[0m\u001b[1;33m(\u001b[0m\u001b[1;33m*\u001b[0m\u001b[0margs\u001b[0m\u001b[1;33m,\u001b[0m \u001b[1;33m**\u001b[0m\u001b[0mkw\u001b[0m\u001b[1;33m)\u001b[0m\u001b[1;33m:\u001b[0m\u001b[1;33m\u001b[0m\u001b[1;33m\u001b[0m\u001b[0m\n\u001b[0;32m      5\u001b[0m         \u001b[0mti\u001b[0m \u001b[1;33m=\u001b[0m \u001b[0mtime\u001b[0m\u001b[1;33m(\u001b[0m\u001b[1;33m)\u001b[0m\u001b[1;33m\u001b[0m\u001b[1;33m\u001b[0m\u001b[0m\n\u001b[1;32m----> 6\u001b[1;33m         \u001b[0mresult\u001b[0m \u001b[1;33m=\u001b[0m \u001b[0mf\u001b[0m\u001b[1;33m(\u001b[0m\u001b[1;33m*\u001b[0m\u001b[0margs\u001b[0m\u001b[1;33m,\u001b[0m \u001b[1;33m**\u001b[0m\u001b[0mkw\u001b[0m\u001b[1;33m)\u001b[0m\u001b[1;33m\u001b[0m\u001b[1;33m\u001b[0m\u001b[0m\n\u001b[0m\u001b[0;32m      7\u001b[0m         \u001b[0mtf\u001b[0m \u001b[1;33m=\u001b[0m \u001b[0mtime\u001b[0m\u001b[1;33m(\u001b[0m\u001b[1;33m)\u001b[0m\u001b[1;33m\u001b[0m\u001b[1;33m\u001b[0m\u001b[0m\n\u001b[0;32m      8\u001b[0m         \u001b[0mt\u001b[0m \u001b[1;33m=\u001b[0m \u001b[0mtf\u001b[0m\u001b[1;33m-\u001b[0m\u001b[0mti\u001b[0m\u001b[1;33m\u001b[0m\u001b[1;33m\u001b[0m\u001b[0m\n",
      "\u001b[1;32m<ipython-input-13-22b74b4b3af3>\u001b[0m in \u001b[0;36m__call__\u001b[1;34m(self, N, M, par)\u001b[0m\n\u001b[0;32m     13\u001b[0m     \u001b[1;32mdef\u001b[0m \u001b[0m__call__\u001b[0m\u001b[1;33m(\u001b[0m\u001b[0mself\u001b[0m\u001b[1;33m,\u001b[0m \u001b[0mN\u001b[0m\u001b[1;33m,\u001b[0m \u001b[0mM\u001b[0m\u001b[1;33m,\u001b[0m\u001b[0mpar\u001b[0m\u001b[1;33m)\u001b[0m\u001b[1;33m:\u001b[0m\u001b[1;33m\u001b[0m\u001b[1;33m\u001b[0m\u001b[0m\n\u001b[0;32m     14\u001b[0m         \u001b[0mH\u001b[0m \u001b[1;33m=\u001b[0m \u001b[0mself\u001b[0m\u001b[1;33m.\u001b[0m\u001b[0mhamiltonian\u001b[0m\u001b[1;33m\u001b[0m\u001b[1;33m\u001b[0m\u001b[0m\n\u001b[1;32m---> 15\u001b[1;33m         \u001b[0mmin\u001b[0m \u001b[1;33m=\u001b[0m \u001b[0mminimize\u001b[0m\u001b[1;33m(\u001b[0m\u001b[0mvarEnergy\u001b[0m\u001b[1;33m,\u001b[0m \u001b[0mpar\u001b[0m\u001b[1;33m,\u001b[0m\u001b[0margs\u001b[0m\u001b[1;33m=\u001b[0m \u001b[1;33m(\u001b[0m\u001b[0mN\u001b[0m\u001b[1;33m,\u001b[0m\u001b[0mM\u001b[0m\u001b[1;33m,\u001b[0m\u001b[0mH\u001b[0m\u001b[1;33m)\u001b[0m\u001b[1;33m,\u001b[0m \u001b[0mmethod\u001b[0m\u001b[1;33m=\u001b[0m\u001b[1;34m'nelder-mead'\u001b[0m\u001b[1;33m,\u001b[0m \u001b[0moptions\u001b[0m\u001b[1;33m=\u001b[0m\u001b[1;33m{\u001b[0m\u001b[1;34m'disp'\u001b[0m\u001b[1;33m:\u001b[0m \u001b[1;32mTrue\u001b[0m\u001b[1;33m}\u001b[0m\u001b[1;33m)\u001b[0m\u001b[1;33m\u001b[0m\u001b[1;33m\u001b[0m\u001b[0m\n\u001b[0m\u001b[0;32m     16\u001b[0m         \u001b[1;31m#Ground State\u001b[0m\u001b[1;33m\u001b[0m\u001b[1;33m\u001b[0m\u001b[1;33m\u001b[0m\u001b[0m\n\u001b[0;32m     17\u001b[0m         \u001b[0mfound_gs\u001b[0m \u001b[1;33m=\u001b[0m \u001b[0mRBM_ansatz\u001b[0m\u001b[1;33m(\u001b[0m\u001b[0mmin\u001b[0m\u001b[1;33m.\u001b[0m\u001b[0mx\u001b[0m\u001b[1;33m,\u001b[0m\u001b[0mN\u001b[0m\u001b[1;33m,\u001b[0m \u001b[0mM\u001b[0m\u001b[1;33m)\u001b[0m\u001b[1;33m\u001b[0m\u001b[1;33m\u001b[0m\u001b[0m\n",
      "\u001b[1;32m~\\Anaconda3\\envs\\qutip-env\\lib\\site-packages\\scipy\\optimize\\_minimize.py\u001b[0m in \u001b[0;36mminimize\u001b[1;34m(fun, x0, args, method, jac, hess, hessp, bounds, constraints, tol, callback, options)\u001b[0m\n\u001b[0;32m    586\u001b[0m                       callback=callback, **options)\n\u001b[0;32m    587\u001b[0m     \u001b[1;32melif\u001b[0m \u001b[0mmeth\u001b[0m \u001b[1;33m==\u001b[0m \u001b[1;34m'nelder-mead'\u001b[0m\u001b[1;33m:\u001b[0m\u001b[1;33m\u001b[0m\u001b[1;33m\u001b[0m\u001b[0m\n\u001b[1;32m--> 588\u001b[1;33m         \u001b[1;32mreturn\u001b[0m \u001b[0m_minimize_neldermead\u001b[0m\u001b[1;33m(\u001b[0m\u001b[0mfun\u001b[0m\u001b[1;33m,\u001b[0m \u001b[0mx0\u001b[0m\u001b[1;33m,\u001b[0m \u001b[0margs\u001b[0m\u001b[1;33m,\u001b[0m \u001b[0mcallback\u001b[0m\u001b[1;33m,\u001b[0m \u001b[1;33m**\u001b[0m\u001b[0moptions\u001b[0m\u001b[1;33m)\u001b[0m\u001b[1;33m\u001b[0m\u001b[1;33m\u001b[0m\u001b[0m\n\u001b[0m\u001b[0;32m    589\u001b[0m     \u001b[1;32melif\u001b[0m \u001b[0mmeth\u001b[0m \u001b[1;33m==\u001b[0m \u001b[1;34m'powell'\u001b[0m\u001b[1;33m:\u001b[0m\u001b[1;33m\u001b[0m\u001b[1;33m\u001b[0m\u001b[0m\n\u001b[0;32m    590\u001b[0m         \u001b[1;32mreturn\u001b[0m \u001b[0m_minimize_powell\u001b[0m\u001b[1;33m(\u001b[0m\u001b[0mfun\u001b[0m\u001b[1;33m,\u001b[0m \u001b[0mx0\u001b[0m\u001b[1;33m,\u001b[0m \u001b[0margs\u001b[0m\u001b[1;33m,\u001b[0m \u001b[0mcallback\u001b[0m\u001b[1;33m,\u001b[0m \u001b[1;33m**\u001b[0m\u001b[0moptions\u001b[0m\u001b[1;33m)\u001b[0m\u001b[1;33m\u001b[0m\u001b[1;33m\u001b[0m\u001b[0m\n",
      "\u001b[1;32m~\\Anaconda3\\envs\\qutip-env\\lib\\site-packages\\scipy\\optimize\\optimize.py\u001b[0m in \u001b[0;36m_minimize_neldermead\u001b[1;34m(func, x0, args, callback, maxiter, maxfev, disp, return_all, initial_simplex, xatol, fatol, adaptive, **unknown_options)\u001b[0m\n\u001b[0;32m    641\u001b[0m                     \u001b[1;32mfor\u001b[0m \u001b[0mj\u001b[0m \u001b[1;32min\u001b[0m \u001b[0mone2np1\u001b[0m\u001b[1;33m:\u001b[0m\u001b[1;33m\u001b[0m\u001b[1;33m\u001b[0m\u001b[0m\n\u001b[0;32m    642\u001b[0m                         \u001b[0msim\u001b[0m\u001b[1;33m[\u001b[0m\u001b[0mj\u001b[0m\u001b[1;33m]\u001b[0m \u001b[1;33m=\u001b[0m \u001b[0msim\u001b[0m\u001b[1;33m[\u001b[0m\u001b[1;36m0\u001b[0m\u001b[1;33m]\u001b[0m \u001b[1;33m+\u001b[0m \u001b[0msigma\u001b[0m \u001b[1;33m*\u001b[0m \u001b[1;33m(\u001b[0m\u001b[0msim\u001b[0m\u001b[1;33m[\u001b[0m\u001b[0mj\u001b[0m\u001b[1;33m]\u001b[0m \u001b[1;33m-\u001b[0m \u001b[0msim\u001b[0m\u001b[1;33m[\u001b[0m\u001b[1;36m0\u001b[0m\u001b[1;33m]\u001b[0m\u001b[1;33m)\u001b[0m\u001b[1;33m\u001b[0m\u001b[1;33m\u001b[0m\u001b[0m\n\u001b[1;32m--> 643\u001b[1;33m                         \u001b[0mfsim\u001b[0m\u001b[1;33m[\u001b[0m\u001b[0mj\u001b[0m\u001b[1;33m]\u001b[0m \u001b[1;33m=\u001b[0m \u001b[0mfunc\u001b[0m\u001b[1;33m(\u001b[0m\u001b[0msim\u001b[0m\u001b[1;33m[\u001b[0m\u001b[0mj\u001b[0m\u001b[1;33m]\u001b[0m\u001b[1;33m)\u001b[0m\u001b[1;33m\u001b[0m\u001b[1;33m\u001b[0m\u001b[0m\n\u001b[0m\u001b[0;32m    644\u001b[0m \u001b[1;33m\u001b[0m\u001b[0m\n\u001b[0;32m    645\u001b[0m         \u001b[0mind\u001b[0m \u001b[1;33m=\u001b[0m \u001b[0mnumpy\u001b[0m\u001b[1;33m.\u001b[0m\u001b[0margsort\u001b[0m\u001b[1;33m(\u001b[0m\u001b[0mfsim\u001b[0m\u001b[1;33m)\u001b[0m\u001b[1;33m\u001b[0m\u001b[1;33m\u001b[0m\u001b[0m\n",
      "\u001b[1;32m~\\Anaconda3\\envs\\qutip-env\\lib\\site-packages\\scipy\\optimize\\optimize.py\u001b[0m in \u001b[0;36mfunction_wrapper\u001b[1;34m(*wrapper_args)\u001b[0m\n\u001b[0;32m    324\u001b[0m     \u001b[1;32mdef\u001b[0m \u001b[0mfunction_wrapper\u001b[0m\u001b[1;33m(\u001b[0m\u001b[1;33m*\u001b[0m\u001b[0mwrapper_args\u001b[0m\u001b[1;33m)\u001b[0m\u001b[1;33m:\u001b[0m\u001b[1;33m\u001b[0m\u001b[1;33m\u001b[0m\u001b[0m\n\u001b[0;32m    325\u001b[0m         \u001b[0mncalls\u001b[0m\u001b[1;33m[\u001b[0m\u001b[1;36m0\u001b[0m\u001b[1;33m]\u001b[0m \u001b[1;33m+=\u001b[0m \u001b[1;36m1\u001b[0m\u001b[1;33m\u001b[0m\u001b[1;33m\u001b[0m\u001b[0m\n\u001b[1;32m--> 326\u001b[1;33m         \u001b[1;32mreturn\u001b[0m \u001b[0mfunction\u001b[0m\u001b[1;33m(\u001b[0m\u001b[1;33m*\u001b[0m\u001b[1;33m(\u001b[0m\u001b[0mwrapper_args\u001b[0m \u001b[1;33m+\u001b[0m \u001b[0margs\u001b[0m\u001b[1;33m)\u001b[0m\u001b[1;33m)\u001b[0m\u001b[1;33m\u001b[0m\u001b[1;33m\u001b[0m\u001b[0m\n\u001b[0m\u001b[0;32m    327\u001b[0m \u001b[1;33m\u001b[0m\u001b[0m\n\u001b[0;32m    328\u001b[0m     \u001b[1;32mreturn\u001b[0m \u001b[0mncalls\u001b[0m\u001b[1;33m,\u001b[0m \u001b[0mfunction_wrapper\u001b[0m\u001b[1;33m\u001b[0m\u001b[1;33m\u001b[0m\u001b[0m\n",
      "\u001b[1;32m<ipython-input-10-e4c2ae9a0810>\u001b[0m in \u001b[0;36mvarEnergy\u001b[1;34m(par, N, M, H)\u001b[0m\n\u001b[0;32m      1\u001b[0m \u001b[1;31m#Variation Energy Definition\u001b[0m\u001b[1;33m\u001b[0m\u001b[1;33m\u001b[0m\u001b[1;33m\u001b[0m\u001b[0m\n\u001b[0;32m      2\u001b[0m \u001b[1;32mdef\u001b[0m \u001b[0mvarEnergy\u001b[0m\u001b[1;33m(\u001b[0m\u001b[0mpar\u001b[0m\u001b[1;33m,\u001b[0m\u001b[0mN\u001b[0m\u001b[1;33m,\u001b[0m \u001b[0mM\u001b[0m\u001b[1;33m,\u001b[0m \u001b[0mH\u001b[0m\u001b[1;33m)\u001b[0m\u001b[1;33m:\u001b[0m\u001b[1;33m\u001b[0m\u001b[1;33m\u001b[0m\u001b[0m\n\u001b[1;32m----> 3\u001b[1;33m     \u001b[0mpsiM\u001b[0m \u001b[1;33m=\u001b[0m \u001b[0mRBM_ansatz\u001b[0m\u001b[1;33m(\u001b[0m\u001b[0mpar\u001b[0m\u001b[1;33m,\u001b[0m\u001b[0mN\u001b[0m\u001b[1;33m,\u001b[0m \u001b[0mM\u001b[0m\u001b[1;33m)\u001b[0m\u001b[1;33m\u001b[0m\u001b[1;33m\u001b[0m\u001b[0m\n\u001b[0m\u001b[0;32m      4\u001b[0m     \u001b[0mE\u001b[0m \u001b[1;33m=\u001b[0m \u001b[0mexpect\u001b[0m\u001b[1;33m(\u001b[0m\u001b[0mH\u001b[0m\u001b[1;33m,\u001b[0m\u001b[0mpsiM\u001b[0m\u001b[1;33m)\u001b[0m\u001b[1;33m\u001b[0m\u001b[1;33m\u001b[0m\u001b[0m\n\u001b[0;32m      5\u001b[0m     \u001b[0mnorm\u001b[0m \u001b[1;33m=\u001b[0m \u001b[0mpsiM\u001b[0m\u001b[1;33m.\u001b[0m\u001b[0mnorm\u001b[0m\u001b[1;33m(\u001b[0m\u001b[1;33m)\u001b[0m\u001b[1;33m**\u001b[0m\u001b[1;36m2\u001b[0m\u001b[1;33m\u001b[0m\u001b[1;33m\u001b[0m\u001b[0m\n",
      "\u001b[1;32m<ipython-input-9-19e077368da5>\u001b[0m in \u001b[0;36mRBM_ansatz\u001b[1;34m(par, N, M)\u001b[0m\n\u001b[0;32m     17\u001b[0m     \u001b[1;32mfor\u001b[0m \u001b[0mi\u001b[0m \u001b[1;32min\u001b[0m \u001b[0mrange\u001b[0m\u001b[1;33m(\u001b[0m\u001b[1;36m2\u001b[0m\u001b[1;33m**\u001b[0m\u001b[0mN\u001b[0m\u001b[1;33m)\u001b[0m\u001b[1;33m:\u001b[0m\u001b[1;33m\u001b[0m\u001b[1;33m\u001b[0m\u001b[0m\n\u001b[0;32m     18\u001b[0m         \u001b[1;32mfor\u001b[0m \u001b[0mm\u001b[0m \u001b[1;32min\u001b[0m \u001b[0mrange\u001b[0m\u001b[1;33m(\u001b[0m\u001b[0mM\u001b[0m\u001b[1;33m)\u001b[0m\u001b[1;33m:\u001b[0m\u001b[1;33m\u001b[0m\u001b[1;33m\u001b[0m\u001b[0m\n\u001b[1;32m---> 19\u001b[1;33m             \u001b[0mcoshTerm\u001b[0m\u001b[1;33m[\u001b[0m\u001b[0mm\u001b[0m\u001b[1;33m]\u001b[0m\u001b[1;33m[\u001b[0m\u001b[0mi\u001b[0m\u001b[1;33m]\u001b[0m \u001b[1;33m=\u001b[0m \u001b[1;36m2\u001b[0m\u001b[1;33m*\u001b[0m\u001b[0mnp\u001b[0m\u001b[1;33m.\u001b[0m\u001b[0mcosh\u001b[0m\u001b[1;33m(\u001b[0m\u001b[0mnp\u001b[0m\u001b[1;33m.\u001b[0m\u001b[0mdot\u001b[0m\u001b[1;33m(\u001b[0m\u001b[0mW\u001b[0m\u001b[1;33m[\u001b[0m\u001b[0mm\u001b[0m\u001b[1;33m]\u001b[0m\u001b[1;33m,\u001b[0m\u001b[0msz\u001b[0m\u001b[1;33m[\u001b[0m\u001b[0mi\u001b[0m\u001b[1;33m]\u001b[0m\u001b[1;33m)\u001b[0m \u001b[1;33m+\u001b[0m \u001b[0mb\u001b[0m\u001b[1;33m[\u001b[0m\u001b[0mm\u001b[0m\u001b[1;33m]\u001b[0m\u001b[1;33m)\u001b[0m\u001b[1;33m\u001b[0m\u001b[1;33m\u001b[0m\u001b[0m\n\u001b[0m\u001b[0;32m     20\u001b[0m     \u001b[0mhidProduct\u001b[0m \u001b[1;33m=\u001b[0m \u001b[0mnp\u001b[0m\u001b[1;33m.\u001b[0m\u001b[0mprod\u001b[0m\u001b[1;33m(\u001b[0m\u001b[0mcoshTerm\u001b[0m\u001b[1;33m,\u001b[0m \u001b[0maxis\u001b[0m \u001b[1;33m=\u001b[0m \u001b[1;36m0\u001b[0m\u001b[1;33m)\u001b[0m\u001b[1;33m\u001b[0m\u001b[1;33m\u001b[0m\u001b[0m\n\u001b[0;32m     21\u001b[0m \u001b[1;33m\u001b[0m\u001b[0m\n",
      "\u001b[1;31mKeyboardInterrupt\u001b[0m: "
     ]
    }
   ],
   "source": [
    "for i in range(len(hisIt)):\n",
    "    par = ranRBMpar(N,M)\n",
    "    #gradient descent\n",
    "    gd = minLoader('GradDescent',par, N, M, B, A0)\n",
    "    gdResults.append(gd)\n",
    "    gdState.append(gd[0])\n",
    "    gdTime.append(gd[1])\n",
    "    \n",
    "    \n",
    "    #exact diagonalization \n",
    "    groundState = GroundState(N,B,A0)\n",
    "    ed = groundState()\n",
    "    edState.append(ed[0])\n",
    "    edTime.append(ed[1])\n",
    "    \n",
    "    #Nelder Mead\n",
    "    nm = minLoader('NelderMead',par, N, M, B, A0)\n",
    "    nmState.append(nm[0])\n",
    "    nmTime.append(nm[1])\n",
    "    \n",
    "    #BFGS\n",
    "    bf = minLoader('BFGS',par, N, M, B, A0)\n",
    "    bfState.append(bf[0])\n",
    "    bfTime.append(bf[1])\n",
    "    \n",
    "    #Newton-CG\n",
    "    #newtonCG = NewtonCG(N,B,A0)\n",
    "    #nw = newtonCG(N,M)\n",
    "    #nwState.append(nw[0])\n",
    "    #nwTime.append(nw[1])\n",
    "    \n",
    "    \n",
    "    #Error\n",
    "    gdEngTemp = gd[0][2]\n",
    "    nmEngTemp = nm[0][2]\n",
    "    bfEngTemp = bf[0][2]\n",
    "    edEngTemp = ed[0][0]\n",
    "    #nwEngTemp = nw[0][2]\n",
    "    \n",
    "    ActualEng.append(edEngTemp)\n",
    "    gdStateTemp = gd[0][1]\n",
    "    edStateTemp = ed[0][1]\n",
    "    nmStateTemp = nm[0][1]\n",
    "    bfStateTemp = bf[0][1]\n",
    "    #nwStateTemp = nw[0][1]\n",
    "    \n",
    "    gdErrTemp = err(gdStateTemp,edStateTemp,gdEngTemp,edEngTemp)\n",
    "    nmErrTemp = err(nmStateTemp,edStateTemp,nmEngTemp,edEngTemp)\n",
    "    bfErrTemp = err(bfStateTemp,edStateTemp,bfEngTemp,edEngTemp)\n",
    "    #nwErrTemp = err(nwStateTemp,edStateTemp,nwEngTemp,edEngTemp)\n",
    "    \n",
    "    gdEngErr.append(gdErrTemp[0])\n",
    "    gdStateErr.append(gdErrTemp[1])\n",
    "    nmEngErr.append(nmErrTemp[0])\n",
    "    nmStateErr.append(nmErrTemp[1])\n",
    "    bfEngErr.append(bfErrTemp[0])\n",
    "    bfStateErr.append(bfErrTemp[1])\n",
    "    #nwEngErr.append(nwErrTemp[0])\n",
    "    #nwStateErr.append(nwErrTemp[1])\n"
   ]
  },
  {
   "cell_type": "code",
   "execution_count": null,
   "metadata": {},
   "outputs": [],
   "source": [
    "stateErr = [gdStateErr, nmStateErr, bfStateErr]\n",
    "engErr = [gdEngErr, nmEngErr, bfEngErr]\n",
    "runTime = [gdTime, nmTime, bfTime]"
   ]
  },
  {
   "cell_type": "code",
   "execution_count": null,
   "metadata": {},
   "outputs": [],
   "source": [
    "\n",
    "\n",
    "labels = ['Gradient Descent','Nedler Mead', 'Broyden-Fletcher-Goldfarb-Shanno']\n",
    "colors = ['red','blue','green']\n",
    "plt.figure(constrained_layout=True)\n",
    "plt.figure(figsize=(10,10))\n",
    "ttl = plt.suptitle(\"N = 2, M = 1, B = $\\pi$\",size =20)\n",
    "gs = gridspec.GridSpec(ncols=3, nrows=3, hspace = 0.4)\n",
    "ttl.set_position([.5, 0.92])\n",
    "\n",
    "\n",
    "\n",
    "ax1 = plt.subplot(gs[0, 0])\n",
    "ax1 .hist(stateErr, bins=10, label=labels, color=colors) \n",
    "ax1 .set_xlabel(\"$1-|<\\Psi_{RBM}|\\Psi_{ED}>|^2$\",size = 15)\n",
    "ax1.set_ylabel(\"Frequency\",size = 15)\n",
    "\n",
    "\n",
    "\n",
    "ax2 = plt.subplot(gs[0, 1])\n",
    "ax2.hist(engErr, bins=10, color=colors) \n",
    "ax2.set_xlabel(\"$\\Delta E = |E_{RBM}-E_{ED}|$\",size = 15)\n",
    "\n",
    "\n",
    "\n",
    "ax3 = plt.subplot(gs[0, 2])\n",
    "ax3.hist(runTime, bins=10,color=colors) \n",
    "ax3.set_xlabel(\"Runtime\",size = 15)\n",
    "\n",
    "\n",
    "ax4 = plt.subplot(gs[1, :])\n",
    "ax4.set_yscale('log')\n",
    "ax4.scatter(hisIt,engErr[0],color=colors[0],marker ='v') \n",
    "ax4.scatter(hisIt,engErr[1],color=colors[1],marker ='H') \n",
    "ax4.scatter(hisIt,engErr[2],color=colors[2],marker = '^') \n",
    "ax4 .set_ylabel(\"$\\Delta E = |E_{RBM}-E_{ED}|$\", size = 15)\n",
    "\n",
    "\n",
    "plt.legend(labels, loc = (0, -0.3),fontsize = 12,ncol=3)\n",
    "\n",
    "ax5 = plt.subplot(gs[2, :])\n",
    "ax5.scatter(hisIt,runTime[0],color=colors[0],marker ='v') \n",
    "ax5.scatter(hisIt,runTime[1],color=colors[1],marker ='H') \n",
    "ax5.scatter(hisIt,runTime[2],color=colors[2],marker = '^') \n",
    "ax5.set_xlabel(\"Run Number\",size = 15)\n",
    "ax5 .set_ylabel(\"Runtime\", size = 15)\n",
    "\n",
    "\n",
    "\n",
    "\n",
    "\n",
    "\n",
    "\n",
    "\n",
    "\n",
    "\n"
   ]
  },
  {
   "cell_type": "code",
   "execution_count": 53,
   "metadata": {},
   "outputs": [
    {
     "data": {
      "text/plain": [
       "<matplotlib.legend.Legend at 0x1b4e0f4e808>"
      ]
     },
     "execution_count": 53,
     "metadata": {},
     "output_type": "execute_result"
    },
    {
     "data": {
      "text/plain": [
       "<Figure size 432x288 with 0 Axes>"
      ]
     },
     "metadata": {},
     "output_type": "display_data"
    },
    {
     "data": {
      "image/png": "[encoded data removed]",
      "text/plain": [
       "<Figure size 720x720 with 1 Axes>"
      ]
     },
     "metadata": {
      "needs_background": "light"
     },
     "output_type": "display_data"
    }
   ],
   "source": [
    "labels = ['Gradient Descent','Nedler Mead', 'Broyden-Fletcher-Goldfarb-Shanno']\n",
    "colors = ['red','blue','green']\n",
    "plt.figure(constrained_layout=True)\n",
    "plt.figure(figsize=(10,10))\n",
    "ttl = plt.suptitle(\"N = 2, M = 1, B = $\\pi$\",size =20)\n",
    "gs = gridspec.GridSpec(ncols=1, nrows=1, hspace = 0.4)\n",
    "ttl.set_position([.5, 0.92])\n",
    "\n",
    "\n",
    "ax4 = plt.subplot(gs[0, :])\n",
    "ax4.set_yscale('log')\n",
    "ax4.scatter(hisIt,engErr[0],color=colors[0],marker ='v') \n",
    "ax4.scatter(hisIt,engErr[1],color=colors[1],marker ='H') \n",
    "ax4.scatter(hisIt,engErr[2],color=colors[2],marker = '^') \n",
    "ax4 .set_ylabel(\"$\\Delta E = |E_{RBM}-E_{ED}|$\", size = 15)\n",
    "ax4.set_xlabel(\"Run Number\",size = 15)\n",
    "plt.legend(labels, loc = (0, -0.15),fontsize = 12,ncol=3)\n",
    "\n",
    "\n"
   ]
  },
  {
   "cell_type": "code",
   "execution_count": null,
   "metadata": {},
   "outputs": [],
   "source": [
    "\n",
    "\n"
   ]
  },
  {
   "cell_type": "code",
   "execution_count": null,
   "metadata": {},
   "outputs": [],
   "source": []
  }
 ],
 "metadata": {
  "kernelspec": {
   "display_name": "Python 3",
   "language": "python",
   "name": "python3"
  },
  "language_info": {
   "codemirror_mode": {
    "name": "ipython",
    "version": 3
   },
   "file_extension": ".py",
   "mimetype": "text/x-python",
   "name": "python",
   "nbconvert_exporter": "python",
   "pygments_lexer": "ipython3",
   "version": "3.7.4"
  }
 },
 "nbformat": 4,
 "nbformat_minor": 2
}
