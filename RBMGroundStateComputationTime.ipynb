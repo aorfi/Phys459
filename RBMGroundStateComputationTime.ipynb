{
 "cells": [
  {
   "cell_type": "code",
   "execution_count": 1,
   "metadata": {},
   "outputs": [],
   "source": [
    "from qutip import *\n",
    "import numpy as np\n",
    "import scipy\n",
    "import cmath\n",
    "import matplotlib.pyplot as plt\n",
    "plt.style.use('seaborn')\n",
    "import itertools\n",
    "from numpy.random import seed\n",
    "from numpy.random import rand\n",
    "from itertools import product\n",
    "from scipy.misc import derivative\n",
    "from scipy import optimize\n",
    "from functools import wraps\n",
    "from time import time\n"
   ]
  },
  {
   "cell_type": "code",
   "execution_count": 2,
   "metadata": {},
   "outputs": [],
   "source": [
    "#Wrapper to time functions\n",
    "def timing(f):\n",
    "    @wraps(f)\n",
    "    def wrap(*args, **kw):\n",
    "        ti = time()\n",
    "        result = f(*args, **kw)\n",
    "        tf = time()\n",
    "        t = tf-ti\n",
    "        return result, t\n",
    "    return wrap"
   ]
  },
  {
   "cell_type": "code",
   "execution_count": 3,
   "metadata": {
    "scrolled": true
   },
   "outputs": [],
   "source": [
    "#Make basis and get sz values\n",
    "def operatorCreation(N):\n",
    "    #operator definitionis\n",
    "    si = qeye(2)\n",
    "    sx = 0.5*sigmax()\n",
    "    sy = 0.5*sigmay()\n",
    "    sz = 0.5*sigmaz()\n",
    "\n",
    "    sx_list = []\n",
    "    sy_list = []\n",
    "    sz_list = []\n",
    "    \n",
    "\n",
    "    for n in range(N):\n",
    "        op_list = []\n",
    "        for m in range(N):\n",
    "            op_list.append(si)\n",
    "\n",
    "        op_list[n] = sx\n",
    "        sx_list.append(tensor(op_list))\n",
    "\n",
    "        op_list[n] = sy\n",
    "        sy_list.append(tensor(op_list))\n",
    "\n",
    "        op_list[n] = sz\n",
    "        sz_list.append(tensor(op_list))\n",
    "        \n",
    "        op_list[n] = si\n",
    "    id = tensor(op_list)\n",
    "        \n",
    "    return sx_list, sy_list, sz_list,id"
   ]
  },
  {
   "cell_type": "code",
   "execution_count": 4,
   "metadata": {},
   "outputs": [],
   "source": [
    "#Construct Hamiltonian\n",
    "def hamiltonian(N,B,A0):\n",
    "    sx_list = operatorCreation(N)[0]\n",
    "    sy_list = operatorCreation(N)[1]\n",
    "    sz_list = operatorCreation(N)[2]\n",
    "    H = B*sz_list[0] \n",
    "    for n in range(N-1):\n",
    "        H += A0*sz_list[0]*sz_list[n+1] + A0*sx_list[0]*sx_list[n+1] + A0*sy_list[0]*sy_list[n+1]\n",
    "    return H"
   ]
  },
  {
   "cell_type": "code",
   "execution_count": 5,
   "metadata": {},
   "outputs": [],
   "source": [
    "#Get Ground State Energy and Wavefuntion\n",
    "class GroundState:\n",
    "    \n",
    "    def __init__(self, N, B, A0):\n",
    "        self.hamiltonian = hamiltonian(N, B, A0)\n",
    "     \n",
    "    @timing\n",
    "    def __call__(self):\n",
    "        #find ground state\n",
    "        H = self.hamiltonian\n",
    "        groundState= H.groundstate()\n",
    "        return groundState[0],groundState[1]"
   ]
  },
  {
   "cell_type": "code",
   "execution_count": 6,
   "metadata": {},
   "outputs": [],
   "source": [
    "#Make basis and get sz values\n",
    "def basisCreation(N):\n",
    "    sz_list = operatorCreation(N)[2]\n",
    "    Sbasis = []\n",
    "    basisState = []\n",
    "   \n",
    "    for j in range(2):\n",
    "        basisState.append(basis(2,j))\n",
    "    b = itertools.product(basisState,repeat=N)\n",
    "    basisTensor = list(b)\n",
    "    #makes Sbasis the correct dimesion of Qobj\n",
    "    for i in range(2**N):\n",
    "        c = basisTensor[i][0]\n",
    "        for j in range(N-1):\n",
    "            c = tensor(c,basisTensor[i][j+1])\n",
    "        Sbasis.append(c)\n",
    "\n",
    "    \n",
    "    #get sz values for basis states\n",
    "    sz = np.zeros((2**N,N), dtype = complex)\n",
    "    a = [[1 for j in range(N)] for i in range(2**N)]\n",
    "    for i in range(2**N):\n",
    "        for j in range(N):\n",
    "            #matrix element <bra|Sz|ket>\n",
    "            sz[i][j] = sz_list[j].matrix_element(Sbasis[i],Sbasis[i])\n",
    "    return Sbasis, sz\n"
   ]
  },
  {
   "cell_type": "code",
   "execution_count": 7,
   "metadata": {},
   "outputs": [],
   "source": [
    "#get randomized RBM parameters (between zero and 1)\n",
    "def ranRBMpar(N,M):\n",
    "    par = np.random.rand(2*(N+M+N*M))\n",
    "    return par"
   ]
  },
  {
   "cell_type": "code",
   "execution_count": 8,
   "metadata": {},
   "outputs": [],
   "source": [
    "#Function to give RBM wavefuntion\n",
    "def RBM_ansatz(par,N, M):\n",
    "    Sbasis = basisCreation(N)[0]\n",
    "    sz = basisCreation(N)[1]\n",
    "    #make parmeters complex\n",
    "    num = N+M+N*M\n",
    "    parC = np.vectorize(complex)(par[:num],par[num:])\n",
    "    a = parC[:N]\n",
    "    b = parC[N:N+M]\n",
    "    W = parC[N+M:].reshape(M,N)\n",
    "    expTerm = np.zeros(2**N, dtype = complex)\n",
    "    coshTerm = np.zeros((M,2**N), dtype = complex)\n",
    "    hidProduct = np.zeros(2**N, dtype = complex)\n",
    "    psiMValues = np.zeros(2**N, dtype = complex)\n",
    "    psiM = 0*Sbasis[0]\n",
    "\n",
    "    for i in range(2**N):\n",
    "        for m in range(M):\n",
    "            coshTerm[m][i] = 2*np.cosh(np.dot(W[m],sz[i]) + b[m])\n",
    "    hidProduct = np.prod(coshTerm, axis = 0) \n",
    "    \n",
    "    for i in range(2**N):\n",
    "        expTerm[i] = np.exp(np.dot(a,sz[i]))\n",
    "        psiMValues[i] = expTerm[i]*hidProduct[i]\n",
    "        psiM += psiMValues[i]*Sbasis[i]\n",
    "    psiNorm = psiM.unit()\n",
    "    return psiNorm\n"
   ]
  },
  {
   "cell_type": "code",
   "execution_count": null,
   "metadata": {},
   "outputs": [],
   "source": []
  },
  {
   "cell_type": "code",
   "execution_count": 9,
   "metadata": {},
   "outputs": [],
   "source": [
    "#Variation Energy Definition\n",
    "def varEnergy(par,N, M, H):\n",
    "    psiM = RBM_ansatz(par,N, M)\n",
    "    E = expect(H,psiM)\n",
    "    norm = psiM.norm()**2\n",
    "    Enorm = E/norm\n",
    "    return Enorm"
   ]
  },
  {
   "cell_type": "code",
   "execution_count": 10,
   "metadata": {},
   "outputs": [],
   "source": [
    "#Energy Partials\n",
    "def gradEnergy(par,N, M,H):\n",
    "    eps = 0.001\n",
    "    return optimize.approx_fprime(par,varEnergy,eps, N, M,H)"
   ]
  },
  {
   "cell_type": "code",
   "execution_count": 11,
   "metadata": {},
   "outputs": [],
   "source": [
    "#Gradient Descent\n",
    "class GradDescent:\n",
    "    \n",
    "    def __init__(self, N, B, A0):\n",
    "        self.hamiltonian = hamiltonian(N, B, A0)\n",
    "     \n",
    "    @timing\n",
    "    def __call__(self, N, M):\n",
    "        par = ranRBMpar(N,M)\n",
    "        H = self.hamiltonian\n",
    "        min = scipy.optimize.fmin_cg(varEnergy,par,args= (N,M,H),gtol=1e-04,full_output=True, retall = True, disp=True)\n",
    "        #Ground State\n",
    "        found_gs = RBM_ansatz(min[0],N, M)\n",
    "        found_gs = found_gs.unit()\n",
    "        #Ground State Energy\n",
    "        found_gsEnergy =varEnergy(min[0], N, M,H)\n",
    "\n",
    "        return min, found_gs, found_gsEnergy  "
   ]
  },
  {
   "cell_type": "code",
   "execution_count": 12,
   "metadata": {},
   "outputs": [],
   "source": [
    "#Error Calculation\n",
    "def err(found_gs,gs,found_gsEnergy,gsEnergy):\n",
    "    engErr = np.abs(found_gsEnergy-gsEnergy)\n",
    "    waveFunctionErr = found_gs.dag()*gs\n",
    "    waveFunctionErr = 1-waveFunctionErr.norm()\n",
    "    \n",
    "    return engErr,waveFunctionErr\n"
   ]
  },
  {
   "cell_type": "markdown",
   "metadata": {},
   "source": [
    "# Time and Error Comparion for N=2-4, M=2"
   ]
  },
  {
   "cell_type": "code",
   "execution_count": 15,
   "metadata": {},
   "outputs": [],
   "source": [
    "#Parameter definition \n",
    "N_values = np.arange(2,6)\n",
    "M=2\n",
    "B = 1\n",
    "A0 = 1\n",
    "MgdResults = [] #gives ground state estimation at each iteration of gd\n",
    "MgdState = []\n",
    "MgdTime = []\n",
    "\n",
    "MedState = []\n",
    "MedTime = []\n",
    "\n",
    "ActualEng = []\n",
    "MengErr = []\n",
    "MstateErr = []"
   ]
  },
  {
   "cell_type": "code",
   "execution_count": 26,
   "metadata": {},
   "outputs": [
    {
     "name": "stdout",
     "output_type": "stream",
     "text": [
      "Optimization terminated successfully.\n",
      "         Current function value: -0.749991\n",
      "         Iterations: 84\n",
      "         Function evaluations: 3864\n",
      "         Gradient evaluations: 161\n",
      "Optimization terminated successfully.\n",
      "         Current function value: -0.499964\n",
      "         Iterations: 7\n",
      "         Function evaluations: 864\n",
      "         Gradient evaluations: 27\n",
      "WARNING: Ground state may be degenerate. Use Q.eigenstates()\n",
      "Optimization terminated successfully.\n",
      "         Current function value: -0.749995\n",
      "         Iterations: 2\n",
      "         Function evaluations: 440\n",
      "         Gradient evaluations: 11\n",
      "WARNING: Ground state may be degenerate. Use Q.eigenstates()\n",
      "Optimization terminated successfully.\n",
      "         Current function value: -0.999966\n",
      "         Iterations: 2\n",
      "         Function evaluations: 624\n",
      "         Gradient evaluations: 13\n",
      "WARNING: Ground state may be degenerate. Use Q.eigenstates()\n"
     ]
    }
   ],
   "source": [
    "#vary N value\n",
    "for i in range(N_values.size):\n",
    "    #gradient descent\n",
    "    gradDescent = GradDescent(N_values[i], B, A0)\n",
    "    gd = gradDescent(N_values[i], M)\n",
    "    MgdResults.append(gd)\n",
    "    MgdState.append(gd[0])\n",
    "    MgdTime.append(gd[1])\n",
    "    \n",
    "    \n",
    "    #exact diagonalization \n",
    "    groundState = GroundState(N_values[i],B,A0)\n",
    "    ed = groundState()\n",
    "    MedState.append(ed[0])\n",
    "    MedTime.append(ed[1])\n",
    "    \n",
    "    #Error\n",
    "    gdEng = gd[0][2]\n",
    "    edEng = ed[0][0]\n",
    "    ActualEng.append(edEng)\n",
    "    gdState = gd[0][1]\n",
    "    edState = ed[0][1]\n",
    "    errTemp = err(gdState,edState,gdEng,edEng)\n",
    "    MengErr.append(errTemp[0])\n",
    "    MstateErr.append(errTemp[1])\n"
   ]
  },
  {
   "cell_type": "code",
   "execution_count": 27,
   "metadata": {
    "scrolled": true
   },
   "outputs": [
    {
     "name": "stdout",
     "output_type": "stream",
     "text": [
      "Gradient Descent Time:  [44.884846448898315, 18.235846996307373, 19.25109624862671, 55.71874284744263]\n",
      "Exact Diagonalization Time:  [0.0009975433349609375, 0.002107858657836914, 0.001995563507080078, 0.0009534358978271484]\n",
      "Energy Error:  [8.895730871261165e-06, 0.5000355631677582, 0.5000047447742092, 0.5000340692266205]\n",
      "Wavefunction Error:  [4.447875327273643e-06, 0.1835223514039258, 0.9976577445351238, 0.4871456699418011]\n"
     ]
    }
   ],
   "source": [
    "print('Gradient Descent Time: ', MgdTime)\n",
    "print('Exact Diagonalization Time: ', MedTime)\n",
    "print('Energy Error: ', MengErr)\n",
    "print('Wavefunction Error: ', MstateErr)\n"
   ]
  },
  {
   "cell_type": "code",
   "execution_count": 28,
   "metadata": {},
   "outputs": [
    {
     "data": {
      "image/png": "[encoded data removed]",
      "text/plain": [
       "<Figure size 720x720 with 3 Axes>"
      ]
     },
     "metadata": {
      "needs_background": "light"
     },
     "output_type": "display_data"
    }
   ],
   "source": [
    "plt.figure(figsize=(10,10))\n",
    "ttl = plt.suptitle(\"M = 2, B = 1\",size =20)\n",
    "ttl.set_position([.5, 0.92])\n",
    "ax1 = plt.subplot(2,1,1)\n",
    "\n",
    "color = 'tab:red'\n",
    "ax1.set_xlabel('N Value')\n",
    "ax1.set_ylabel('Wavefunction Error', color=color)\n",
    "ax1.plot(N_values, MstateErr,color=color)\n",
    "ax1.scatter(N_values, MstateErr,color=color)\n",
    "ax1.tick_params(axis='y', labelcolor=color)\n",
    "\n",
    "ax2 = ax1.twinx()  \n",
    "\n",
    "color = 'tab:blue'\n",
    "ax2.set_ylabel('Energy Error', color=color)  \n",
    "ax2.plot(N_values, MengErr, color=color)\n",
    "ax2.scatter(N_values, MengErr, color=color)\n",
    "ax2.tick_params(axis='y', labelcolor=color)\n",
    "\n",
    "ax3 = plt.subplot(2,1,2)\n",
    "\n",
    "color = 'tab:red'\n",
    "ax3.set_xlabel('N Value')\n",
    "ax3.set_ylabel('Time (s)')\n",
    "ax3.plot(N_values, MgdTime,color=color)\n",
    "ax3.scatter(N_values, MgdTime,color=color, label = ' Gradient Descent')\n",
    "color = 'tab:blue'\n",
    "ax3.plot(N_values, MedTime, color=color)\n",
    "ax3.scatter(N_values, MedTime, color=color, label = 'Exact Diagonalization')\n",
    "ax3.legend()\n",
    "plt.show()"
   ]
  },
  {
   "cell_type": "markdown",
   "metadata": {},
   "source": [
    "Individual Error vs Iteration"
   ]
  },
  {
   "cell_type": "code",
   "execution_count": 29,
   "metadata": {},
   "outputs": [
    {
     "data": {
      "text/plain": [
       "[<matplotlib.lines.Line2D at 0x2299e319c48>]"
      ]
     },
     "execution_count": 29,
     "metadata": {},
     "output_type": "execute_result"
    },
    {
     "data": {
      "image/png": "[encoded data removed]",
      "text/plain": [
       "<Figure size 720x720 with 2 Axes>"
      ]
     },
     "metadata": {
      "needs_background": "light"
     },
     "output_type": "display_data"
    }
   ],
   "source": [
    "#N=2 groundstate error\n",
    "N=2\n",
    "parResults =MgdResults[N-2][0][0][5]\n",
    "numIter = len(parResults)\n",
    "iter = np.arange(numIter)\n",
    "state = []\n",
    "eng = []\n",
    "stateErr = []\n",
    "engErr = []\n",
    "\n",
    "\n",
    "gs = MedState[N-2][1] \n",
    "gsEng = ActualEng[N-2]\n",
    "\n",
    "#find state at each iteration\n",
    "for i in range(numIter):\n",
    "    stateIter = RBM_ansatz(parResults[i],N, M)\n",
    "    state.append(stateIter)\n",
    "    engIter = varEnergy(parResults[i],N, M, hamiltonian(N, B, A0))\n",
    "    eng.append(engIter)\n",
    "    errIter = err(stateIter,gs,engIter,gsEng)\n",
    "    stateErr.append(errIter[1])\n",
    "    engErr.append(errIter[0])\n",
    "    \n",
    "\n",
    "\n",
    "plt.figure(figsize=(10,10))\n",
    "ttl = plt.suptitle(\"N = 2, M = 2\",size =20)\n",
    "ttl.set_position([.5, 0.92])\n",
    "\n",
    "ax1 = plt.subplot(2,1,1)\n",
    "ax1.set_xlabel('Iteration')\n",
    "ax1.set_ylabel('Wavefunction Error')\n",
    "ax1.plot(iter, stateErr)\n",
    "\n",
    "ax2 = plt.subplot(2,1,2)\n",
    "ax2.set_xlabel('Iteration')\n",
    "ax2.set_ylabel('Energy Error (Minimized by Gradient Descent)')\n",
    "ax2.plot(iter, engErr)"
   ]
  },
  {
   "cell_type": "code",
   "execution_count": 30,
   "metadata": {},
   "outputs": [
    {
     "data": {
      "text/plain": [
       "[<matplotlib.lines.Line2D at 0x2299f3c8c88>]"
      ]
     },
     "execution_count": 30,
     "metadata": {},
     "output_type": "execute_result"
    },
    {
     "data": {
      "image/png": "[encoded data removed]",
      "text/plain": [
       "<Figure size 720x720 with 2 Axes>"
      ]
     },
     "metadata": {
      "needs_background": "light"
     },
     "output_type": "display_data"
    }
   ],
   "source": [
    "#N=3 groundstate error\n",
    "N=3\n",
    "parResults =MgdResults[N-2][0][0][5]\n",
    "numIter = len(parResults)\n",
    "iter = np.arange(numIter)\n",
    "state = []\n",
    "eng = []\n",
    "stateErr = []\n",
    "engErr = []\n",
    "\n",
    "\n",
    "gs = MedState[N-2][1] \n",
    "gsEng = ActualEng[N-2]\n",
    "\n",
    "#find state at each iteration\n",
    "for i in range(numIter):\n",
    "    stateIter = RBM_ansatz(parResults[i],N, M)\n",
    "    state.append(stateIter)\n",
    "    engIter = varEnergy(parResults[i],N, M, hamiltonian(N, B, A0))\n",
    "    eng.append(engIter)\n",
    "    errIter = err(stateIter,gs,engIter,gsEng)\n",
    "    stateErr.append(errIter[1])\n",
    "    engErr.append(errIter[0])\n",
    "    \n",
    "plt.figure(figsize=(10,10))\n",
    "ttl = plt.suptitle(\"N = 3, M = 2\",size =20)\n",
    "ttl.set_position([.5, 0.92])\n",
    "\n",
    "ax1 = plt.subplot(2,1,1)\n",
    "ax1.set_xlabel('Iteration')\n",
    "ax1.set_ylabel('Wavefunction Error')\n",
    "ax1.plot(iter, stateErr)\n",
    "\n",
    "ax2 = plt.subplot(2,1,2)\n",
    "ax2.set_xlabel('Iteration')\n",
    "ax2.set_ylabel('Energy Error (Minimized by Gradient Descent)')\n",
    "ax2.plot(iter, engErr)\n"
   ]
  },
  {
   "cell_type": "code",
   "execution_count": 31,
   "metadata": {},
   "outputs": [
    {
     "data": {
      "text/plain": [
       "[<matplotlib.lines.Line2D at 0x2299f5a3548>]"
      ]
     },
     "execution_count": 31,
     "metadata": {},
     "output_type": "execute_result"
    },
    {
     "data": {
      "image/png": "[encoded data removed]",
      "text/plain": [
       "<Figure size 720x720 with 2 Axes>"
      ]
     },
     "metadata": {
      "needs_background": "light"
     },
     "output_type": "display_data"
    }
   ],
   "source": [
    "#N=4 groundstate error\n",
    "N=4\n",
    "parResults =MgdResults[N-2][0][0][5]\n",
    "numIter = len(parResults)\n",
    "iter = np.arange(numIter)\n",
    "state = []\n",
    "eng = []\n",
    "stateErr = []\n",
    "engErr = []\n",
    "\n",
    "\n",
    "gs = MedState[N-2][1] \n",
    "gsEng = ActualEng[N-2]\n",
    "\n",
    "#find state at each iteration\n",
    "for i in range(numIter):\n",
    "    stateIter = RBM_ansatz(parResults[i],N, M)\n",
    "    state.append(stateIter)\n",
    "    engIter = varEnergy(parResults[i],N, M, hamiltonian(N, B, A0))\n",
    "    eng.append(engIter)\n",
    "    errIter = err(stateIter,gs,engIter,gsEng)\n",
    "    stateErr.append(errIter[1])\n",
    "    engErr.append(errIter[0])\n",
    "    \n",
    "plt.figure(figsize=(10,10))\n",
    "ttl = plt.suptitle(\"N = 4, M = 2\",size =20)\n",
    "ttl.set_position([.5, 0.92])\n",
    "\n",
    "ax1 = plt.subplot(2,1,1)\n",
    "ax1.set_xlabel('Iteration')\n",
    "ax1.set_ylabel('Wavefunction Error')\n",
    "ax1.plot(iter, stateErr)\n",
    "\n",
    "ax2 = plt.subplot(2,1,2)\n",
    "ax2.set_xlabel('Iteration')\n",
    "ax2.set_ylabel('Energy Error (Minimized by Gradient Descent)')\n",
    "ax2.plot(iter, engErr)\n"
   ]
  },
  {
   "cell_type": "markdown",
   "metadata": {},
   "source": [
    "# Time and Error Comparion for N=2-4, M=3"
   ]
  },
  {
   "cell_type": "code",
   "execution_count": 32,
   "metadata": {},
   "outputs": [],
   "source": [
    "#Parameter definition \n",
    "N_values = np.arange(2,6)\n",
    "M=3\n",
    "B = 1\n",
    "A0 = 1\n",
    "MgdResults = [] #gives ground state estimation at each iteration of gd\n",
    "MgdState = []\n",
    "MgdTime = []\n",
    "\n",
    "MedState = []\n",
    "MedTime = []\n",
    "\n",
    "ActualEng = []\n",
    "MengErr = []\n",
    "MstateErr = []"
   ]
  },
  {
   "cell_type": "code",
   "execution_count": null,
   "metadata": {},
   "outputs": [
    {
     "name": "stdout",
     "output_type": "stream",
     "text": [
      "Optimization terminated successfully.\n",
      "         Current function value: -0.957107\n",
      "         Iterations: 15\n",
      "         Function evaluations: 648\n",
      "         Gradient evaluations: 27\n"
     ]
    }
   ],
   "source": [
    "#vary N value\n",
    "for i in range(N_values.size):\n",
    "    #gradient descent\n",
    "    gradDescent = GradDescent(N_values[i], B, A0)\n",
    "    gd = gradDescent(N_values[i], M)\n",
    "    MgdResults.append(gd)\n",
    "    MgdState.append(gd[0])\n",
    "    MgdTime.append(gd[1])\n",
    "    \n",
    "    \n",
    "    #exact diagonalization \n",
    "    groundState = GroundState(N_values[i],B,A0)\n",
    "    ed = groundState()\n",
    "    MedState.append(ed[0])\n",
    "    MedTime.append(ed[1])\n",
    "    \n",
    "    #Error\n",
    "    gdEng = gd[0][2]\n",
    "    edEng = ed[0][0]\n",
    "    ActualEng.append(edEng)\n",
    "    gdState = gd[0][1]\n",
    "    edState = ed[0][1]\n",
    "    errTemp = err(gdState,edState,gdEng,edEng)\n",
    "    MengErr.append(errTemp[0])\n",
    "    MstateErr.append(errTemp[1])\n"
   ]
  },
  {
   "cell_type": "code",
   "execution_count": null,
   "metadata": {},
   "outputs": [],
   "source": [
    "print('Gradient Descent Time: ', MgdTime)\n",
    "print('Exact Diagonalization Time: ', MedTime)\n",
    "print('Energy Error: ', MengErr)\n",
    "print('Wavefunction Error: ', MstateErr)"
   ]
  },
  {
   "cell_type": "code",
   "execution_count": null,
   "metadata": {},
   "outputs": [],
   "source": [
    "plt.figure(figsize=(10,10))\n",
    "ttl = plt.suptitle(\"M = 3\",size =20)\n",
    "ttl.set_position([.5, 0.92])\n",
    "ax1 = plt.subplot(2,1,1)\n",
    "\n",
    "color = 'tab:red'\n",
    "ax1.set_xlabel('N Value')\n",
    "ax1.set_ylabel('Wavefunction Error', color=color)\n",
    "ax1.plot(N_values, MstateErr,color=color)\n",
    "ax1.scatter(N_values, MstateErr,color=color)\n",
    "ax1.tick_params(axis='y', labelcolor=color)\n",
    "\n",
    "ax2 = ax1.twinx()  \n",
    "\n",
    "color = 'tab:blue'\n",
    "ax2.set_ylabel('Energy Error', color=color)  \n",
    "ax2.plot(N_values, MengErr, color=color)\n",
    "ax2.scatter(N_values, MengErr, color=color)\n",
    "ax2.tick_params(axis='y', labelcolor=color)\n",
    "\n",
    "ax3 = plt.subplot(2,1,2)\n",
    "\n",
    "color = 'tab:red'\n",
    "ax3.set_xlabel('N Value')\n",
    "ax3.set_ylabel('Time (s)')\n",
    "ax3.plot(N_values, MgdTime,color=color)\n",
    "ax3.scatter(N_values, MgdTime,color=color, label = ' Gradient Descent')\n",
    "color = 'tab:blue'\n",
    "ax3.plot(N_values, MedTime, color=color)\n",
    "ax3.scatter(N_values, MedTime, color=color, label = 'Exact Diagonalization')\n",
    "ax3.legend()\n",
    "plt.show()"
   ]
  },
  {
   "cell_type": "code",
   "execution_count": null,
   "metadata": {},
   "outputs": [],
   "source": [
    "#N=2 groundstate error\n",
    "N=2\n",
    "parResults =MgdResults[N-2][0][0][5]\n",
    "numIter = len(parResults)\n",
    "iter = np.arange(numIter)\n",
    "state = []\n",
    "eng = []\n",
    "stateErr = []\n",
    "engErr = []\n",
    "\n",
    "\n",
    "gs = MedState[N-2][1] \n",
    "gsEng = ActualEng[N-2]\n",
    "\n",
    "#find state at each iteration\n",
    "for i in range(numIter):\n",
    "    stateIter = RBM_ansatz(parResults[i],N, M)\n",
    "    state.append(stateIter)\n",
    "    engIter = varEnergy(parResults[i],N, M, hamiltonian(N, B, A0))\n",
    "    eng.append(engIter)\n",
    "    errIter = err(stateIter,gs,engIter,gsEng)\n",
    "    stateErr.append(errIter[1])\n",
    "    engErr.append(errIter[0])\n",
    "    \n",
    "\n",
    "\n",
    "plt.figure(figsize=(10,10))\n",
    "ttl = plt.suptitle(\"N = 2, M = 3\",size =20)\n",
    "ttl.set_position([.5, 0.92])\n",
    "\n",
    "ax1 = plt.subplot(2,1,1)\n",
    "ax1.set_xlabel('Iteration')\n",
    "ax1.set_ylabel('Wavefunction Error')\n",
    "ax1.plot(iter, stateErr)\n",
    "\n",
    "ax2 = plt.subplot(2,1,2)\n",
    "ax2.set_xlabel('Iteration')\n",
    "ax2.set_ylabel('Energy Error (Minimized by Gradient Descent)')\n",
    "ax2.plot(iter, engErr)"
   ]
  },
  {
   "cell_type": "code",
   "execution_count": null,
   "metadata": {},
   "outputs": [],
   "source": [
    "#N=3 groundstate error\n",
    "N=3\n",
    "parResults =MgdResults[N-2][0][0][5]\n",
    "numIter = len(parResults)\n",
    "iter = np.arange(numIter)\n",
    "state = []\n",
    "eng = []\n",
    "stateErr = []\n",
    "engErr = []\n",
    "\n",
    "\n",
    "gs = MedState[N-2][1] \n",
    "gsEng = ActualEng[N-2]\n",
    "\n",
    "#find state at each iteration\n",
    "for i in range(numIter):\n",
    "    stateIter = RBM_ansatz(parResults[i],N, M)\n",
    "    state.append(stateIter)\n",
    "    engIter = varEnergy(parResults[i],N, M, hamiltonian(N, B, A0))\n",
    "    eng.append(engIter)\n",
    "    errIter = err(stateIter,gs,engIter,gsEng)\n",
    "    stateErr.append(errIter[1])\n",
    "    engErr.append(errIter[0])\n",
    "    \n",
    "plt.figure(figsize=(10,10))\n",
    "ttl = plt.suptitle(\"N = 3, M = 3\",size =20)\n",
    "ttl.set_position([.5, 0.92])\n",
    "\n",
    "ax1 = plt.subplot(2,1,1)\n",
    "ax1.set_xlabel('Iteration')\n",
    "ax1.set_ylabel('Wavefunction Error')\n",
    "ax1.plot(iter, stateErr)\n",
    "\n",
    "ax2 = plt.subplot(2,1,2)\n",
    "ax2.set_xlabel('Iteration')\n",
    "ax2.set_ylabel('Energy Error (Minimized by Gradient Descent)')\n",
    "ax2.plot(iter, engErr)\n"
   ]
  },
  {
   "cell_type": "code",
   "execution_count": null,
   "metadata": {},
   "outputs": [],
   "source": [
    "#N=4 groundstate error\n",
    "N=4\n",
    "parResults =MgdResults[N-2][0][0][5]\n",
    "numIter = len(parResults)\n",
    "iter = np.arange(numIter)\n",
    "state = []\n",
    "eng = []\n",
    "stateErr = []\n",
    "engErr = []\n",
    "\n",
    "\n",
    "gs = MedState[N-2][1] \n",
    "gsEng = ActualEng[N-2]\n",
    "\n",
    "#find state at each iteration\n",
    "for i in range(numIter):\n",
    "    stateIter = RBM_ansatz(parResults[i],N, M)\n",
    "    state.append(stateIter)\n",
    "    engIter = varEnergy(parResults[i],N, M, hamiltonian(N, B, A0))\n",
    "    eng.append(engIter)\n",
    "    errIter = err(stateIter,gs,engIter,gsEng)\n",
    "    stateErr.append(errIter[1])\n",
    "    engErr.append(errIter[0])\n",
    "    \n",
    "plt.figure(figsize=(10,10))\n",
    "ttl = plt.suptitle(\"N = 4, M = 3\",size =20)\n",
    "ttl.set_position([.5, 0.92])\n",
    "\n",
    "ax1 = plt.subplot(2,1,1)\n",
    "ax1.set_xlabel('Iteration')\n",
    "ax1.set_ylabel('Wavefunction Error')\n",
    "ax1.plot(iter, stateErr)\n",
    "\n",
    "ax2 = plt.subplot(2,1,2)\n",
    "ax2.set_xlabel('Iteration')\n",
    "ax2.set_ylabel('Energy Error (Minimized by Gradient Descent)')\n",
    "ax2.plot(iter, engErr)\n"
   ]
  },
  {
   "cell_type": "code",
   "execution_count": null,
   "metadata": {},
   "outputs": [],
   "source": []
  },
  {
   "cell_type": "code",
   "execution_count": null,
   "metadata": {},
   "outputs": [],
   "source": []
  },
  {
   "cell_type": "code",
   "execution_count": null,
   "metadata": {},
   "outputs": [],
   "source": []
  }
 ],
 "metadata": {
  "kernelspec": {
   "display_name": "Python 3",
   "language": "python",
   "name": "python3"
  },
  "language_info": {
   "codemirror_mode": {
    "name": "ipython",
    "version": 3
   },
   "file_extension": ".py",
   "mimetype": "text/x-python",
   "name": "python",
   "nbconvert_exporter": "python",
   "pygments_lexer": "ipython3",
   "version": "3.7.4"
  }
 },
 "nbformat": 4,
 "nbformat_minor": 2
}
